{
  "nbformat": 4,
  "nbformat_minor": 0,
  "metadata": {
    "colab": {
      "provenance": [],
      "authorship_tag": "ABX9TyM+aTY1H5+8J2SzzkP8/L1t",
      "include_colab_link": true
    },
    "kernelspec": {
      "name": "python3",
      "display_name": "Python 3"
    },
    "language_info": {
      "name": "python"
    }
  },
  "cells": [
    {
      "cell_type": "markdown",
      "metadata": {
        "id": "view-in-github",
        "colab_type": "text"
      },
      "source": [
        "<a href=\"https://colab.research.google.com/github/05satyam/AI-ML/blob/main/generating_interactive_human_readable_graphs_from_pdf_dcouments_using_llm.ipynb\" target=\"_parent\"><img src=\"https://colab.research.google.com/assets/colab-badge.svg\" alt=\"Open In Colab\"/></a>"
      ]
    },
    {
      "cell_type": "markdown",
      "source": [
        "# Overview\n",
        "\n",
        "This implementation demonstrates how to extract textual content from PDF files, analyze it using GPT-4 to generate graph nodes and edges, and visualize the relationships as an interactive graph using Plotly. The process adds metadata like page numbers and content summaries to enhance the graph's usability.\n",
        "\n",
        "\n",
        "## Notebook Structure\n",
        "- Setup: Install and import required libraries.\n",
        "- Functions:\n",
        "  - extract_text_from_pdf\n",
        "  - analyze_with_gpt\n",
        "  - parse_gpt_output\n",
        "  - render_human_readable_graph\n",
        "\n",
        "- Execution:\n",
        "  - Call main(pdf_path, api_key) with appropriate arguments.\n",
        "\n",
        "\n",
        "\n",
        "## One of my usecase:\n",
        " - I have used it for my stem-opt application and keeping track of my apartment lease. As these documents are big to go through and usually cant be shared publically, so i generated graphs relation to understand the flow and related components.\n",
        "\n",
        " - And also for Research Papers\n",
        "  - For Example: Visualize the structure of a research paper, highlighting:\n",
        "\n",
        "   - Key sections (e.g., Introduction, Methodology, Results, Discussion).\n",
        "   - Relationships between hypotheses, experiments, and results.\n",
        "   - References to external works with page-level summaries.\n",
        "   - Output: A graph showing how different sections are interconnected, with summaries and page numbers for quick navigation.\n"
      ],
      "metadata": {
        "id": "O5uADTnU2HUO"
      }
    },
    {
      "cell_type": "code",
      "execution_count": null,
      "metadata": {
        "id": "bENab05odLm6"
      },
      "outputs": [],
      "source": [
        "!pip install fitz openai networkx pyvis matplotlib\n"
      ]
    },
    {
      "cell_type": "code",
      "source": [
        "!pip install pymupdf"
      ],
      "metadata": {
        "colab": {
          "base_uri": "https://localhost:8080/"
        },
        "id": "VHzX4VSRfnYG",
        "outputId": "6e5860b3-b5e5-4996-febe-2a6d633c84f9"
      },
      "execution_count": null,
      "outputs": [
        {
          "output_type": "stream",
          "name": "stdout",
          "text": [
            "Collecting pymupdf\n",
            "  Downloading PyMuPDF-1.24.14-cp39-abi3-manylinux2014_x86_64.manylinux_2_17_x86_64.whl.metadata (3.4 kB)\n",
            "Downloading PyMuPDF-1.24.14-cp39-abi3-manylinux2014_x86_64.manylinux_2_17_x86_64.whl (19.8 MB)\n",
            "\u001b[2K   \u001b[90m━━━━━━━━━━━━━━━━━━━━━━━━━━━━━━━━━━━━━━━━\u001b[0m \u001b[32m19.8/19.8 MB\u001b[0m \u001b[31m33.4 MB/s\u001b[0m eta \u001b[36m0:00:00\u001b[0m\n",
            "\u001b[?25hInstalling collected packages: pymupdf\n",
            "Successfully installed pymupdf-1.24.14\n"
          ]
        }
      ]
    },
    {
      "cell_type": "code",
      "source": [
        "!pip install pyvis jinja2\n"
      ],
      "metadata": {
        "colab": {
          "base_uri": "https://localhost:8080/"
        },
        "id": "Hv8V8SaMjKO4",
        "outputId": "426017e0-5649-4aca-d549-b216123ddc2e"
      },
      "execution_count": null,
      "outputs": [
        {
          "output_type": "stream",
          "name": "stdout",
          "text": [
            "Requirement already satisfied: pyvis in /usr/local/lib/python3.10/dist-packages (0.3.2)\n",
            "Requirement already satisfied: jinja2 in /usr/local/lib/python3.10/dist-packages (3.1.4)\n",
            "Requirement already satisfied: ipython>=5.3.0 in /usr/local/lib/python3.10/dist-packages (from pyvis) (7.34.0)\n",
            "Requirement already satisfied: jsonpickle>=1.4.1 in /usr/local/lib/python3.10/dist-packages (from pyvis) (4.0.0)\n",
            "Requirement already satisfied: networkx>=1.11 in /usr/local/lib/python3.10/dist-packages (from pyvis) (3.4.2)\n",
            "Requirement already satisfied: MarkupSafe>=2.0 in /usr/local/lib/python3.10/dist-packages (from jinja2) (3.0.2)\n",
            "Requirement already satisfied: setuptools>=18.5 in /usr/local/lib/python3.10/dist-packages (from ipython>=5.3.0->pyvis) (75.1.0)\n",
            "Requirement already satisfied: jedi>=0.16 in /usr/local/lib/python3.10/dist-packages (from ipython>=5.3.0->pyvis) (0.19.2)\n",
            "Requirement already satisfied: decorator in /usr/local/lib/python3.10/dist-packages (from ipython>=5.3.0->pyvis) (4.4.2)\n",
            "Requirement already satisfied: pickleshare in /usr/local/lib/python3.10/dist-packages (from ipython>=5.3.0->pyvis) (0.7.5)\n",
            "Requirement already satisfied: traitlets>=4.2 in /usr/local/lib/python3.10/dist-packages (from ipython>=5.3.0->pyvis) (5.7.1)\n",
            "Requirement already satisfied: prompt-toolkit!=3.0.0,!=3.0.1,<3.1.0,>=2.0.0 in /usr/local/lib/python3.10/dist-packages (from ipython>=5.3.0->pyvis) (3.0.48)\n",
            "Requirement already satisfied: pygments in /usr/local/lib/python3.10/dist-packages (from ipython>=5.3.0->pyvis) (2.18.0)\n",
            "Requirement already satisfied: backcall in /usr/local/lib/python3.10/dist-packages (from ipython>=5.3.0->pyvis) (0.2.0)\n",
            "Requirement already satisfied: matplotlib-inline in /usr/local/lib/python3.10/dist-packages (from ipython>=5.3.0->pyvis) (0.1.7)\n",
            "Requirement already satisfied: pexpect>4.3 in /usr/local/lib/python3.10/dist-packages (from ipython>=5.3.0->pyvis) (4.9.0)\n",
            "Requirement already satisfied: parso<0.9.0,>=0.8.4 in /usr/local/lib/python3.10/dist-packages (from jedi>=0.16->ipython>=5.3.0->pyvis) (0.8.4)\n",
            "Requirement already satisfied: ptyprocess>=0.5 in /usr/local/lib/python3.10/dist-packages (from pexpect>4.3->ipython>=5.3.0->pyvis) (0.7.0)\n",
            "Requirement already satisfied: wcwidth in /usr/local/lib/python3.10/dist-packages (from prompt-toolkit!=3.0.0,!=3.0.1,<3.1.0,>=2.0.0->ipython>=5.3.0->pyvis) (0.2.13)\n"
          ]
        }
      ]
    },
    {
      "cell_type": "markdown",
      "source": [
        "## Step-by-Step Explanation"
      ],
      "metadata": {
        "id": "kNNYH6J52Wdy"
      }
    },
    {
      "cell_type": "markdown",
      "source": [
        "\n",
        "### 1. Import Necessary Libraries\n",
        "Before starting, import the essential libraries for handling PDF content, API interactions, and graph visualization:"
      ],
      "metadata": {
        "id": "J8jrJVBO2Tvj"
      }
    },
    {
      "cell_type": "code",
      "source": [
        "import fitz  # For PDF text extraction\n",
        "from openai import OpenAI  # For GPT-4 API\n",
        "import json\n",
        "import networkx as nx  # For graph processing\n",
        "import plotly.graph_objects as go  # For graph visualization"
      ],
      "metadata": {
        "id": "PY6TVuo_dbNJ"
      },
      "execution_count": null,
      "outputs": []
    },
    {
      "cell_type": "markdown",
      "source": [
        "### 2. Extract Text from the PDF\n",
        "Define a function to extract all text from the given PDF file using PyMuPDF (fitz):"
      ],
      "metadata": {
        "id": "l34UGCEt2avt"
      }
    },
    {
      "cell_type": "code",
      "source": [
        "\n",
        "# Step 1: Extract text from the PDF\n",
        "def extract_text_from_pdf(pdf_path):\n",
        "    doc = fitz.open(pdf_path)\n",
        "    text = \"\"\n",
        "    for page in doc:\n",
        "        text += page.get_text()\n",
        "    doc.close()\n",
        "    return text\n"
      ],
      "metadata": {
        "id": "BulWf0M0fsEm"
      },
      "execution_count": null,
      "outputs": []
    },
    {
      "cell_type": "markdown",
      "source": [
        "### 3. Analyze Extracted Content with GPT-4\n",
        "\n",
        "Use GPT-4 to analyze the content and generate a JSON object containing nodes and edges for the graph:"
      ],
      "metadata": {
        "id": "OIFttC452d-M"
      }
    },
    {
      "cell_type": "code",
      "source": [
        "from openai import OpenAI\n",
        "def analyze_with_gpt(content, api_key, prompt_template):\n",
        "  client = OpenAI(api_key=api_key)\n",
        "  completion = client.chat.completions.create(\n",
        "      model=\"gpt-4o\",\n",
        "      messages=[\n",
        "              {\"role\": \"system\", \"content\": \"You are a helpful assistant that processes PDF content for graph generation.\"},\n",
        "              {\"role\": \"user\", \"content\": prompt_template.format(content=content)}\n",
        "          ]\n",
        "  )\n",
        "  gpt_output = completion.choices[0].message.content.strip()\n",
        "  if not gpt_output:\n",
        "        raise ValueError(\"GPT-4 returned an empty response.\")\n",
        "  return gpt_output\n"
      ],
      "metadata": {
        "id": "R8Zf3_NKhUXV"
      },
      "execution_count": null,
      "outputs": []
    },
    {
      "cell_type": "markdown",
      "source": [
        "### 4. Parse the GPT-4 Output\n",
        "\n",
        "Define a function to parse GPT-4's JSON output and extract nodes and edges. Include a fallback mechanism for invalid responses:"
      ],
      "metadata": {
        "id": "75oP6eGA2hg9"
      }
    },
    {
      "cell_type": "code",
      "source": [
        "import json\n",
        "import networkx as nx\n",
        "from pyvis.network import Network\n",
        "\n",
        "def parse_gpt_output(gpt_output):\n",
        "    \"\"\"\n",
        "    Parses GPT-4 output JSON into nodes and edges, including metadata like page numbers.\n",
        "    \"\"\"\n",
        "    fallback_data = {\n",
        "        \"nodes\": [\n",
        "            {\"id\": \"1\", \"label\": \"Fallback Node 1\", \"group\": \"Fallback\", \"page\": None, \"summary\": None},\n",
        "            {\"id\": \"2\", \"label\": \"Fallback Node 2\", \"group\": \"Fallback\", \"page\": None, \"summary\": None}\n",
        "        ],\n",
        "        \"edges\": [\n",
        "            {\"source\": \"1\", \"target\": \"2\", \"label\": \"Fallback Edge\"}\n",
        "        ]\n",
        "    }\n",
        "    try:\n",
        "        gpt_output = gpt_output.strip(\"`\").strip()\n",
        "        data = json.loads(gpt_output)\n",
        "        nodes = data.get(\"nodes\", [])\n",
        "        edges = data.get(\"edges\", [])\n",
        "        print(f\"Nodes: {nodes}\")\n",
        "        print(f\"Edges: {edges}\")\n",
        "\n",
        "        if not nodes or not edges:\n",
        "            print(\"Using fallback data due to missing nodes or edges.\")\n",
        "            return fallback_data[\"nodes\"], fallback_data[\"edges\"]\n",
        "        return nodes, edges\n",
        "    except json.JSONDecodeError as e:\n",
        "        print(f\"Error decoding JSON: {e}. Using fallback data.\")\n",
        "        return fallback_data[\"nodes\"], fallback_data[\"edges\"]\n"
      ],
      "metadata": {
        "id": "qv2RKu8ciUbL"
      },
      "execution_count": null,
      "outputs": []
    },
    {
      "cell_type": "markdown",
      "source": [
        "### 5. Generate the Human-Readable Graph\n",
        "\n",
        "Visualize the graph with Plotly, highlighting starting points and displaying metadata (e.g., page numbers and summaries):\n",
        "\n",
        "#### Features:\n",
        "- Nodes include metadata (e.g., page numbers, summaries).\n",
        "- Edges display relationships as labels.\n",
        "- Starting nodes are highlighted in red.\n"
      ],
      "metadata": {
        "id": "hDZeBYxl2lKK"
      }
    },
    {
      "cell_type": "code",
      "source": [
        "def render_human_readable_graph(nodes, edges, starting_nodes):\n",
        "    \"\"\"\n",
        "    Renders a human-readable graph with Plotly, including metadata like page numbers and summaries.\n",
        "    \"\"\"\n",
        "    graph = nx.DiGraph()  # Use directed graph\n",
        "\n",
        "    # Add nodes\n",
        "    for node in nodes:\n",
        "        graph.add_node(\n",
        "            node[\"id\"],\n",
        "            label=node[\"label\"],\n",
        "            group=node.get(\"group\", \"Default\"),\n",
        "            page=node.get(\"page\", \"Unknown\"),\n",
        "            summary=node.get(\"summary\", \"No details available\")\n",
        "        )\n",
        "\n",
        "    # Add edges\n",
        "    for edge in edges:\n",
        "        graph.add_edge(edge[\"source\"], edge[\"target\"], label=edge.get(\"label\", \"\"))\n",
        "\n",
        "    # Compute positions for nodes\n",
        "    pos = nx.spring_layout(graph)\n",
        "\n",
        "    # Highlight starting nodes\n",
        "    starting_node_ids = set(starting_nodes)\n",
        "\n",
        "    # Prepare edge traces\n",
        "    edge_x = []\n",
        "    edge_y = []\n",
        "    annotations = []\n",
        "    for edge in graph.edges(data=True):\n",
        "        x0, y0 = pos[edge[0]]\n",
        "        x1, y1 = pos[edge[1]]\n",
        "        edge_x.extend([x0, x1, None])\n",
        "        edge_y.extend([y0, y1, None])\n",
        "\n",
        "        # Add arrow annotation for each edge\n",
        "        annotations.append(\n",
        "            dict(\n",
        "                ax=x0, ay=y0, x=x1, y=y1,\n",
        "                xref=\"x\", yref=\"y\", axref=\"x\", ayref=\"y\",\n",
        "                showarrow=True,\n",
        "                arrowhead=3,\n",
        "                arrowsize=2,\n",
        "                arrowwidth=1.5,\n",
        "                arrowcolor=\"#888\",\n",
        "                text=edge[2].get(\"label\", \"\")  # Human-readable label\n",
        "            )\n",
        "        )\n",
        "\n",
        "    edge_trace = go.Scatter(\n",
        "        x=edge_x, y=edge_y,\n",
        "        line=dict(width=0.8, color='#888'),\n",
        "        hoverinfo='none',\n",
        "        mode='lines')\n",
        "\n",
        "    # Prepare node traces with hover text for metadata\n",
        "    node_x = []\n",
        "    node_y = []\n",
        "    hover_texts = []\n",
        "    sizes = []\n",
        "    colors = []\n",
        "    for node_id, node_data in graph.nodes(data=True):\n",
        "        x, y = pos[node_id]\n",
        "        node_x.append(x)\n",
        "        node_y.append(y)\n",
        "        hover_texts.append(\n",
        "            f\"<b>{node_data['label']}</b><br>Page: {node_data['page']}<br>Summary: {node_data['summary']}\"\n",
        "        )\n",
        "        size = 40 if node_id in starting_node_ids else 20\n",
        "        sizes.append(size)\n",
        "        color = 'red' if node_id in starting_node_ids else 'blue'\n",
        "        colors.append(color)\n",
        "\n",
        "    node_trace = go.Scatter(\n",
        "      x=node_x, y=node_y,\n",
        "      mode='markers+text',\n",
        "      hoverinfo='text',\n",
        "      hovertext=hover_texts,  # Display metadata on hover\n",
        "      text=[node_data[\"label\"] for _, node_data in graph.nodes(data=True)],  # Fixed\n",
        "      textposition=\"top center\",\n",
        "      marker=dict(\n",
        "          size=sizes,\n",
        "          color=colors,\n",
        "          line_width=2\n",
        "      ))\n",
        "\n",
        "    # Create the figure\n",
        "    fig = go.Figure(data=[edge_trace, node_trace],\n",
        "                    layout=go.Layout(\n",
        "                        title=\"Human-Readable Graph with Metadata\",\n",
        "                        titlefont_size=16,\n",
        "                        showlegend=False,\n",
        "                        hovermode='closest',\n",
        "                        margin=dict(b=0, l=0, r=0, t=40),\n",
        "                        annotations=annotations,\n",
        "                        xaxis=dict(showgrid=False, zeroline=False),\n",
        "                        yaxis=dict(showgrid=False, zeroline=False))\n",
        "                    )\n",
        "\n",
        "    fig.show()\n"
      ],
      "metadata": {
        "id": "i-r5-lr-z7Ed"
      },
      "execution_count": null,
      "outputs": []
    },
    {
      "cell_type": "markdown",
      "source": [
        "### 6. Combine Everything in the Main Function\n",
        "\n",
        "The main function orchestrates the entire process:"
      ],
      "metadata": {
        "id": "e4Hi1r-P2uGi"
      }
    },
    {
      "cell_type": "code",
      "source": [
        "def main(pdf_path, api_key):\n",
        "    print(\"Extracting text from PDF...\")\n",
        "    content = extract_text_from_pdf(pdf_path)\n",
        "\n",
        "    print(\"Sending content to GPT-4 for analysis...\")\n",
        "    prompt_template = \"\"\"\n",
        "Analyze the following PDF content and create a **valid JSON** object with \"nodes\" and \"edges\".Just give the json object which can be parsed directly. do not include backtikcs and json keyword.\n",
        "Nodes should include:\n",
        "- A 'start' category for starting points.\n",
        "- Clear relationships and human-readable descriptions for traversal.\n",
        "- Additional metadata, such as the page number where the content is found, or a brief summary.\n",
        "\n",
        "Each node must have:\n",
        "- id: Unique identifier\n",
        "- label: A descriptive name\n",
        "- group (e.g., \"Starting Point\", \"Requirement\", \"Action\", \"Outcome\")\n",
        "- page (optional): Page number of the document where the content is located\n",
        "- summary (optional): Brief summary or additional information about the content\n",
        "\n",
        "Each edge must have:\n",
        "- source: ID of the source node\n",
        "- target: ID of the target node\n",
        "- label: A brief, human-readable explanation of the relationship\n",
        "\n",
        "Example:\n",
        "{{\n",
        "    \"nodes\": [\n",
        "        {{\"id\": \"1\", \"label\": \"Start Process\", \"group\": \"Starting Point\", \"page\": 1, \"summary\": \"Overview of the process\"}},\n",
        "        {{\"id\": \"2\", \"label\": \"Submit Application\", \"group\": \"Action\", \"page\": 2, \"summary\": \"Details about submission\"}},\n",
        "        {{\"id\": \"3\", \"label\": \"Approval Granted\", \"group\": \"Outcome\", \"page\": 5, \"summary\": \"Approval steps\"}}\n",
        "    ],\n",
        "    \"edges\": [\n",
        "        {{\"source\": \"1\", \"target\": \"2\", \"label\": \"Proceed to\"}},\n",
        "        {{\"source\": \"2\", \"target\": \"3\", \"label\": \"Leads to\"}}\n",
        "    ]\n",
        "}}\n",
        "\n",
        "Content: {content}\n",
        "\"\"\"\n",
        "\n",
        "    gpt_output = analyze_with_gpt(content, api_key, prompt_template)\n",
        "    print(\"Parsing GPT-4 output...\")\n",
        "    nodes, edges = parse_gpt_output(gpt_output)\n",
        "\n",
        "    # Identify starting nodes\n",
        "    starting_nodes = [node['id'] for node in nodes if node.get('group') == \"Starting Point\"]\n",
        "\n",
        "    print(\"Creating and visualizing the graph...\")\n",
        "    render_human_readable_graph(nodes, edges, starting_nodes)\n",
        "    print(\"Graph visualization complete.\")\n"
      ],
      "metadata": {
        "id": "N6pMSDclwwJT"
      },
      "execution_count": null,
      "outputs": []
    },
    {
      "cell_type": "code",
      "source": [
        "\n",
        "# Run the application\n",
        "if __name__ == \"__main__\":\n",
        "    PDF_PATH = \"/content/test4.pdf\"  # Replace with your PDF file\n",
        "    OPENAI_API_KEY = \"\"  # Replace with your OpenAI API Key\n",
        "    main(PDF_PATH, OPENAI_API_KEY)"
      ],
      "metadata": {
        "colab": {
          "base_uri": "https://localhost:8080/",
          "height": 684
        },
        "id": "g427e9Obf426",
        "outputId": "7294b7a1-be03-4300-9f1b-e257ca937219"
      },
      "execution_count": null,
      "outputs": [
        {
          "output_type": "stream",
          "name": "stdout",
          "text": [
            "Extracting text from PDF...\n",
            "Sending content to GPT-4 for analysis...\n",
            "Parsing GPT-4 output...\n",
            "Nodes: [{'id': 'N1', 'label': 'Start Optimization Process', 'group': 'Starting Point', 'page': 1, 'summary': 'Introduction to optimization and challenges with discontinuities'}, {'id': 'N2', 'label': 'Identify Optimization Problem', 'group': 'Action', 'page': 3, 'summary': 'Discusses issues with unconstrained optimization of objective functions'}, {'id': 'N3', 'label': 'Implement Gradient-Only Approaches', 'group': 'Action', 'page': 4, 'summary': 'Proposed method to avoid local minima using gradient information'}, {'id': 'N4', 'label': 'Address Discontinuities', 'group': 'Action', 'page': 6, 'summary': 'Strategies for dealing with non-differentiable functions'}, {'id': 'N5', 'label': 'Evaluate Univariate Example', 'group': 'Example', 'page': 7, 'summary': 'Example using Newton’s cooling law'}, {'id': 'N6', 'label': 'Evaluate Multivariate Example', 'group': 'Example', 'page': 8, 'summary': 'Shape optimization example using Michell structure'}, {'id': 'N7', 'label': 'Define Theoretical Framework', 'group': 'Theory', 'page': 9, 'summary': 'Definitions for gradient-only optimization'}, {'id': 'N8', 'label': 'Algorithmic Modifications', 'group': 'Theory', 'page': 13, 'summary': 'Algorithmic changes for gradient-only optimization'}, {'id': 'N9', 'label': 'Introduction of Tests and Results', 'group': 'Outcome', 'page': 20, 'summary': 'Present numerical study results'}, {'id': 'N10', 'label': 'Conclusions and Future Work', 'group': 'Outcome', 'page': 26, 'summary': 'Implications and future directions of the study'}]\n",
            "Edges: [{'source': 'N1', 'target': 'N2', 'label': 'Identifies'}, {'source': 'N2', 'target': 'N3', 'label': 'Proposes'}, {'source': 'N3', 'target': 'N4', 'label': 'Addresses'}, {'source': 'N3', 'target': 'N5', 'label': 'Demonstrates'}, {'source': 'N3', 'target': 'N6', 'label': 'Demonstrates'}, {'source': 'N4', 'target': 'N7', 'label': 'Defines'}, {'source': 'N7', 'target': 'N8', 'label': 'Leads to'}, {'source': 'N8', 'target': 'N9', 'label': 'Evaluates'}, {'source': 'N9', 'target': 'N10', 'label': 'Concludes'}]\n",
            "Creating and visualizing the graph...\n"
          ]
        },
        {
          "output_type": "display_data",
          "data": {
            "text/html": [
              "<html>\n",
              "<head><meta charset=\"utf-8\" /></head>\n",
              "<body>\n",
              "    <div>            <script src=\"https://cdnjs.cloudflare.com/ajax/libs/mathjax/2.7.5/MathJax.js?config=TeX-AMS-MML_SVG\"></script><script type=\"text/javascript\">if (window.MathJax && window.MathJax.Hub && window.MathJax.Hub.Config) {window.MathJax.Hub.Config({SVG: {font: \"STIX-Web\"}});}</script>                <script type=\"text/javascript\">window.PlotlyConfig = {MathJaxConfig: 'local'};</script>\n",
              "        <script charset=\"utf-8\" src=\"https://cdn.plot.ly/plotly-2.35.2.min.js\"></script>                <div id=\"ba5139d7-d67b-49e7-a790-b0191b7cff66\" class=\"plotly-graph-div\" style=\"height:525px; width:100%;\"></div>            <script type=\"text/javascript\">                                    window.PLOTLYENV=window.PLOTLYENV || {};                                    if (document.getElementById(\"ba5139d7-d67b-49e7-a790-b0191b7cff66\")) {                    Plotly.newPlot(                        \"ba5139d7-d67b-49e7-a790-b0191b7cff66\",                        [{\"hoverinfo\":\"none\",\"line\":{\"color\":\"#888\",\"width\":0.8},\"mode\":\"lines\",\"x\":[0.28406482432801317,0.4362973382725565,null,0.4362973382725565,0.3967220198492434,null,0.3967220198492434,-0.12111350142568596,null,0.3967220198492434,0.2863386319271613,null,0.3967220198492434,1.0,null,-0.12111350142568596,-0.219518095126398,null,-0.219518095126398,-0.42833465256127223,null,-0.42833465256127223,-0.6885044287676981,null,-0.6885044287676981,-0.94595213649592,null],\"y\":[0.24728687880852543,0.0883303432199719,null,0.0883303432199719,-0.044082281782098505,null,-0.044082281782098505,0.32540508847644417,null,-0.044082281782098505,-0.6393985830716589,null,-0.044082281782098505,0.1827746581943452,null,0.32540508847644417,0.13166363268623185,null,0.13166363268623185,0.0034040235266451545,null,0.0034040235266451545,-0.10108951425056198,null,-0.10108951425056198,-0.1942942458078444,null],\"type\":\"scatter\"},{\"hoverinfo\":\"text\",\"hovertext\":[\"\\u003cb\\u003eStart Optimization Process\\u003c\\u002fb\\u003e\\u003cbr\\u003ePage: 1\\u003cbr\\u003eSummary: Introduction to optimization and challenges with discontinuities\",\"\\u003cb\\u003eIdentify Optimization Problem\\u003c\\u002fb\\u003e\\u003cbr\\u003ePage: 3\\u003cbr\\u003eSummary: Discusses issues with unconstrained optimization of objective functions\",\"\\u003cb\\u003eImplement Gradient-Only Approaches\\u003c\\u002fb\\u003e\\u003cbr\\u003ePage: 4\\u003cbr\\u003eSummary: Proposed method to avoid local minima using gradient information\",\"\\u003cb\\u003eAddress Discontinuities\\u003c\\u002fb\\u003e\\u003cbr\\u003ePage: 6\\u003cbr\\u003eSummary: Strategies for dealing with non-differentiable functions\",\"\\u003cb\\u003eEvaluate Univariate Example\\u003c\\u002fb\\u003e\\u003cbr\\u003ePage: 7\\u003cbr\\u003eSummary: Example using Newton’s cooling law\",\"\\u003cb\\u003eEvaluate Multivariate Example\\u003c\\u002fb\\u003e\\u003cbr\\u003ePage: 8\\u003cbr\\u003eSummary: Shape optimization example using Michell structure\",\"\\u003cb\\u003eDefine Theoretical Framework\\u003c\\u002fb\\u003e\\u003cbr\\u003ePage: 9\\u003cbr\\u003eSummary: Definitions for gradient-only optimization\",\"\\u003cb\\u003eAlgorithmic Modifications\\u003c\\u002fb\\u003e\\u003cbr\\u003ePage: 13\\u003cbr\\u003eSummary: Algorithmic changes for gradient-only optimization\",\"\\u003cb\\u003eIntroduction of Tests and Results\\u003c\\u002fb\\u003e\\u003cbr\\u003ePage: 20\\u003cbr\\u003eSummary: Present numerical study results\",\"\\u003cb\\u003eConclusions and Future Work\\u003c\\u002fb\\u003e\\u003cbr\\u003ePage: 26\\u003cbr\\u003eSummary: Implications and future directions of the study\"],\"marker\":{\"color\":[\"red\",\"blue\",\"blue\",\"blue\",\"blue\",\"blue\",\"blue\",\"blue\",\"blue\",\"blue\"],\"line\":{\"width\":2},\"size\":[40,20,20,20,20,20,20,20,20,20]},\"mode\":\"markers+text\",\"text\":[\"Start Optimization Process\",\"Identify Optimization Problem\",\"Implement Gradient-Only Approaches\",\"Address Discontinuities\",\"Evaluate Univariate Example\",\"Evaluate Multivariate Example\",\"Define Theoretical Framework\",\"Algorithmic Modifications\",\"Introduction of Tests and Results\",\"Conclusions and Future Work\"],\"textposition\":\"top center\",\"x\":[0.28406482432801317,0.4362973382725565,0.3967220198492434,-0.12111350142568596,0.2863386319271613,1.0,-0.219518095126398,-0.42833465256127223,-0.6885044287676981,-0.94595213649592],\"y\":[0.24728687880852543,0.0883303432199719,-0.044082281782098505,0.32540508847644417,-0.6393985830716589,0.1827746581943452,0.13166363268623185,0.0034040235266451545,-0.10108951425056198,-0.1942942458078444],\"type\":\"scatter\"}],                        {\"annotations\":[{\"arrowcolor\":\"#888\",\"arrowhead\":3,\"arrowsize\":2,\"arrowwidth\":1.5,\"ax\":0.28406482432801317,\"axref\":\"x\",\"ay\":0.24728687880852543,\"ayref\":\"y\",\"showarrow\":true,\"text\":\"Identifies\",\"x\":0.4362973382725565,\"xref\":\"x\",\"y\":0.0883303432199719,\"yref\":\"y\"},{\"arrowcolor\":\"#888\",\"arrowhead\":3,\"arrowsize\":2,\"arrowwidth\":1.5,\"ax\":0.4362973382725565,\"axref\":\"x\",\"ay\":0.0883303432199719,\"ayref\":\"y\",\"showarrow\":true,\"text\":\"Proposes\",\"x\":0.3967220198492434,\"xref\":\"x\",\"y\":-0.044082281782098505,\"yref\":\"y\"},{\"arrowcolor\":\"#888\",\"arrowhead\":3,\"arrowsize\":2,\"arrowwidth\":1.5,\"ax\":0.3967220198492434,\"axref\":\"x\",\"ay\":-0.044082281782098505,\"ayref\":\"y\",\"showarrow\":true,\"text\":\"Addresses\",\"x\":-0.12111350142568596,\"xref\":\"x\",\"y\":0.32540508847644417,\"yref\":\"y\"},{\"arrowcolor\":\"#888\",\"arrowhead\":3,\"arrowsize\":2,\"arrowwidth\":1.5,\"ax\":0.3967220198492434,\"axref\":\"x\",\"ay\":-0.044082281782098505,\"ayref\":\"y\",\"showarrow\":true,\"text\":\"Demonstrates\",\"x\":0.2863386319271613,\"xref\":\"x\",\"y\":-0.6393985830716589,\"yref\":\"y\"},{\"arrowcolor\":\"#888\",\"arrowhead\":3,\"arrowsize\":2,\"arrowwidth\":1.5,\"ax\":0.3967220198492434,\"axref\":\"x\",\"ay\":-0.044082281782098505,\"ayref\":\"y\",\"showarrow\":true,\"text\":\"Demonstrates\",\"x\":1.0,\"xref\":\"x\",\"y\":0.1827746581943452,\"yref\":\"y\"},{\"arrowcolor\":\"#888\",\"arrowhead\":3,\"arrowsize\":2,\"arrowwidth\":1.5,\"ax\":-0.12111350142568596,\"axref\":\"x\",\"ay\":0.32540508847644417,\"ayref\":\"y\",\"showarrow\":true,\"text\":\"Defines\",\"x\":-0.219518095126398,\"xref\":\"x\",\"y\":0.13166363268623185,\"yref\":\"y\"},{\"arrowcolor\":\"#888\",\"arrowhead\":3,\"arrowsize\":2,\"arrowwidth\":1.5,\"ax\":-0.219518095126398,\"axref\":\"x\",\"ay\":0.13166363268623185,\"ayref\":\"y\",\"showarrow\":true,\"text\":\"Leads to\",\"x\":-0.42833465256127223,\"xref\":\"x\",\"y\":0.0034040235266451545,\"yref\":\"y\"},{\"arrowcolor\":\"#888\",\"arrowhead\":3,\"arrowsize\":2,\"arrowwidth\":1.5,\"ax\":-0.42833465256127223,\"axref\":\"x\",\"ay\":0.0034040235266451545,\"ayref\":\"y\",\"showarrow\":true,\"text\":\"Evaluates\",\"x\":-0.6885044287676981,\"xref\":\"x\",\"y\":-0.10108951425056198,\"yref\":\"y\"},{\"arrowcolor\":\"#888\",\"arrowhead\":3,\"arrowsize\":2,\"arrowwidth\":1.5,\"ax\":-0.6885044287676981,\"axref\":\"x\",\"ay\":-0.10108951425056198,\"ayref\":\"y\",\"showarrow\":true,\"text\":\"Concludes\",\"x\":-0.94595213649592,\"xref\":\"x\",\"y\":-0.1942942458078444,\"yref\":\"y\"}],\"hovermode\":\"closest\",\"margin\":{\"b\":0,\"l\":0,\"r\":0,\"t\":40},\"showlegend\":false,\"title\":{\"font\":{\"size\":16},\"text\":\"Human-Readable Graph with Metadata\"},\"xaxis\":{\"showgrid\":false,\"zeroline\":false},\"yaxis\":{\"showgrid\":false,\"zeroline\":false},\"template\":{\"data\":{\"histogram2dcontour\":[{\"type\":\"histogram2dcontour\",\"colorbar\":{\"outlinewidth\":0,\"ticks\":\"\"},\"colorscale\":[[0.0,\"#0d0887\"],[0.1111111111111111,\"#46039f\"],[0.2222222222222222,\"#7201a8\"],[0.3333333333333333,\"#9c179e\"],[0.4444444444444444,\"#bd3786\"],[0.5555555555555556,\"#d8576b\"],[0.6666666666666666,\"#ed7953\"],[0.7777777777777778,\"#fb9f3a\"],[0.8888888888888888,\"#fdca26\"],[1.0,\"#f0f921\"]]}],\"choropleth\":[{\"type\":\"choropleth\",\"colorbar\":{\"outlinewidth\":0,\"ticks\":\"\"}}],\"histogram2d\":[{\"type\":\"histogram2d\",\"colorbar\":{\"outlinewidth\":0,\"ticks\":\"\"},\"colorscale\":[[0.0,\"#0d0887\"],[0.1111111111111111,\"#46039f\"],[0.2222222222222222,\"#7201a8\"],[0.3333333333333333,\"#9c179e\"],[0.4444444444444444,\"#bd3786\"],[0.5555555555555556,\"#d8576b\"],[0.6666666666666666,\"#ed7953\"],[0.7777777777777778,\"#fb9f3a\"],[0.8888888888888888,\"#fdca26\"],[1.0,\"#f0f921\"]]}],\"heatmap\":[{\"type\":\"heatmap\",\"colorbar\":{\"outlinewidth\":0,\"ticks\":\"\"},\"colorscale\":[[0.0,\"#0d0887\"],[0.1111111111111111,\"#46039f\"],[0.2222222222222222,\"#7201a8\"],[0.3333333333333333,\"#9c179e\"],[0.4444444444444444,\"#bd3786\"],[0.5555555555555556,\"#d8576b\"],[0.6666666666666666,\"#ed7953\"],[0.7777777777777778,\"#fb9f3a\"],[0.8888888888888888,\"#fdca26\"],[1.0,\"#f0f921\"]]}],\"heatmapgl\":[{\"type\":\"heatmapgl\",\"colorbar\":{\"outlinewidth\":0,\"ticks\":\"\"},\"colorscale\":[[0.0,\"#0d0887\"],[0.1111111111111111,\"#46039f\"],[0.2222222222222222,\"#7201a8\"],[0.3333333333333333,\"#9c179e\"],[0.4444444444444444,\"#bd3786\"],[0.5555555555555556,\"#d8576b\"],[0.6666666666666666,\"#ed7953\"],[0.7777777777777778,\"#fb9f3a\"],[0.8888888888888888,\"#fdca26\"],[1.0,\"#f0f921\"]]}],\"contourcarpet\":[{\"type\":\"contourcarpet\",\"colorbar\":{\"outlinewidth\":0,\"ticks\":\"\"}}],\"contour\":[{\"type\":\"contour\",\"colorbar\":{\"outlinewidth\":0,\"ticks\":\"\"},\"colorscale\":[[0.0,\"#0d0887\"],[0.1111111111111111,\"#46039f\"],[0.2222222222222222,\"#7201a8\"],[0.3333333333333333,\"#9c179e\"],[0.4444444444444444,\"#bd3786\"],[0.5555555555555556,\"#d8576b\"],[0.6666666666666666,\"#ed7953\"],[0.7777777777777778,\"#fb9f3a\"],[0.8888888888888888,\"#fdca26\"],[1.0,\"#f0f921\"]]}],\"surface\":[{\"type\":\"surface\",\"colorbar\":{\"outlinewidth\":0,\"ticks\":\"\"},\"colorscale\":[[0.0,\"#0d0887\"],[0.1111111111111111,\"#46039f\"],[0.2222222222222222,\"#7201a8\"],[0.3333333333333333,\"#9c179e\"],[0.4444444444444444,\"#bd3786\"],[0.5555555555555556,\"#d8576b\"],[0.6666666666666666,\"#ed7953\"],[0.7777777777777778,\"#fb9f3a\"],[0.8888888888888888,\"#fdca26\"],[1.0,\"#f0f921\"]]}],\"mesh3d\":[{\"type\":\"mesh3d\",\"colorbar\":{\"outlinewidth\":0,\"ticks\":\"\"}}],\"scatter\":[{\"fillpattern\":{\"fillmode\":\"overlay\",\"size\":10,\"solidity\":0.2},\"type\":\"scatter\"}],\"parcoords\":[{\"type\":\"parcoords\",\"line\":{\"colorbar\":{\"outlinewidth\":0,\"ticks\":\"\"}}}],\"scatterpolargl\":[{\"type\":\"scatterpolargl\",\"marker\":{\"colorbar\":{\"outlinewidth\":0,\"ticks\":\"\"}}}],\"bar\":[{\"error_x\":{\"color\":\"#2a3f5f\"},\"error_y\":{\"color\":\"#2a3f5f\"},\"marker\":{\"line\":{\"color\":\"#E5ECF6\",\"width\":0.5},\"pattern\":{\"fillmode\":\"overlay\",\"size\":10,\"solidity\":0.2}},\"type\":\"bar\"}],\"scattergeo\":[{\"type\":\"scattergeo\",\"marker\":{\"colorbar\":{\"outlinewidth\":0,\"ticks\":\"\"}}}],\"scatterpolar\":[{\"type\":\"scatterpolar\",\"marker\":{\"colorbar\":{\"outlinewidth\":0,\"ticks\":\"\"}}}],\"histogram\":[{\"marker\":{\"pattern\":{\"fillmode\":\"overlay\",\"size\":10,\"solidity\":0.2}},\"type\":\"histogram\"}],\"scattergl\":[{\"type\":\"scattergl\",\"marker\":{\"colorbar\":{\"outlinewidth\":0,\"ticks\":\"\"}}}],\"scatter3d\":[{\"type\":\"scatter3d\",\"line\":{\"colorbar\":{\"outlinewidth\":0,\"ticks\":\"\"}},\"marker\":{\"colorbar\":{\"outlinewidth\":0,\"ticks\":\"\"}}}],\"scattermapbox\":[{\"type\":\"scattermapbox\",\"marker\":{\"colorbar\":{\"outlinewidth\":0,\"ticks\":\"\"}}}],\"scatterternary\":[{\"type\":\"scatterternary\",\"marker\":{\"colorbar\":{\"outlinewidth\":0,\"ticks\":\"\"}}}],\"scattercarpet\":[{\"type\":\"scattercarpet\",\"marker\":{\"colorbar\":{\"outlinewidth\":0,\"ticks\":\"\"}}}],\"carpet\":[{\"aaxis\":{\"endlinecolor\":\"#2a3f5f\",\"gridcolor\":\"white\",\"linecolor\":\"white\",\"minorgridcolor\":\"white\",\"startlinecolor\":\"#2a3f5f\"},\"baxis\":{\"endlinecolor\":\"#2a3f5f\",\"gridcolor\":\"white\",\"linecolor\":\"white\",\"minorgridcolor\":\"white\",\"startlinecolor\":\"#2a3f5f\"},\"type\":\"carpet\"}],\"table\":[{\"cells\":{\"fill\":{\"color\":\"#EBF0F8\"},\"line\":{\"color\":\"white\"}},\"header\":{\"fill\":{\"color\":\"#C8D4E3\"},\"line\":{\"color\":\"white\"}},\"type\":\"table\"}],\"barpolar\":[{\"marker\":{\"line\":{\"color\":\"#E5ECF6\",\"width\":0.5},\"pattern\":{\"fillmode\":\"overlay\",\"size\":10,\"solidity\":0.2}},\"type\":\"barpolar\"}],\"pie\":[{\"automargin\":true,\"type\":\"pie\"}]},\"layout\":{\"autotypenumbers\":\"strict\",\"colorway\":[\"#636efa\",\"#EF553B\",\"#00cc96\",\"#ab63fa\",\"#FFA15A\",\"#19d3f3\",\"#FF6692\",\"#B6E880\",\"#FF97FF\",\"#FECB52\"],\"font\":{\"color\":\"#2a3f5f\"},\"hovermode\":\"closest\",\"hoverlabel\":{\"align\":\"left\"},\"paper_bgcolor\":\"white\",\"plot_bgcolor\":\"#E5ECF6\",\"polar\":{\"bgcolor\":\"#E5ECF6\",\"angularaxis\":{\"gridcolor\":\"white\",\"linecolor\":\"white\",\"ticks\":\"\"},\"radialaxis\":{\"gridcolor\":\"white\",\"linecolor\":\"white\",\"ticks\":\"\"}},\"ternary\":{\"bgcolor\":\"#E5ECF6\",\"aaxis\":{\"gridcolor\":\"white\",\"linecolor\":\"white\",\"ticks\":\"\"},\"baxis\":{\"gridcolor\":\"white\",\"linecolor\":\"white\",\"ticks\":\"\"},\"caxis\":{\"gridcolor\":\"white\",\"linecolor\":\"white\",\"ticks\":\"\"}},\"coloraxis\":{\"colorbar\":{\"outlinewidth\":0,\"ticks\":\"\"}},\"colorscale\":{\"sequential\":[[0.0,\"#0d0887\"],[0.1111111111111111,\"#46039f\"],[0.2222222222222222,\"#7201a8\"],[0.3333333333333333,\"#9c179e\"],[0.4444444444444444,\"#bd3786\"],[0.5555555555555556,\"#d8576b\"],[0.6666666666666666,\"#ed7953\"],[0.7777777777777778,\"#fb9f3a\"],[0.8888888888888888,\"#fdca26\"],[1.0,\"#f0f921\"]],\"sequentialminus\":[[0.0,\"#0d0887\"],[0.1111111111111111,\"#46039f\"],[0.2222222222222222,\"#7201a8\"],[0.3333333333333333,\"#9c179e\"],[0.4444444444444444,\"#bd3786\"],[0.5555555555555556,\"#d8576b\"],[0.6666666666666666,\"#ed7953\"],[0.7777777777777778,\"#fb9f3a\"],[0.8888888888888888,\"#fdca26\"],[1.0,\"#f0f921\"]],\"diverging\":[[0,\"#8e0152\"],[0.1,\"#c51b7d\"],[0.2,\"#de77ae\"],[0.3,\"#f1b6da\"],[0.4,\"#fde0ef\"],[0.5,\"#f7f7f7\"],[0.6,\"#e6f5d0\"],[0.7,\"#b8e186\"],[0.8,\"#7fbc41\"],[0.9,\"#4d9221\"],[1,\"#276419\"]]},\"xaxis\":{\"gridcolor\":\"white\",\"linecolor\":\"white\",\"ticks\":\"\",\"title\":{\"standoff\":15},\"zerolinecolor\":\"white\",\"automargin\":true,\"zerolinewidth\":2},\"yaxis\":{\"gridcolor\":\"white\",\"linecolor\":\"white\",\"ticks\":\"\",\"title\":{\"standoff\":15},\"zerolinecolor\":\"white\",\"automargin\":true,\"zerolinewidth\":2},\"scene\":{\"xaxis\":{\"backgroundcolor\":\"#E5ECF6\",\"gridcolor\":\"white\",\"linecolor\":\"white\",\"showbackground\":true,\"ticks\":\"\",\"zerolinecolor\":\"white\",\"gridwidth\":2},\"yaxis\":{\"backgroundcolor\":\"#E5ECF6\",\"gridcolor\":\"white\",\"linecolor\":\"white\",\"showbackground\":true,\"ticks\":\"\",\"zerolinecolor\":\"white\",\"gridwidth\":2},\"zaxis\":{\"backgroundcolor\":\"#E5ECF6\",\"gridcolor\":\"white\",\"linecolor\":\"white\",\"showbackground\":true,\"ticks\":\"\",\"zerolinecolor\":\"white\",\"gridwidth\":2}},\"shapedefaults\":{\"line\":{\"color\":\"#2a3f5f\"}},\"annotationdefaults\":{\"arrowcolor\":\"#2a3f5f\",\"arrowhead\":0,\"arrowwidth\":1},\"geo\":{\"bgcolor\":\"white\",\"landcolor\":\"#E5ECF6\",\"subunitcolor\":\"white\",\"showland\":true,\"showlakes\":true,\"lakecolor\":\"white\"},\"title\":{\"x\":0.05},\"mapbox\":{\"style\":\"light\"}}}},                        {\"responsive\": true}                    ).then(function(){\n",
              "                            \n",
              "var gd = document.getElementById('ba5139d7-d67b-49e7-a790-b0191b7cff66');\n",
              "var x = new MutationObserver(function (mutations, observer) {{\n",
              "        var display = window.getComputedStyle(gd).display;\n",
              "        if (!display || display === 'none') {{\n",
              "            console.log([gd, 'removed!']);\n",
              "            Plotly.purge(gd);\n",
              "            observer.disconnect();\n",
              "        }}\n",
              "}});\n",
              "\n",
              "// Listen for the removal of the full notebook cells\n",
              "var notebookContainer = gd.closest('#notebook-container');\n",
              "if (notebookContainer) {{\n",
              "    x.observe(notebookContainer, {childList: true});\n",
              "}}\n",
              "\n",
              "// Listen for the clearing of the current output cell\n",
              "var outputEl = gd.closest('.output');\n",
              "if (outputEl) {{\n",
              "    x.observe(outputEl, {childList: true});\n",
              "}}\n",
              "\n",
              "                        })                };                            </script>        </div>\n",
              "</body>\n",
              "</html>"
            ]
          },
          "metadata": {}
        },
        {
          "output_type": "stream",
          "name": "stdout",
          "text": [
            "Graph visualization complete.\n"
          ]
        }
      ]
    }
  ]
}