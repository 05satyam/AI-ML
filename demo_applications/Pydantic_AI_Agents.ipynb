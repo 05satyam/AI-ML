{
  "nbformat": 4,
  "nbformat_minor": 0,
  "metadata": {
    "colab": {
      "provenance": []
    },
    "kernelspec": {
      "name": "python3",
      "display_name": "Python 3"
    },
    "language_info": {
      "name": "python"
    },
    "widgets": {
      "application/vnd.jupyter.widget-state+json": {
        "043e871c65494db3908abc0b4ec027b0": {
          "model_module": "@jupyter-widgets/output",
          "model_name": "OutputModel",
          "model_module_version": "1.0.0",
          "state": {
            "_dom_classes": [],
            "_model_module": "@jupyter-widgets/output",
            "_model_module_version": "1.0.0",
            "_model_name": "OutputModel",
            "_view_count": null,
            "_view_module": "@jupyter-widgets/output",
            "_view_module_version": "1.0.0",
            "_view_name": "OutputView",
            "layout": "IPY_MODEL_ad415e13d6304b37a9fe3110b2175aaf",
            "msg_id": "",
            "outputs": [
              {
                "output_type": "display_data",
                "data": {
                  "text/plain": "Certainly! Pydantic is a data validation and settings management library for Python that uses Python type          \nannotations. Below is a short example demonstrating how to create a simple data model using Pydantic:              \n\n\u001b[2mpython\u001b[0m\n\u001b[38;2;255;70;137;40mfrom\u001b[0m\u001b[38;2;248;248;242;40m \u001b[0m\u001b[38;2;248;248;242;40mpydantic\u001b[0m\u001b[38;2;248;248;242;40m \u001b[0m\u001b[38;2;255;70;137;40mimport\u001b[0m\u001b[38;2;248;248;242;40m \u001b[0m\u001b[38;2;248;248;242;40mBaseModel\u001b[0m\u001b[38;2;248;248;242;40m,\u001b[0m\u001b[38;2;248;248;242;40m \u001b[0m\u001b[38;2;248;248;242;40mValidationError\u001b[0m\u001b[40m                                                                    \u001b[0m\n\u001b[40m                                                                                                                   \u001b[0m\n\u001b[38;2;149;144;119;40m# Define a Pydantic model\u001b[0m\u001b[40m                                                                                          \u001b[0m\n\u001b[38;2;102;217;239;40mclass\u001b[0m\u001b[38;2;248;248;242;40m \u001b[0m\u001b[38;2;166;226;46;40mUser\u001b[0m\u001b[38;2;248;248;242;40m(\u001b[0m\u001b[38;2;248;248;242;40mBaseModel\u001b[0m\u001b[38;2;248;248;242;40m)\u001b[0m\u001b[38;2;248;248;242;40m:\u001b[0m\u001b[40m                                                                                             \u001b[0m\n\u001b[38;2;248;248;242;40m    \u001b[0m\u001b[38;2;248;248;242;40mid\u001b[0m\u001b[38;2;248;248;242;40m:\u001b[0m\u001b[38;2;248;248;242;40m \u001b[0m\u001b[38;2;248;248;242;40mint\u001b[0m\u001b[40m                                                                                                        \u001b[0m\n\u001b[38;2;248;248;242;40m    \u001b[0m\u001b[38;2;248;248;242;40mname\u001b[0m\u001b[38;2;248;248;242;40m:\u001b[0m\u001b[38;2;248;248;242;40m \u001b[0m\u001b[38;2;248;248;242;40mstr\u001b[0m\u001b[40m                                                                                                      \u001b[0m\n\u001b[38;2;248;248;242;40m    \u001b[0m\u001b[38;2;248;248;242;40memail\u001b[0m\u001b[38;2;248;248;242;40m:\u001b[0m\u001b[38;2;248;248;242;40m \u001b[0m\u001b[38;2;248;248;242;40mstr\u001b[0m\u001b[40m                                                                                                     \u001b[0m\n\u001b[40m                                                                                                                   \u001b[0m\n\u001b[38;2;149;144;119;40m# Example of creating a User instance\u001b[0m\u001b[40m                                                                              \u001b[0m\n\u001b[38;2;102;217;239;40mtry\u001b[0m\u001b[38;2;248;248;242;40m:\u001b[0m\u001b[40m                                                                                                               \u001b[0m\n\u001b[38;2;248;248;242;40m    \u001b[0m\u001b[38;2;248;248;242;40muser\u001b[0m\u001b[38;2;248;248;242;40m \u001b[0m\u001b[38;2;255;70;137;40m=\u001b[0m\u001b[38;2;248;248;242;40m \u001b[0m\u001b[38;2;248;248;242;40mUser\u001b[0m\u001b[38;2;248;248;242;40m(\u001b[0m\u001b[38;2;248;248;242;40mid\u001b[0m\u001b[38;2;255;70;137;40m=\u001b[0m\u001b[38;2;174;129;255;40m1\u001b[0m\u001b[38;2;248;248;242;40m,\u001b[0m\u001b[38;2;248;248;242;40m \u001b[0m\u001b[38;2;248;248;242;40mname\u001b[0m\u001b[38;2;255;70;137;40m=\u001b[0m\u001b[38;2;230;219;116;40m\"\u001b[0m\u001b[38;2;230;219;116;40mAlice\u001b[0m\u001b[38;2;230;219;116;40m\"\u001b[0m\u001b[38;2;248;248;242;40m,\u001b[0m\u001b[38;2;248;248;242;40m \u001b[0m\u001b[38;2;248;248;242;40memail\u001b[0m\u001b[38;2;255;70;137;40m=\u001b[0m\u001b[38;2;230;219;116;40m\"\u001b[0m\u001b[38;2;230;219;116;40malice@example.com\u001b[0m\u001b[38;2;230;219;116;40m\"\u001b[0m\u001b[38;2;248;248;242;40m)\u001b[0m\u001b[40m                                                     \u001b[0m\n\u001b[38;2;248;248;242;40m    \u001b[0m\u001b[38;2;248;248;242;40mprint\u001b[0m\u001b[38;2;248;248;242;40m(\u001b[0m\u001b[38;2;248;248;242;40muser\u001b[0m\u001b[38;2;248;248;242;40m)\u001b[0m\u001b[40m                                                                                                    \u001b[0m\n\u001b[38;2;102;217;239;40mexcept\u001b[0m\u001b[38;2;248;248;242;40m \u001b[0m\u001b[38;2;248;248;242;40mValidationError\u001b[0m\u001b[38;2;248;248;242;40m \u001b[0m\u001b[38;2;102;217;239;40mas\u001b[0m\u001b[38;2;248;248;242;40m \u001b[0m\u001b[38;2;248;248;242;40me\u001b[0m\u001b[38;2;248;248;242;40m:\u001b[0m\u001b[40m                                                                                       \u001b[0m\n\u001b[38;2;248;248;242;40m    \u001b[0m\u001b[38;2;248;248;242;40mprint\u001b[0m\u001b[38;2;248;248;242;40m(\u001b[0m\u001b[38;2;248;248;242;40me\u001b[0m\u001b[38;2;255;70;137;40m.\u001b[0m\u001b[38;2;248;248;242;40mjson\u001b[0m\u001b[38;2;248;248;242;40m(\u001b[0m\u001b[38;2;248;248;242;40m)\u001b[0m\u001b[38;2;248;248;242;40m)\u001b[0m\u001b[40m                                                                                                \u001b[0m\n\u001b[40m                                                                                                                   \u001b[0m\n\u001b[38;2;149;144;119;40m# Example of invalid data\u001b[0m\u001b[40m                                                                                          \u001b[0m\n\u001b[38;2;102;217;239;40mtry\u001b[0m\u001b[38;2;248;248;242;40m:\u001b[0m\u001b[40m                                                                                                               \u001b[0m\n\u001b[38;2;248;248;242;40m    \u001b[0m\u001b[38;2;248;248;242;40muser_invalid\u001b[0m\u001b[38;2;248;248;242;40m \u001b[0m\u001b[38;2;255;70;137;40m=\u001b[0m\u001b[38;2;248;248;242;40m \u001b[0m\u001b[38;2;248;248;242;40mUser\u001b[0m\u001b[38;2;248;248;242;40m(\u001b[0m\u001b[38;2;248;248;242;40mid\u001b[0m\u001b[38;2;255;70;137;40m=\u001b[0m\u001b[38;2;230;219;116;40m\"\u001b[0m\u001b[38;2;230;219;116;40mnot-an-integer\u001b[0m\u001b[38;2;230;219;116;40m\"\u001b[0m\u001b[38;2;248;248;242;40m,\u001b[0m\u001b[38;2;248;248;242;40m \u001b[0m\u001b[38;2;248;248;242;40mname\u001b[0m\u001b[38;2;255;70;137;40m=\u001b[0m\u001b[38;2;230;219;116;40m\"\u001b[0m\u001b[38;2;230;219;116;40mBob\u001b[0m\u001b[38;2;230;219;116;40m\"\u001b[0m\u001b[38;2;248;248;242;40m,\u001b[0m\u001b[38;2;248;248;242;40m \u001b[0m\u001b[38;2;248;248;242;40memail\u001b[0m\u001b[38;2;255;70;137;40m=\u001b[0m\u001b[38;2;230;219;116;40m\"\u001b[0m\u001b[38;2;230;219;116;40mbob@example.com\u001b[0m\u001b[38;2;230;219;116;40m\"\u001b[0m\u001b[38;2;248;248;242;40m)\u001b[0m\u001b[40m                                  \u001b[0m\n\u001b[38;2;102;217;239;40mexcept\u001b[0m\u001b[38;2;248;248;242;40m \u001b[0m\u001b[38;2;248;248;242;40mValidationError\u001b[0m\u001b[38;2;248;248;242;40m \u001b[0m\u001b[38;2;102;217;239;40mas\u001b[0m\u001b[38;2;248;248;242;40m \u001b[0m\u001b[38;2;248;248;242;40me\u001b[0m\u001b[38;2;248;248;242;40m:\u001b[0m\u001b[40m                                                                                       \u001b[0m\n\u001b[38;2;248;248;242;40m    \u001b[0m\u001b[38;2;248;248;242;40mprint\u001b[0m\u001b[38;2;248;248;242;40m(\u001b[0m\u001b[38;2;230;219;116;40m\"\u001b[0m\u001b[38;2;230;219;116;40mValidation error:\u001b[0m\u001b[38;2;230;219;116;40m\"\u001b[0m\u001b[38;2;248;248;242;40m,\u001b[0m\u001b[38;2;248;248;242;40m \u001b[0m\u001b[38;2;248;248;242;40me\u001b[0m\u001b[38;2;255;70;137;40m.\u001b[0m\u001b[38;2;248;248;242;40mjson\u001b[0m\u001b[38;2;248;248;242;40m(\u001b[0m\u001b[38;2;248;248;242;40m)\u001b[0m\u001b[38;2;248;248;242;40m)\u001b[0m\u001b[40m                                                                           \u001b[0m\n\u001b[2m/python\u001b[0m\n\n                                                   \u001b[1mExplanation:\u001b[0m                                                    \n\n\u001b[1;33m 1 \u001b[0m\u001b[1mModel Definition\u001b[0m: A \u001b[1;36;40mUser\u001b[0m class is created that inherits from \u001b[1;36;40mBaseModel\u001b[0m. The class attributes \u001b[1;36;40mid\u001b[0m, \u001b[1;36;40mname\u001b[0m, and \u001b[1;36;40memail\u001b[0m\n\u001b[1;33m   \u001b[0mare defined with their respective types.                                                                        \n\u001b[1;33m 2 \u001b[0m\u001b[1mCreating Instances\u001b[0m: You can create an instance of the \u001b[1;36;40mUser\u001b[0m class by passing the appropriate arguments. If the   \n\u001b[1;33m   \u001b[0mdata is valid, it produces the \u001b[1;36;40mUser\u001b[0m object.                                                                     \n\u001b[1;33m 3 \u001b[0m\u001b[1mValidation\u001b[0m: If you try to create a \u001b[1;36;40mUser\u001b[0m instance with invalid data (like providing a string for \u001b[1;36;40mid\u001b[0m instead of an\n\u001b[1;33m   \u001b[0minteger),                                                                                                       \n",
                  "text/html": "<pre style=\"white-space:pre;overflow-x:auto;line-height:normal;font-family:Menlo,'DejaVu Sans Mono',consolas,'Courier New',monospace\">Certainly! Pydantic is a data validation and settings management library for Python that uses Python type          \nannotations. Below is a short example demonstrating how to create a simple data model using Pydantic:              \n\n<span style=\"color: #7f7f7f; text-decoration-color: #7f7f7f\">python</span>\n<span style=\"color: #ff4689; text-decoration-color: #ff4689; background-color: #000000\">from</span><span style=\"color: #f8f8f2; text-decoration-color: #f8f8f2; background-color: #000000\"> pydantic </span><span style=\"color: #ff4689; text-decoration-color: #ff4689; background-color: #000000\">import</span><span style=\"color: #f8f8f2; text-decoration-color: #f8f8f2; background-color: #000000\"> BaseModel, ValidationError</span><span style=\"background-color: #000000\">                                                                    </span>\n<span style=\"background-color: #000000\">                                                                                                                   </span>\n<span style=\"color: #959077; text-decoration-color: #959077; background-color: #000000\"># Define a Pydantic model</span><span style=\"background-color: #000000\">                                                                                          </span>\n<span style=\"color: #66d9ef; text-decoration-color: #66d9ef; background-color: #000000\">class</span><span style=\"color: #f8f8f2; text-decoration-color: #f8f8f2; background-color: #000000\"> </span><span style=\"color: #a6e22e; text-decoration-color: #a6e22e; background-color: #000000\">User</span><span style=\"color: #f8f8f2; text-decoration-color: #f8f8f2; background-color: #000000\">(BaseModel):</span><span style=\"background-color: #000000\">                                                                                             </span>\n<span style=\"color: #f8f8f2; text-decoration-color: #f8f8f2; background-color: #000000\">    id: int</span><span style=\"background-color: #000000\">                                                                                                        </span>\n<span style=\"color: #f8f8f2; text-decoration-color: #f8f8f2; background-color: #000000\">    name: str</span><span style=\"background-color: #000000\">                                                                                                      </span>\n<span style=\"color: #f8f8f2; text-decoration-color: #f8f8f2; background-color: #000000\">    email: str</span><span style=\"background-color: #000000\">                                                                                                     </span>\n<span style=\"background-color: #000000\">                                                                                                                   </span>\n<span style=\"color: #959077; text-decoration-color: #959077; background-color: #000000\"># Example of creating a User instance</span><span style=\"background-color: #000000\">                                                                              </span>\n<span style=\"color: #66d9ef; text-decoration-color: #66d9ef; background-color: #000000\">try</span><span style=\"color: #f8f8f2; text-decoration-color: #f8f8f2; background-color: #000000\">:</span><span style=\"background-color: #000000\">                                                                                                               </span>\n<span style=\"color: #f8f8f2; text-decoration-color: #f8f8f2; background-color: #000000\">    user </span><span style=\"color: #ff4689; text-decoration-color: #ff4689; background-color: #000000\">=</span><span style=\"color: #f8f8f2; text-decoration-color: #f8f8f2; background-color: #000000\"> User(id</span><span style=\"color: #ff4689; text-decoration-color: #ff4689; background-color: #000000\">=</span><span style=\"color: #ae81ff; text-decoration-color: #ae81ff; background-color: #000000\">1</span><span style=\"color: #f8f8f2; text-decoration-color: #f8f8f2; background-color: #000000\">, name</span><span style=\"color: #ff4689; text-decoration-color: #ff4689; background-color: #000000\">=</span><span style=\"color: #e6db74; text-decoration-color: #e6db74; background-color: #000000\">\"Alice\"</span><span style=\"color: #f8f8f2; text-decoration-color: #f8f8f2; background-color: #000000\">, email</span><span style=\"color: #ff4689; text-decoration-color: #ff4689; background-color: #000000\">=</span><span style=\"color: #e6db74; text-decoration-color: #e6db74; background-color: #000000\">\"alice@example.com\"</span><span style=\"color: #f8f8f2; text-decoration-color: #f8f8f2; background-color: #000000\">)</span><span style=\"background-color: #000000\">                                                     </span>\n<span style=\"color: #f8f8f2; text-decoration-color: #f8f8f2; background-color: #000000\">    print(user)</span><span style=\"background-color: #000000\">                                                                                                    </span>\n<span style=\"color: #66d9ef; text-decoration-color: #66d9ef; background-color: #000000\">except</span><span style=\"color: #f8f8f2; text-decoration-color: #f8f8f2; background-color: #000000\"> ValidationError </span><span style=\"color: #66d9ef; text-decoration-color: #66d9ef; background-color: #000000\">as</span><span style=\"color: #f8f8f2; text-decoration-color: #f8f8f2; background-color: #000000\"> e:</span><span style=\"background-color: #000000\">                                                                                       </span>\n<span style=\"color: #f8f8f2; text-decoration-color: #f8f8f2; background-color: #000000\">    print(e</span><span style=\"color: #ff4689; text-decoration-color: #ff4689; background-color: #000000\">.</span><span style=\"color: #f8f8f2; text-decoration-color: #f8f8f2; background-color: #000000\">json())</span><span style=\"background-color: #000000\">                                                                                                </span>\n<span style=\"background-color: #000000\">                                                                                                                   </span>\n<span style=\"color: #959077; text-decoration-color: #959077; background-color: #000000\"># Example of invalid data</span><span style=\"background-color: #000000\">                                                                                          </span>\n<span style=\"color: #66d9ef; text-decoration-color: #66d9ef; background-color: #000000\">try</span><span style=\"color: #f8f8f2; text-decoration-color: #f8f8f2; background-color: #000000\">:</span><span style=\"background-color: #000000\">                                                                                                               </span>\n<span style=\"color: #f8f8f2; text-decoration-color: #f8f8f2; background-color: #000000\">    user_invalid </span><span style=\"color: #ff4689; text-decoration-color: #ff4689; background-color: #000000\">=</span><span style=\"color: #f8f8f2; text-decoration-color: #f8f8f2; background-color: #000000\"> User(id</span><span style=\"color: #ff4689; text-decoration-color: #ff4689; background-color: #000000\">=</span><span style=\"color: #e6db74; text-decoration-color: #e6db74; background-color: #000000\">\"not-an-integer\"</span><span style=\"color: #f8f8f2; text-decoration-color: #f8f8f2; background-color: #000000\">, name</span><span style=\"color: #ff4689; text-decoration-color: #ff4689; background-color: #000000\">=</span><span style=\"color: #e6db74; text-decoration-color: #e6db74; background-color: #000000\">\"Bob\"</span><span style=\"color: #f8f8f2; text-decoration-color: #f8f8f2; background-color: #000000\">, email</span><span style=\"color: #ff4689; text-decoration-color: #ff4689; background-color: #000000\">=</span><span style=\"color: #e6db74; text-decoration-color: #e6db74; background-color: #000000\">\"bob@example.com\"</span><span style=\"color: #f8f8f2; text-decoration-color: #f8f8f2; background-color: #000000\">)</span><span style=\"background-color: #000000\">                                  </span>\n<span style=\"color: #66d9ef; text-decoration-color: #66d9ef; background-color: #000000\">except</span><span style=\"color: #f8f8f2; text-decoration-color: #f8f8f2; background-color: #000000\"> ValidationError </span><span style=\"color: #66d9ef; text-decoration-color: #66d9ef; background-color: #000000\">as</span><span style=\"color: #f8f8f2; text-decoration-color: #f8f8f2; background-color: #000000\"> e:</span><span style=\"background-color: #000000\">                                                                                       </span>\n<span style=\"color: #f8f8f2; text-decoration-color: #f8f8f2; background-color: #000000\">    print(</span><span style=\"color: #e6db74; text-decoration-color: #e6db74; background-color: #000000\">\"Validation error:\"</span><span style=\"color: #f8f8f2; text-decoration-color: #f8f8f2; background-color: #000000\">, e</span><span style=\"color: #ff4689; text-decoration-color: #ff4689; background-color: #000000\">.</span><span style=\"color: #f8f8f2; text-decoration-color: #f8f8f2; background-color: #000000\">json())</span><span style=\"background-color: #000000\">                                                                           </span>\n<span style=\"color: #7f7f7f; text-decoration-color: #7f7f7f\">/python</span>\n\n                                                   <span style=\"font-weight: bold\">Explanation:</span>                                                    \n\n<span style=\"color: #808000; text-decoration-color: #808000; font-weight: bold\"> 1 </span><span style=\"font-weight: bold\">Model Definition</span>: A <span style=\"color: #008080; text-decoration-color: #008080; background-color: #000000; font-weight: bold\">User</span> class is created that inherits from <span style=\"color: #008080; text-decoration-color: #008080; background-color: #000000; font-weight: bold\">BaseModel</span>. The class attributes <span style=\"color: #008080; text-decoration-color: #008080; background-color: #000000; font-weight: bold\">id</span>, <span style=\"color: #008080; text-decoration-color: #008080; background-color: #000000; font-weight: bold\">name</span>, and <span style=\"color: #008080; text-decoration-color: #008080; background-color: #000000; font-weight: bold\">email</span>\n<span style=\"color: #808000; text-decoration-color: #808000; font-weight: bold\">   </span>are defined with their respective types.                                                                        \n<span style=\"color: #808000; text-decoration-color: #808000; font-weight: bold\"> 2 </span><span style=\"font-weight: bold\">Creating Instances</span>: You can create an instance of the <span style=\"color: #008080; text-decoration-color: #008080; background-color: #000000; font-weight: bold\">User</span> class by passing the appropriate arguments. If the   \n<span style=\"color: #808000; text-decoration-color: #808000; font-weight: bold\">   </span>data is valid, it produces the <span style=\"color: #008080; text-decoration-color: #008080; background-color: #000000; font-weight: bold\">User</span> object.                                                                     \n<span style=\"color: #808000; text-decoration-color: #808000; font-weight: bold\"> 3 </span><span style=\"font-weight: bold\">Validation</span>: If you try to create a <span style=\"color: #008080; text-decoration-color: #008080; background-color: #000000; font-weight: bold\">User</span> instance with invalid data (like providing a string for <span style=\"color: #008080; text-decoration-color: #008080; background-color: #000000; font-weight: bold\">id</span> instead of an\n<span style=\"color: #808000; text-decoration-color: #808000; font-weight: bold\">   </span>integer),                                                                                                       \n</pre>\n"
                },
                "metadata": {}
              }
            ]
          }
        },
        "ad415e13d6304b37a9fe3110b2175aaf": {
          "model_module": "@jupyter-widgets/base",
          "model_name": "LayoutModel",
          "model_module_version": "1.2.0",
          "state": {
            "_model_module": "@jupyter-widgets/base",
            "_model_module_version": "1.2.0",
            "_model_name": "LayoutModel",
            "_view_count": null,
            "_view_module": "@jupyter-widgets/base",
            "_view_module_version": "1.2.0",
            "_view_name": "LayoutView",
            "align_content": null,
            "align_items": null,
            "align_self": null,
            "border": null,
            "bottom": null,
            "display": null,
            "flex": null,
            "flex_flow": null,
            "grid_area": null,
            "grid_auto_columns": null,
            "grid_auto_flow": null,
            "grid_auto_rows": null,
            "grid_column": null,
            "grid_gap": null,
            "grid_row": null,
            "grid_template_areas": null,
            "grid_template_columns": null,
            "grid_template_rows": null,
            "height": null,
            "justify_content": null,
            "justify_items": null,
            "left": null,
            "margin": null,
            "max_height": null,
            "max_width": null,
            "min_height": null,
            "min_width": null,
            "object_fit": null,
            "object_position": null,
            "order": null,
            "overflow": null,
            "overflow_x": null,
            "overflow_y": null,
            "padding": null,
            "right": null,
            "top": null,
            "visibility": null,
            "width": null
          }
        }
      }
    }
  },
  "cells": [
    {
      "cell_type": "markdown",
      "source": [
        "Github: https://github.com/05satyam/AI-ML/tree/main\n",
        "# PydanticAI\n",
        "Below code reference from Pydantic documentation"
      ],
      "metadata": {
        "id": "icSdHIfj8GMc"
      }
    },
    {
      "cell_type": "code",
      "execution_count": null,
      "metadata": {
        "id": "kBChdle68C3E",
        "outputId": "e06bc0eb-bc9f-4af6-dddc-b38c4418d49f",
        "colab": {
          "base_uri": "https://localhost:8080/"
        }
      },
      "outputs": [
        {
          "output_type": "stream",
          "name": "stdout",
          "text": [
            "\u001b[?25l   \u001b[90m━━━━━━━━━━━━━━━━━━━━━━━━━━━━━━━━━━━━━━━━\u001b[0m \u001b[32m0.0/123.5 kB\u001b[0m \u001b[31m?\u001b[0m eta \u001b[36m-:--:--\u001b[0m\r\u001b[2K   \u001b[90m━━━━━━━━━━━━━━━━━━━━━━━━━━━━━━━━━━━━━━━━\u001b[0m \u001b[32m123.5/123.5 kB\u001b[0m \u001b[31m5.9 MB/s\u001b[0m eta \u001b[36m0:00:00\u001b[0m\n",
            "\u001b[?25h\u001b[?25l   \u001b[90m━━━━━━━━━━━━━━━━━━━━━━━━━━━━━━━━━━━━━━━━\u001b[0m \u001b[32m0.0/243.4 kB\u001b[0m \u001b[31m?\u001b[0m eta \u001b[36m-:--:--\u001b[0m\r\u001b[2K   \u001b[90m━━━━━━━━━━━━━━━━━━━━━━━━━━━━━━━━━━━━━━━━\u001b[0m \u001b[32m243.4/243.4 kB\u001b[0m \u001b[31m11.6 MB/s\u001b[0m eta \u001b[36m0:00:00\u001b[0m\n",
            "\u001b[?25h\u001b[?25l   \u001b[90m━━━━━━━━━━━━━━━━━━━━━━━━━━━━━━━━━━━━━━━━\u001b[0m \u001b[32m0.0/43.8 kB\u001b[0m \u001b[31m?\u001b[0m eta \u001b[36m-:--:--\u001b[0m\r\u001b[2K   \u001b[90m━━━━━━━━━━━━━━━━━━━━━━━━━━━━━━━━━━━━━━━━\u001b[0m \u001b[32m43.8/43.8 kB\u001b[0m \u001b[31m2.4 MB/s\u001b[0m eta \u001b[36m0:00:00\u001b[0m\n",
            "\u001b[2K   \u001b[90m━━━━━━━━━━━━━━━━━━━━━━━━━━━━━━━━━━━━━━━━\u001b[0m \u001b[32m253.9/253.9 kB\u001b[0m \u001b[31m13.3 MB/s\u001b[0m eta \u001b[36m0:00:00\u001b[0m\n",
            "\u001b[2K   \u001b[90m━━━━━━━━━━━━━━━━━━━━━━━━━━━━━━━━━━━━━━━━\u001b[0m \u001b[32m128.5/128.5 kB\u001b[0m \u001b[31m8.3 MB/s\u001b[0m eta \u001b[36m0:00:00\u001b[0m\n",
            "\u001b[2K   \u001b[90m━━━━━━━━━━━━━━━━━━━━━━━━━━━━━━━━━━━━━━━━\u001b[0m \u001b[32m121.9/121.9 kB\u001b[0m \u001b[31m7.1 MB/s\u001b[0m eta \u001b[36m0:00:00\u001b[0m\n",
            "\u001b[2K   \u001b[90m━━━━━━━━━━━━━━━━━━━━━━━━━━━━━━━━━━━━━━━━\u001b[0m \u001b[32m278.3/278.3 kB\u001b[0m \u001b[31m16.0 MB/s\u001b[0m eta \u001b[36m0:00:00\u001b[0m\n",
            "\u001b[2K   \u001b[90m━━━━━━━━━━━━━━━━━━━━━━━━━━━━━━━━━━━━━━━━\u001b[0m \u001b[32m473.5/473.5 kB\u001b[0m \u001b[31m22.7 MB/s\u001b[0m eta \u001b[36m0:00:00\u001b[0m\n",
            "\u001b[2K   \u001b[90m━━━━━━━━━━━━━━━━━━━━━━━━━━━━━━━━━━━━━━━━\u001b[0m \u001b[32m65.0/65.0 kB\u001b[0m \u001b[31m4.2 MB/s\u001b[0m eta \u001b[36m0:00:00\u001b[0m\n",
            "\u001b[2K   \u001b[90m━━━━━━━━━━━━━━━━━━━━━━━━━━━━━━━━━━━━━━━━\u001b[0m \u001b[32m3.3/3.3 MB\u001b[0m \u001b[31m37.1 MB/s\u001b[0m eta \u001b[36m0:00:00\u001b[0m\n",
            "\u001b[2K   \u001b[90m━━━━━━━━━━━━━━━━━━━━━━━━━━━━━━━━━━━━━━━━\u001b[0m \u001b[32m75.6/75.6 kB\u001b[0m \u001b[31m4.6 MB/s\u001b[0m eta \u001b[36m0:00:00\u001b[0m\n",
            "\u001b[?25h\u001b[31mERROR: pip's dependency resolver does not currently take into account all the packages that are installed. This behaviour is the source of the following dependency conflicts.\n",
            "opentelemetry-sdk 1.16.0 requires opentelemetry-api==1.16.0, but you have opentelemetry-api 1.30.0 which is incompatible.\u001b[0m\u001b[31m\n",
            "\u001b[0m"
          ]
        }
      ],
      "source": [
        "!pip -q install pydantic-ai\n",
        "!pip -q install nest_asyncio\n",
        "!pip -q install devtools"
      ]
    },
    {
      "cell_type": "markdown",
      "source": [
        "### **Restart the notebook**"
      ],
      "metadata": {
        "id": "N2rUPJxt4t-r"
      }
    },
    {
      "cell_type": "code",
      "source": [
        "import os\n",
        "from google.colab import userdata\n",
        "from IPython.display import display, Markdown\n",
        "\n",
        "os.environ[\"OPENAI_API_KEY\"] = userdata.get('OPENAI_API_KEY')\n",
        "os.environ[\"WEATHER_API_KEY\"] = userdata.get('WEATHER_API_KEY')\n",
        "# os.environ[\"GEMINI_API_KEY\"] = userdata.get('GOOGLE_AI_STUDIO')\n",
        "# os.environ[\"GROQ_API_KEY\"] = userdata.get('GROQ_API_KEY')\n"
      ],
      "metadata": {
        "id": "icRZD-DW8JZf"
      },
      "execution_count": null,
      "outputs": []
    },
    {
      "cell_type": "code",
      "source": [
        "import nest_asyncio\n",
        "nest_asyncio.apply()"
      ],
      "metadata": {
        "id": "ZKpEfbHCO0b5"
      },
      "execution_count": null,
      "outputs": []
    },
    {
      "cell_type": "code",
      "source": [
        "import nest_asyncio\n",
        "nest_asyncio.apply()\n",
        "\n",
        "'''\n",
        "Explanation of changes:\n",
        "\n",
        "Import nest_asyncio: This library allows you to run an asyncio event loop within an existing event loop, which is often necessary in environments like Jupyter notebooks or Google Colab.\n",
        "Apply nest_asyncio: The line nest_asyncio.apply() is crucial for enabling nested event loops. It modifies the behavior of asyncio.get_event_loop() to return a nested loop if one is already running.\n",
        "'''"
      ],
      "metadata": {
        "id": "PrYmKYkGKnCn",
        "outputId": "663ae451-4e3a-4c34-84e3-e3eb2d88d330",
        "colab": {
          "base_uri": "https://localhost:8080/",
          "height": 88
        }
      },
      "execution_count": null,
      "outputs": [
        {
          "output_type": "execute_result",
          "data": {
            "text/plain": [
              "'\\nExplanation of changes:\\n\\nImport nest_asyncio: This library allows you to run an asyncio event loop within an existing event loop, which is often necessary in environments like Jupyter notebooks or Google Colab.\\nApply nest_asyncio: The line nest_asyncio.apply() is crucial for enabling nested event loops. It modifies the behavior of asyncio.get_event_loop() to return a nested loop if one is already running.\\n'"
            ],
            "application/vnd.google.colaboratory.intrinsic+json": {
              "type": "string"
            }
          },
          "metadata": {},
          "execution_count": 5
        }
      ]
    },
    {
      "cell_type": "code",
      "source": [
        "# from pydantic_ai import Agent, ModelRetry\n",
        "\n",
        "# agent = Agent(\n",
        "#     'gemini-1.5-flash',\n",
        "#     system_prompt='Be very concise, reply with one sentence only.',\n",
        "#     retries=3\n",
        "# )\n",
        "\n",
        "# result = agent.run_sync('Where does \"hello world\" come from?')\n",
        "# print(result.data)"
      ],
      "metadata": {
        "id": "zdndYtPDNtm4"
      },
      "execution_count": null,
      "outputs": []
    },
    {
      "cell_type": "code",
      "source": [
        "# agent.model = 'gemini-1.5-pro'\n",
        "\n",
        "# @agent.system_prompt\n",
        "# async def get_system_prompt(self) -> str:\n",
        "#     return \"Give a long one paragraph answer and make it dense\""
      ],
      "metadata": {
        "id": "GYGKY5uw92HP"
      },
      "execution_count": null,
      "outputs": []
    },
    {
      "cell_type": "code",
      "source": [
        "\n",
        "result = agent.run_sync('Where does \"hello world\" come from?')\n",
        "Markdown(result.data)"
      ],
      "metadata": {
        "colab": {
          "base_uri": "https://localhost:8080/",
          "height": 158
        },
        "id": "--FZeW3y-BQg",
        "outputId": "ece9751b-2160-4deb-c770-bb54b664fd30"
      },
      "execution_count": null,
      "outputs": [
        {
          "output_type": "error",
          "ename": "NameError",
          "evalue": "name 'agent' is not defined",
          "traceback": [
            "\u001b[0;31m---------------------------------------------------------------------------\u001b[0m",
            "\u001b[0;31mNameError\u001b[0m                                 Traceback (most recent call last)",
            "\u001b[0;32m<ipython-input-6-cacbe6e141e3>\u001b[0m in \u001b[0;36m<cell line: 0>\u001b[0;34m()\u001b[0m\n\u001b[0;32m----> 1\u001b[0;31m \u001b[0mresult\u001b[0m \u001b[0;34m=\u001b[0m \u001b[0magent\u001b[0m\u001b[0;34m.\u001b[0m\u001b[0mrun_sync\u001b[0m\u001b[0;34m(\u001b[0m\u001b[0;34m'Where does \"hello world\" come from?'\u001b[0m\u001b[0;34m)\u001b[0m\u001b[0;34m\u001b[0m\u001b[0;34m\u001b[0m\u001b[0m\n\u001b[0m\u001b[1;32m      2\u001b[0m \u001b[0mMarkdown\u001b[0m\u001b[0;34m(\u001b[0m\u001b[0mresult\u001b[0m\u001b[0;34m.\u001b[0m\u001b[0mdata\u001b[0m\u001b[0;34m)\u001b[0m\u001b[0;34m\u001b[0m\u001b[0;34m\u001b[0m\u001b[0m\n",
            "\u001b[0;31mNameError\u001b[0m: name 'agent' is not defined"
          ]
        }
      ]
    },
    {
      "cell_type": "markdown",
      "source": [
        "## Basic structured output"
      ],
      "metadata": {
        "id": "TYmgv0FfPiKw"
      }
    },
    {
      "cell_type": "code",
      "source": [
        "import os\n",
        "from typing import cast\n",
        "import asyncio\n",
        "from pydantic import BaseModel\n",
        "\n",
        "from pydantic_ai import Agent\n",
        "from pydantic_ai.models import KnownModelName\n",
        "\n",
        "class MyModel(BaseModel):\n",
        "    city: str\n",
        "    country: str\n",
        "    reason: str\n",
        "    famous_person_from_city: str\n",
        "\n",
        "\n",
        "model = 'openai:gpt-4o'\n",
        "print(f'Using model: {model}')\n",
        "\n",
        "agent = Agent(model,\n",
        "              result_type=MyModel,\n",
        "              )\n",
        "\n",
        "\n",
        "result = await agent.run('The windy city in the US of A.')\n",
        "print(result.data)\n"
      ],
      "metadata": {
        "colab": {
          "base_uri": "https://localhost:8080/"
        },
        "id": "FTMowGQZQq70",
        "outputId": "baa365c9-ec0e-4e95-ea9a-801ad4930ad8"
      },
      "execution_count": null,
      "outputs": [
        {
          "output_type": "stream",
          "name": "stdout",
          "text": [
            "Using model: openai:gpt-4o\n",
            "city='Chicago' country='United States' reason=\"The city is often called 'The Windy City' due to its weather, but the nickname actually originated from the long-winded politicians of the city.\" famous_person_from_city='Michael Jordan'\n"
          ]
        }
      ]
    },
    {
      "cell_type": "code",
      "source": [
        "print(result)"
      ],
      "metadata": {
        "colab": {
          "base_uri": "https://localhost:8080/"
        },
        "id": "Jl6F_E97VSM7",
        "outputId": "eb9ab7e6-9c69-4993-a4cc-10a033dd0852"
      },
      "execution_count": null,
      "outputs": [
        {
          "output_type": "stream",
          "name": "stdout",
          "text": [
            "AgentRunResult(data=MyModel(city='Chicago', country='USA', reason=\"It's known as the 'Windy City' because of its strong winds and also due to its historical reputation for long-winded politicians.\", famous_person_from_city='Barack Obama'))\n"
          ]
        }
      ]
    },
    {
      "cell_type": "code",
      "source": [
        "\n",
        "result = agent.run_sync('The Merlion city.')\n",
        "print(result.data)"
      ],
      "metadata": {
        "colab": {
          "base_uri": "https://localhost:8080/"
        },
        "id": "cAYNEqLsVV53",
        "outputId": "f5b9b88c-b30b-4659-e575-b8dee2eb5269"
      },
      "execution_count": null,
      "outputs": [
        {
          "output_type": "stream",
          "name": "stdout",
          "text": [
            "city='Singapore' country='Singapore' reason=\"Singapore is often referred to as the 'Merlion City' because the Merlion, a mythical creature with a lion's head and a fish's body, is an iconic symbol of the city. The statue represents Singapore's origins as a fishing village combined with its original name, Singapura, or 'Lion City' in Malay.\" famous_person_from_city='Lee Kuan Yew'\n"
          ]
        }
      ]
    },
    {
      "cell_type": "code",
      "source": [
        "result = agent.run_sync('The cold city in the south')\n",
        "print(result.data)"
      ],
      "metadata": {
        "colab": {
          "base_uri": "https://localhost:8080/"
        },
        "id": "1PoZr2ozVdVM",
        "outputId": "433b2af8-8882-433b-e20a-ca6282205f82"
      },
      "execution_count": null,
      "outputs": [
        {
          "output_type": "stream",
          "name": "stdout",
          "text": [
            "city='Ushuaia' country='Argentina' reason='Ushuaia is located in the southern part of Argentina and is known as one of the coldest cities due to its southern location near Antarctica.' famous_person_from_city='Lucas M. Reculusa'\n"
          ]
        }
      ]
    },
    {
      "cell_type": "code",
      "source": [
        "result.data.famous_person_from_city"
      ],
      "metadata": {
        "colab": {
          "base_uri": "https://localhost:8080/",
          "height": 36
        },
        "id": "08P3XhpWESaq",
        "outputId": "22058fea-dd6e-4630-d45a-4855abee2ecf"
      },
      "execution_count": null,
      "outputs": [
        {
          "output_type": "execute_result",
          "data": {
            "text/plain": [
              "'Lucas M. Reculusa'"
            ],
            "application/vnd.google.colaboratory.intrinsic+json": {
              "type": "string"
            }
          },
          "metadata": {},
          "execution_count": 16
        }
      ]
    },
    {
      "cell_type": "code",
      "source": [
        "agent"
      ],
      "metadata": {
        "colab": {
          "base_uri": "https://localhost:8080/"
        },
        "id": "U2ws8XyYBAgZ",
        "outputId": "fdf25732-f948-4892-c828-650bb4ec4a9c"
      },
      "execution_count": null,
      "outputs": [
        {
          "output_type": "execute_result",
          "data": {
            "text/plain": [
              "Agent(model=OpenAIModel(system_prompt_role=None), name='agent', end_strategy='early', model_settings=None, instrument=None)"
            ]
          },
          "metadata": {},
          "execution_count": 17
        }
      ]
    },
    {
      "cell_type": "markdown",
      "source": [
        "## Chat APP"
      ],
      "metadata": {
        "id": "0RIfAKkyW7Rl"
      }
    },
    {
      "cell_type": "code",
      "source": [
        "from pydantic_ai import Agent\n",
        "from pprint import pprint"
      ],
      "metadata": {
        "id": "YY3Hrk1JZOxg"
      },
      "execution_count": null,
      "outputs": []
    },
    {
      "cell_type": "code",
      "source": [
        "agent = Agent('openai:gpt-4o-mini', system_prompt='Be a helpful assistant.')"
      ],
      "metadata": {
        "id": "dzMLp2KgZQX9"
      },
      "execution_count": null,
      "outputs": []
    },
    {
      "cell_type": "code",
      "source": [
        "result = agent.run_sync('Tell me a joke.')\n",
        "print(result.data)"
      ],
      "metadata": {
        "colab": {
          "base_uri": "https://localhost:8080/"
        },
        "id": "hDe_kFcYZV8b",
        "outputId": "e558bfca-1757-45fb-f4ee-e00169c9cb45"
      },
      "execution_count": null,
      "outputs": [
        {
          "output_type": "stream",
          "name": "stdout",
          "text": [
            "Why did the scarecrow win an award? \n",
            "\n",
            "Because he was outstanding in his field!\n"
          ]
        }
      ]
    },
    {
      "cell_type": "code",
      "source": [
        "# all messages from the run\n",
        "pprint(result.all_messages())"
      ],
      "metadata": {
        "colab": {
          "base_uri": "https://localhost:8080/"
        },
        "id": "9W8OuRz7Zaoq",
        "outputId": "f40f7c25-1fc7-43b1-fafc-e65e5a330f69"
      },
      "execution_count": null,
      "outputs": [
        {
          "output_type": "stream",
          "name": "stdout",
          "text": [
            "[ModelRequest(parts=[SystemPromptPart(content='Be a helpful assistant.',\n",
            "                                      dynamic_ref=None,\n",
            "                                      part_kind='system-prompt'),\n",
            "                     UserPromptPart(content='Tell me a joke.',\n",
            "                                    timestamp=datetime.datetime(2025, 3, 7, 2, 9, 21, 475062, tzinfo=datetime.timezone.utc),\n",
            "                                    part_kind='user-prompt')],\n",
            "              kind='request'),\n",
            " ModelResponse(parts=[TextPart(content='Why did the scarecrow win an award? \\n'\n",
            "                                       '\\n'\n",
            "                                       'Because he was outstanding in his '\n",
            "                                       'field!',\n",
            "                               part_kind='text')],\n",
            "               model_name='gpt-4o-mini-2024-07-18',\n",
            "               timestamp=datetime.datetime(2025, 3, 7, 2, 9, 21, tzinfo=datetime.timezone.utc),\n",
            "               kind='response')]\n"
          ]
        }
      ]
    },
    {
      "cell_type": "code",
      "source": [
        "type(result.all_messages())"
      ],
      "metadata": {
        "colab": {
          "base_uri": "https://localhost:8080/"
        },
        "id": "dTl5B22WZeKZ",
        "outputId": "43ceb529-8eed-4e56-87c1-5fbded8ea469"
      },
      "execution_count": null,
      "outputs": [
        {
          "output_type": "execute_result",
          "data": {
            "text/plain": [
              "list"
            ]
          },
          "metadata": {},
          "execution_count": 21
        }
      ]
    },
    {
      "cell_type": "code",
      "source": [
        "pprint(result.new_messages())"
      ],
      "metadata": {
        "colab": {
          "base_uri": "https://localhost:8080/"
        },
        "id": "n9u0Th2uZ1Zk",
        "outputId": "581c078e-5e70-48f2-a777-3514536d1515"
      },
      "execution_count": null,
      "outputs": [
        {
          "output_type": "stream",
          "name": "stdout",
          "text": [
            "[ModelRequest(parts=[SystemPromptPart(content='Be a helpful assistant.',\n",
            "                                      dynamic_ref=None,\n",
            "                                      part_kind='system-prompt'),\n",
            "                     UserPromptPart(content='Tell me a joke.',\n",
            "                                    timestamp=datetime.datetime(2025, 3, 6, 16, 3, 6, 799054, tzinfo=datetime.timezone.utc),\n",
            "                                    part_kind='user-prompt')],\n",
            "              kind='request'),\n",
            " ModelResponse(parts=[TextPart(content='Why did the scarecrow win an award?\\n'\n",
            "                                       '\\n'\n",
            "                                       'Because he was outstanding in his '\n",
            "                                       'field!',\n",
            "                               part_kind='text')],\n",
            "               model_name='gpt-4o-mini-2024-07-18',\n",
            "               timestamp=datetime.datetime(2025, 3, 6, 16, 3, 6, tzinfo=datetime.timezone.utc),\n",
            "               kind='response')]\n"
          ]
        }
      ]
    },
    {
      "cell_type": "code",
      "source": [
        "result2 = agent.run_sync('Explain it please?', message_history=result.new_messages())\n",
        "print(result2.data)"
      ],
      "metadata": {
        "colab": {
          "base_uri": "https://localhost:8080/"
        },
        "id": "XohGqNheZeOW",
        "outputId": "62dfceb4-53f3-4aa7-a6cb-bb0393cb95e7"
      },
      "execution_count": null,
      "outputs": [
        {
          "output_type": "stream",
          "name": "stdout",
          "text": [
            "Sure! The joke plays on a double meaning of the phrase \"outstanding in his field.\" \n",
            "\n",
            "1. **Literal Meaning**: A scarecrow is literally \"out standing\" (standing out in the open) in a field (like a cornfield) to scare away birds.\n",
            "\n",
            "2. **Figurative Meaning**: The phrase \"outstanding in his field\" is also a common expression used to describe someone who is exceptionally good at what they do or an expert in their profession.\n",
            "\n",
            "So, the humor comes from the pun and the clever twist on common phrases!\n"
          ]
        }
      ]
    },
    {
      "cell_type": "code",
      "source": [
        "pprint(result2.all_messages())"
      ],
      "metadata": {
        "colab": {
          "base_uri": "https://localhost:8080/"
        },
        "id": "okyFBRBtZ8l7",
        "outputId": "f22690ee-d376-4218-949b-74aec04ba486"
      },
      "execution_count": null,
      "outputs": [
        {
          "output_type": "stream",
          "name": "stdout",
          "text": [
            "[ModelRequest(parts=[SystemPromptPart(content='Be a helpful assistant.',\n",
            "                                      dynamic_ref=None,\n",
            "                                      part_kind='system-prompt'),\n",
            "                     UserPromptPart(content='Tell me a joke.',\n",
            "                                    timestamp=datetime.datetime(2025, 3, 6, 16, 3, 6, 799054, tzinfo=datetime.timezone.utc),\n",
            "                                    part_kind='user-prompt')],\n",
            "              kind='request'),\n",
            " ModelResponse(parts=[TextPart(content='Why did the scarecrow win an award?\\n'\n",
            "                                       '\\n'\n",
            "                                       'Because he was outstanding in his '\n",
            "                                       'field!',\n",
            "                               part_kind='text')],\n",
            "               model_name='gpt-4o-mini-2024-07-18',\n",
            "               timestamp=datetime.datetime(2025, 3, 6, 16, 3, 6, tzinfo=datetime.timezone.utc),\n",
            "               kind='response'),\n",
            " ModelRequest(parts=[UserPromptPart(content='Explain it please?',\n",
            "                                    timestamp=datetime.datetime(2025, 3, 6, 16, 3, 12, 291970, tzinfo=datetime.timezone.utc),\n",
            "                                    part_kind='user-prompt')],\n",
            "              kind='request'),\n",
            " ModelResponse(parts=[TextPart(content='Sure! The joke plays on a double '\n",
            "                                       'meaning of the phrase \"outstanding in '\n",
            "                                       'his field.\" \\n'\n",
            "                                       '\\n'\n",
            "                                       '1. **Literal Meaning**: A scarecrow is '\n",
            "                                       'literally \"out standing\" (standing out '\n",
            "                                       'in the open) in a field (like a '\n",
            "                                       'cornfield) to scare away birds.\\n'\n",
            "                                       '\\n'\n",
            "                                       '2. **Figurative Meaning**: The phrase '\n",
            "                                       '\"outstanding in his field\" is also a '\n",
            "                                       'common expression used to describe '\n",
            "                                       'someone who is exceptionally good at '\n",
            "                                       'what they do or an expert in their '\n",
            "                                       'profession.\\n'\n",
            "                                       '\\n'\n",
            "                                       'So, the humor comes from the pun and '\n",
            "                                       'the clever twist on common phrases!',\n",
            "                               part_kind='text')],\n",
            "               model_name='gpt-4o-mini-2024-07-18',\n",
            "               timestamp=datetime.datetime(2025, 3, 6, 16, 3, 12, tzinfo=datetime.timezone.utc),\n",
            "               kind='response')]\n"
          ]
        }
      ]
    },
    {
      "cell_type": "code",
      "source": [
        "pprint(result2.new_messages())"
      ],
      "metadata": {
        "colab": {
          "base_uri": "https://localhost:8080/"
        },
        "id": "PGfJPUpXXOCy",
        "outputId": "6b179a7c-b44b-4ee9-8fdc-49042b6bd5c4"
      },
      "execution_count": null,
      "outputs": [
        {
          "output_type": "stream",
          "name": "stdout",
          "text": [
            "[ModelRequest(parts=[UserPromptPart(content='Explain it please?',\n",
            "                                    timestamp=datetime.datetime(2025, 3, 6, 16, 3, 12, 291970, tzinfo=datetime.timezone.utc),\n",
            "                                    part_kind='user-prompt')],\n",
            "              kind='request'),\n",
            " ModelResponse(parts=[TextPart(content='Sure! The joke plays on a double '\n",
            "                                       'meaning of the phrase \"outstanding in '\n",
            "                                       'his field.\" \\n'\n",
            "                                       '\\n'\n",
            "                                       '1. **Literal Meaning**: A scarecrow is '\n",
            "                                       'literally \"out standing\" (standing out '\n",
            "                                       'in the open) in a field (like a '\n",
            "                                       'cornfield) to scare away birds.\\n'\n",
            "                                       '\\n'\n",
            "                                       '2. **Figurative Meaning**: The phrase '\n",
            "                                       '\"outstanding in his field\" is also a '\n",
            "                                       'common expression used to describe '\n",
            "                                       'someone who is exceptionally good at '\n",
            "                                       'what they do or an expert in their '\n",
            "                                       'profession.\\n'\n",
            "                                       '\\n'\n",
            "                                       'So, the humor comes from the pun and '\n",
            "                                       'the clever twist on common phrases!',\n",
            "                               part_kind='text')],\n",
            "               model_name='gpt-4o-mini-2024-07-18',\n",
            "               timestamp=datetime.datetime(2025, 3, 6, 16, 3, 12, tzinfo=datetime.timezone.utc),\n",
            "               kind='response')]\n"
          ]
        }
      ]
    },
    {
      "cell_type": "code",
      "source": [
        "result3 = agent.run_sync('Where does the joke come from?', message_history=result2.all_messages())\n",
        "print(result3.data)"
      ],
      "metadata": {
        "colab": {
          "base_uri": "https://localhost:8080/"
        },
        "id": "25MExpMba0h6",
        "outputId": "7c83dd84-9a50-4490-9fe0-a116391e42f4"
      },
      "execution_count": null,
      "outputs": [
        {
          "output_type": "stream",
          "name": "stdout",
          "text": [
            "The joke about the scarecrow is a classic example of a pun, which is a form of wordplay that plays with the multiple meanings of words or similar-sounding words for humorous effect. Jokes like this one have been part of oral tradition and written humor for many years.\n",
            "\n",
            "Puns and wordplay have a long history in literature and comedy, with examples found in the works of Shakespeare, for instance. The scarecrow joke specifically doesn’t have a known single origin or author; rather, it falls into the category of jokes that have evolved and circulated in popular culture over time, often appearing in children's joke books and family-friendly comedy. \n",
            "\n",
            "The simplicity of the structure and the light-hearted nature of the subject make it a favorite among jokes for all ages!\n"
          ]
        }
      ]
    },
    {
      "cell_type": "code",
      "source": [
        "pprint(result3.all_messages())"
      ],
      "metadata": {
        "colab": {
          "base_uri": "https://localhost:8080/"
        },
        "id": "8p1fgt9za-yY",
        "outputId": "f4ec1299-c73d-4b1b-8a1a-5b819a45bd52"
      },
      "execution_count": null,
      "outputs": [
        {
          "output_type": "stream",
          "name": "stdout",
          "text": [
            "[ModelRequest(parts=[SystemPromptPart(content='Be a helpful assistant.',\n",
            "                                      dynamic_ref=None,\n",
            "                                      part_kind='system-prompt'),\n",
            "                     UserPromptPart(content='Tell me a joke.',\n",
            "                                    timestamp=datetime.datetime(2025, 3, 6, 16, 3, 6, 799054, tzinfo=datetime.timezone.utc),\n",
            "                                    part_kind='user-prompt')],\n",
            "              kind='request'),\n",
            " ModelResponse(parts=[TextPart(content='Why did the scarecrow win an award?\\n'\n",
            "                                       '\\n'\n",
            "                                       'Because he was outstanding in his '\n",
            "                                       'field!',\n",
            "                               part_kind='text')],\n",
            "               model_name='gpt-4o-mini-2024-07-18',\n",
            "               timestamp=datetime.datetime(2025, 3, 6, 16, 3, 6, tzinfo=datetime.timezone.utc),\n",
            "               kind='response'),\n",
            " ModelRequest(parts=[UserPromptPart(content='Explain it please?',\n",
            "                                    timestamp=datetime.datetime(2025, 3, 6, 16, 3, 12, 291970, tzinfo=datetime.timezone.utc),\n",
            "                                    part_kind='user-prompt')],\n",
            "              kind='request'),\n",
            " ModelResponse(parts=[TextPart(content='Sure! The joke plays on a double '\n",
            "                                       'meaning of the phrase \"outstanding in '\n",
            "                                       'his field.\" \\n'\n",
            "                                       '\\n'\n",
            "                                       '1. **Literal Meaning**: A scarecrow is '\n",
            "                                       'literally \"out standing\" (standing out '\n",
            "                                       'in the open) in a field (like a '\n",
            "                                       'cornfield) to scare away birds.\\n'\n",
            "                                       '\\n'\n",
            "                                       '2. **Figurative Meaning**: The phrase '\n",
            "                                       '\"outstanding in his field\" is also a '\n",
            "                                       'common expression used to describe '\n",
            "                                       'someone who is exceptionally good at '\n",
            "                                       'what they do or an expert in their '\n",
            "                                       'profession.\\n'\n",
            "                                       '\\n'\n",
            "                                       'So, the humor comes from the pun and '\n",
            "                                       'the clever twist on common phrases!',\n",
            "                               part_kind='text')],\n",
            "               model_name='gpt-4o-mini-2024-07-18',\n",
            "               timestamp=datetime.datetime(2025, 3, 6, 16, 3, 12, tzinfo=datetime.timezone.utc),\n",
            "               kind='response'),\n",
            " ModelRequest(parts=[UserPromptPart(content='Where does the joke come from?',\n",
            "                                    timestamp=datetime.datetime(2025, 3, 6, 16, 3, 19, 571754, tzinfo=datetime.timezone.utc),\n",
            "                                    part_kind='user-prompt')],\n",
            "              kind='request'),\n",
            " ModelResponse(parts=[TextPart(content='The joke about the scarecrow is a '\n",
            "                                       'classic example of a pun, which is a '\n",
            "                                       'form of wordplay that plays with the '\n",
            "                                       'multiple meanings of words or '\n",
            "                                       'similar-sounding words for humorous '\n",
            "                                       'effect. Jokes like this one have been '\n",
            "                                       'part of oral tradition and written '\n",
            "                                       'humor for many years.\\n'\n",
            "                                       '\\n'\n",
            "                                       'Puns and wordplay have a long history '\n",
            "                                       'in literature and comedy, with '\n",
            "                                       'examples found in the works of '\n",
            "                                       'Shakespeare, for instance. The '\n",
            "                                       'scarecrow joke specifically doesn’t '\n",
            "                                       'have a known single origin or author; '\n",
            "                                       'rather, it falls into the category of '\n",
            "                                       'jokes that have evolved and circulated '\n",
            "                                       'in popular culture over time, often '\n",
            "                                       \"appearing in children's joke books and \"\n",
            "                                       'family-friendly comedy. \\n'\n",
            "                                       '\\n'\n",
            "                                       'The simplicity of the structure and '\n",
            "                                       'the light-hearted nature of the '\n",
            "                                       'subject make it a favorite among jokes '\n",
            "                                       'for all ages!',\n",
            "                               part_kind='text')],\n",
            "               model_name='gpt-4o-mini-2024-07-18',\n",
            "               timestamp=datetime.datetime(2025, 3, 6, 16, 3, 19, tzinfo=datetime.timezone.utc),\n",
            "               kind='response')]\n"
          ]
        }
      ]
    },
    {
      "cell_type": "code",
      "source": [
        "print(result3.all_messages_json())"
      ],
      "metadata": {
        "colab": {
          "base_uri": "https://localhost:8080/"
        },
        "id": "LytkNDspbKsW",
        "outputId": "b59e5ec1-46e2-40ec-ea63-6ae5c866b06f"
      },
      "execution_count": null,
      "outputs": [
        {
          "output_type": "stream",
          "name": "stdout",
          "text": [
            "b'[{\"parts\":[{\"content\":\"Be a helpful assistant.\",\"dynamic_ref\":null,\"part_kind\":\"system-prompt\"},{\"content\":\"Tell me a joke.\",\"timestamp\":\"2025-03-06T16:03:06.799054Z\",\"part_kind\":\"user-prompt\"}],\"kind\":\"request\"},{\"parts\":[{\"content\":\"Why did the scarecrow win an award?\\\\n\\\\nBecause he was outstanding in his field!\",\"part_kind\":\"text\"}],\"model_name\":\"gpt-4o-mini-2024-07-18\",\"timestamp\":\"2025-03-06T16:03:06Z\",\"kind\":\"response\"},{\"parts\":[{\"content\":\"Explain it please?\",\"timestamp\":\"2025-03-06T16:03:12.291970Z\",\"part_kind\":\"user-prompt\"}],\"kind\":\"request\"},{\"parts\":[{\"content\":\"Sure! The joke plays on a double meaning of the phrase \\\\\"outstanding in his field.\\\\\" \\\\n\\\\n1. **Literal Meaning**: A scarecrow is literally \\\\\"out standing\\\\\" (standing out in the open) in a field (like a cornfield) to scare away birds.\\\\n\\\\n2. **Figurative Meaning**: The phrase \\\\\"outstanding in his field\\\\\" is also a common expression used to describe someone who is exceptionally good at what they do or an expert in their profession.\\\\n\\\\nSo, the humor comes from the pun and the clever twist on common phrases!\",\"part_kind\":\"text\"}],\"model_name\":\"gpt-4o-mini-2024-07-18\",\"timestamp\":\"2025-03-06T16:03:12Z\",\"kind\":\"response\"},{\"parts\":[{\"content\":\"Where does the joke come from?\",\"timestamp\":\"2025-03-06T16:03:19.571754Z\",\"part_kind\":\"user-prompt\"}],\"kind\":\"request\"},{\"parts\":[{\"content\":\"The joke about the scarecrow is a classic example of a pun, which is a form of wordplay that plays with the multiple meanings of words or similar-sounding words for humorous effect. Jokes like this one have been part of oral tradition and written humor for many years.\\\\n\\\\nPuns and wordplay have a long history in literature and comedy, with examples found in the works of Shakespeare, for instance. The scarecrow joke specifically doesn\\xe2\\x80\\x99t have a known single origin or author; rather, it falls into the category of jokes that have evolved and circulated in popular culture over time, often appearing in children\\'s joke books and family-friendly comedy. \\\\n\\\\nThe simplicity of the structure and the light-hearted nature of the subject make it a favorite among jokes for all ages!\",\"part_kind\":\"text\"}],\"model_name\":\"gpt-4o-mini-2024-07-18\",\"timestamp\":\"2025-03-06T16:03:19Z\",\"kind\":\"response\"}]'\n"
          ]
        }
      ]
    },
    {
      "cell_type": "markdown",
      "source": [
        "## Chatting LLMs"
      ],
      "metadata": {
        "id": "54nv6LxtbqFu"
      }
    },
    {
      "cell_type": "code",
      "source": [
        "from pydantic_ai import Agent\n",
        "\n",
        "agent = Agent('openai:gpt-4o-mini', system_prompt='Be a helpful assistant.')\n",
        "\n",
        "result1 = agent.run_sync('Tell me a joke.')\n",
        "print(result1.data)\n",
        "\n",
        "# result2 = agent.run_sync(\n",
        "#     'Explain?', model='gemini-1.5-pro', message_history=result1.new_messages()\n",
        "# )\n",
        "# print(result2.data)\n",
        "\n",
        "\n"
      ],
      "metadata": {
        "colab": {
          "base_uri": "https://localhost:8080/"
        },
        "id": "M0K1JKHlbtmv",
        "outputId": "0166d734-8165-42ab-bb85-9de05eca512e"
      },
      "execution_count": null,
      "outputs": [
        {
          "output_type": "stream",
          "name": "stdout",
          "text": [
            "Why don't skeletons fight each other? \n",
            "\n",
            "Because they don't have the guts!\n"
          ]
        }
      ]
    },
    {
      "cell_type": "code",
      "source": [
        "pprint(result2.all_messages())"
      ],
      "metadata": {
        "colab": {
          "base_uri": "https://localhost:8080/"
        },
        "id": "JwMoPdhHb52v",
        "outputId": "9f930f3f-830a-4246-89b3-122ae8b38a06"
      },
      "execution_count": null,
      "outputs": [
        {
          "output_type": "stream",
          "name": "stdout",
          "text": [
            "[ModelRequest(parts=[SystemPromptPart(content='Be a helpful assistant.',\n",
            "                                      dynamic_ref=None,\n",
            "                                      part_kind='system-prompt'),\n",
            "                     UserPromptPart(content='Tell me a joke.',\n",
            "                                    timestamp=datetime.datetime(2025, 3, 6, 16, 3, 6, 799054, tzinfo=datetime.timezone.utc),\n",
            "                                    part_kind='user-prompt')],\n",
            "              kind='request'),\n",
            " ModelResponse(parts=[TextPart(content='Why did the scarecrow win an award?\\n'\n",
            "                                       '\\n'\n",
            "                                       'Because he was outstanding in his '\n",
            "                                       'field!',\n",
            "                               part_kind='text')],\n",
            "               model_name='gpt-4o-mini-2024-07-18',\n",
            "               timestamp=datetime.datetime(2025, 3, 6, 16, 3, 6, tzinfo=datetime.timezone.utc),\n",
            "               kind='response'),\n",
            " ModelRequest(parts=[UserPromptPart(content='Explain it please?',\n",
            "                                    timestamp=datetime.datetime(2025, 3, 6, 16, 3, 12, 291970, tzinfo=datetime.timezone.utc),\n",
            "                                    part_kind='user-prompt')],\n",
            "              kind='request'),\n",
            " ModelResponse(parts=[TextPart(content='Sure! The joke plays on a double '\n",
            "                                       'meaning of the phrase \"outstanding in '\n",
            "                                       'his field.\" \\n'\n",
            "                                       '\\n'\n",
            "                                       '1. **Literal Meaning**: A scarecrow is '\n",
            "                                       'literally \"out standing\" (standing out '\n",
            "                                       'in the open) in a field (like a '\n",
            "                                       'cornfield) to scare away birds.\\n'\n",
            "                                       '\\n'\n",
            "                                       '2. **Figurative Meaning**: The phrase '\n",
            "                                       '\"outstanding in his field\" is also a '\n",
            "                                       'common expression used to describe '\n",
            "                                       'someone who is exceptionally good at '\n",
            "                                       'what they do or an expert in their '\n",
            "                                       'profession.\\n'\n",
            "                                       '\\n'\n",
            "                                       'So, the humor comes from the pun and '\n",
            "                                       'the clever twist on common phrases!',\n",
            "                               part_kind='text')],\n",
            "               model_name='gpt-4o-mini-2024-07-18',\n",
            "               timestamp=datetime.datetime(2025, 3, 6, 16, 3, 12, tzinfo=datetime.timezone.utc),\n",
            "               kind='response')]\n"
          ]
        }
      ]
    },
    {
      "cell_type": "code",
      "source": [
        "\n",
        "!pip install logfire -q"
      ],
      "metadata": {
        "colab": {
          "base_uri": "https://localhost:8080/"
        },
        "id": "zEtPWXEBNY_W",
        "outputId": "523039eb-96a2-40a1-aeb3-ccf14acf9ec4"
      },
      "execution_count": null,
      "outputs": [
        {
          "output_type": "stream",
          "name": "stdout",
          "text": [
            "\u001b[?25l   \u001b[90m━━━━━━━━━━━━━━━━━━━━━━━━━━━━━━━━━━━━━━━━\u001b[0m \u001b[32m0.0/182.3 kB\u001b[0m \u001b[31m?\u001b[0m eta \u001b[36m-:--:--\u001b[0m\r\u001b[2K   \u001b[90m━━━━━━━━━━━━━━━━━━━━━━━━━━━━━━━━━━━━━━━━\u001b[0m \u001b[32m182.3/182.3 kB\u001b[0m \u001b[31m12.0 MB/s\u001b[0m eta \u001b[36m0:00:00\u001b[0m\n",
            "\u001b[?25h\u001b[?25l   \u001b[90m━━━━━━━━━━━━━━━━━━━━━━━━━━━━━━━━━━━━━━━━\u001b[0m \u001b[32m0.0/55.9 kB\u001b[0m \u001b[31m?\u001b[0m eta \u001b[36m-:--:--\u001b[0m\r\u001b[2K   \u001b[90m━━━━━━━━━━━━━━━━━━━━━━━━━━━━━━━━━━━━━━━━\u001b[0m \u001b[32m55.9/55.9 kB\u001b[0m \u001b[31m3.3 MB/s\u001b[0m eta \u001b[36m0:00:00\u001b[0m\n",
            "\u001b[2K   \u001b[90m━━━━━━━━━━━━━━━━━━━━━━━━━━━━━━━━━━━━━━━━\u001b[0m \u001b[32m177.4/177.4 kB\u001b[0m \u001b[31m12.9 MB/s\u001b[0m eta \u001b[36m0:00:00\u001b[0m\n",
            "\u001b[2K   \u001b[90m━━━━━━━━━━━━━━━━━━━━━━━━━━━━━━━━━━━━━━━━\u001b[0m \u001b[32m118.7/118.7 kB\u001b[0m \u001b[31m7.8 MB/s\u001b[0m eta \u001b[36m0:00:00\u001b[0m\n",
            "\u001b[2K   \u001b[90m━━━━━━━━━━━━━━━━━━━━━━━━━━━━━━━━━━━━━━━━\u001b[0m \u001b[32m319.7/319.7 kB\u001b[0m \u001b[31m20.0 MB/s\u001b[0m eta \u001b[36m0:00:00\u001b[0m\n",
            "\u001b[?25h"
          ]
        }
      ]
    },
    {
      "cell_type": "markdown",
      "source": [
        "## Weather"
      ],
      "metadata": {
        "id": "aezrxJNhPm7N"
      }
    },
    {
      "cell_type": "code",
      "source": [
        "from __future__ import annotations as _annotations\n",
        "\n",
        "import asyncio\n",
        "import os\n",
        "from dataclasses import dataclass\n",
        "from typing import Any\n",
        "\n",
        "from devtools import debug\n",
        "from httpx import AsyncClient\n",
        "import logfire\n",
        "from pydantic_ai import Agent, ModelRetry, RunContext"
      ],
      "metadata": {
        "id": "9j381AIUPoIx"
      },
      "execution_count": null,
      "outputs": []
    },
    {
      "cell_type": "code",
      "source": [
        "@dataclass\n",
        "class Deps:\n",
        "    client: AsyncClient\n",
        "    weather_api_key: str | None\n",
        "    geo_api_key: Optional[str] = None\n"
      ],
      "metadata": {
        "id": "GTRauCbx3I6e"
      },
      "execution_count": null,
      "outputs": []
    },
    {
      "cell_type": "code",
      "source": [
        "\n",
        "weather_agent = Agent(\n",
        "    'openai:gpt-4o',\n",
        "    system_prompt='Be concise, reply with one sentence.',\n",
        "    deps_type=Deps,\n",
        "    retries=2,\n",
        ")\n",
        "\n",
        "@weather_agent.tool\n",
        "async def get_lat_lng(\n",
        "    ctx: RunContext[Deps], location_description: str\n",
        ") -> dict[str, float]:\n",
        "    \"\"\"Get the latitude and longitude of a location.\n",
        "\n",
        "    Args:\n",
        "        ctx: The context.\n",
        "        location_description: A description of a location.\n",
        "    \"\"\"\n",
        "    if ctx.deps.geo_api_key is None:\n",
        "        # if no API key is provided, return a dummy response (London)\n",
        "        return {'lat': 51.1, 'lng': -0.1}\n",
        "\n",
        "    params = {\n",
        "        'q': location_description,\n",
        "        'api_key': ctx.deps.geo_api_key,\n",
        "    }\n",
        "    with logfire.span('calling geocode API', params=params) as span:\n",
        "        r = await ctx.deps.client.get('https://geocode.maps.co/search', params=params)\n",
        "        r.raise_for_status()\n",
        "        data = r.json()\n",
        "        span.set_attribute('response', data)\n",
        "\n",
        "    if data:\n",
        "        return {'lat': data[0]['lat'], 'lng': data[0]['lon']}\n",
        "    else:\n",
        "        raise ModelRetry('Could not find the location')\n",
        "\n",
        "\n",
        "@weather_agent.tool\n",
        "async def get_weather(ctx: RunContext[Deps], lat: float, lng: float) -> dict[str, Any]:\n",
        "    \"\"\"Get the weather at a location.\n",
        "\n",
        "    Args:\n",
        "        ctx: The context.\n",
        "        lat: Latitude of the location.\n",
        "        lng: Longitude of the location.\n",
        "    \"\"\"\n",
        "    if ctx.deps.weather_api_key is None:\n",
        "        # if no API key is provided, return a dummy response\n",
        "        return {'temperature': '21 °C', 'description': 'Sunny'}\n",
        "\n",
        "    params = {\n",
        "        'apikey': ctx.deps.weather_api_key,\n",
        "        'location': f'{lat},{lng}',\n",
        "        'units': 'metric',\n",
        "    }\n",
        "    with logfire.span('calling weather API', params=params) as span:\n",
        "        r = await ctx.deps.client.get(\n",
        "            'https://api.tomorrow.io/v4/weather/realtime', params=params\n",
        "        )\n",
        "        r.raise_for_status()\n",
        "        data = r.json()\n",
        "        span.set_attribute('response', data)\n",
        "\n",
        "    values = data['data']['values']\n",
        "    # https://docs.tomorrow.io/reference/data-layers-weather-codes\n",
        "    code_lookup = {\n",
        "        1000: 'Clear, Sunny',\n",
        "        1100: 'Mostly Clear',\n",
        "        1101: 'Partly Cloudy',\n",
        "        1102: 'Mostly Cloudy',\n",
        "        1001: 'Cloudy',\n",
        "        2000: 'Fog',\n",
        "        2100: 'Light Fog',\n",
        "        4000: 'Drizzle',\n",
        "        4001: 'Rain',\n",
        "        4200: 'Light Rain',\n",
        "        4201: 'Heavy Rain',\n",
        "        5000: 'Snow',\n",
        "        5001: 'Flurries',\n",
        "        5100: 'Light Snow',\n",
        "        5101: 'Heavy Snow',\n",
        "        6000: 'Freezing Drizzle',\n",
        "        6001: 'Freezing Rain',\n",
        "        6200: 'Light Freezing Rain',\n",
        "        6201: 'Heavy Freezing Rain',\n",
        "        7000: 'Ice Pellets',\n",
        "        7101: 'Heavy Ice Pellets',\n",
        "        7102: 'Light Ice Pellets',\n",
        "        8000: 'Thunderstorm',\n",
        "    }\n",
        "    return {\n",
        "        'temperature': f'{values[\"temperatureApparent\"]:0.0f}°C',\n",
        "        'description': code_lookup.get(values['weatherCode'], 'Unknown'),\n",
        "    }\n",
        "\n",
        "\n",
        "\n"
      ],
      "metadata": {
        "id": "_W7bDs6j3I-g"
      },
      "execution_count": null,
      "outputs": []
    },
    {
      "cell_type": "code",
      "source": [
        "async def main():\n",
        "    async with AsyncClient() as client:\n",
        "        # create a free API key at https://www.tomorrow.io/weather-api/\n",
        "        weather_api_key = os.getenv('WEATHER_API_KEY')\n",
        "        # create a free API key at https://geocode.maps.co/\n",
        "        geo_api_key = os.getenv('GEO_API_KEY')\n",
        "        deps = Deps(\n",
        "\n",
        "            client=client, weather_api_key=weather_api_key, geo_api_key=geo_api_key\n",
        "        )\n",
        "        result = await weather_agent.run(\n",
        "            'What is the weather like in London and in Singapore?', deps=deps\n",
        "        )\n",
        "        debug(result)\n",
        "        print('Response:', result.data)"
      ],
      "metadata": {
        "id": "qXo3uShp5jsH"
      },
      "execution_count": null,
      "outputs": []
    },
    {
      "cell_type": "code",
      "source": [
        "asyncio.run(main())"
      ],
      "metadata": {
        "colab": {
          "base_uri": "https://localhost:8080/"
        },
        "id": "IAkN2NBf3JBw",
        "outputId": "2c5c59d4-a8be-4472-f32c-81310bf24f03"
      },
      "execution_count": null,
      "outputs": [
        {
          "output_type": "stream",
          "name": "stderr",
          "text": [
            "/usr/local/lib/python3.11/dist-packages/logfire/_internal/stack_info.py:130: LogfireNotConfiguredWarning: No logs or spans will be created until `logfire.configure()` has been called. Set the environment variable LOGFIRE_IGNORE_NO_CONFIG=1 or add ignore_no_config=true in pyproject.toml to suppress this warning.\n",
            "  warnings.warn(msg, stacklevel=stacklevel, category=category)\n"
          ]
        },
        {
          "output_type": "stream",
          "name": "stdout",
          "text": [
            "<ipython-input-23-7b0f671749a6>:14 main\n",
            "    result: AgentRunResult(\n",
            "        data='The weather is cloudy with a temperature of 9°C in both London and Singapore.',\n",
            "        _result_tool_name=None,\n",
            "        _state=GraphAgentState(\n",
            "            message_history=[\n",
            "                ModelRequest(\n",
            "                    parts=[\n",
            "                        SystemPromptPart(\n",
            "                            content='Be concise, reply with one sentence.',\n",
            "                            dynamic_ref=None,\n",
            "                            part_kind='system-prompt',\n",
            "                        ),\n",
            "                        UserPromptPart(\n",
            "                            content='What is the weather like in London and in Singapore?',\n",
            "                            timestamp=datetime.datetime(2025, 3, 7, 2, 13, 26, 264583, tzinfo=datetime.timezone.utc),\n",
            "                            part_kind='user-prompt',\n",
            "                        ),\n",
            "                    ],\n",
            "                    kind='request',\n",
            "                ),\n",
            "                ModelResponse(\n",
            "                    parts=[\n",
            "                        ToolCallPart(\n",
            "                            tool_name='get_lat_lng',\n",
            "                            args='{\"location_description\": \"London\"}',\n",
            "                            tool_call_id='call_lJwTKUfZUPOYBjOntmYEM52q',\n",
            "                            part_kind='tool-call',\n",
            "                        ),\n",
            "                        ToolCallPart(\n",
            "                            tool_name='get_lat_lng',\n",
            "                            args='{\"location_description\": \"Singapore\"}',\n",
            "                            tool_call_id='call_xDsNUgCcw0s34NZxu6KZga10',\n",
            "                            part_kind='tool-call',\n",
            "                        ),\n",
            "                    ],\n",
            "                    model_name='gpt-4o-2024-08-06',\n",
            "                    timestamp=datetime.datetime(2025, 3, 7, 2, 13, 26, tzinfo=datetime.timezone.utc),\n",
            "                    kind='response',\n",
            "                ),\n",
            "                ModelRequest(\n",
            "                    parts=[\n",
            "                        ToolReturnPart(\n",
            "                            tool_name='get_lat_lng',\n",
            "                            content={\n",
            "                                'lat': 51.1,\n",
            "                                'lng': -0.1,\n",
            "                            },\n",
            "                            tool_call_id='call_lJwTKUfZUPOYBjOntmYEM52q',\n",
            "                            timestamp=datetime.datetime(2025, 3, 7, 2, 13, 27, 715438, tzinfo=datetime.timezone.utc),\n",
            "                            part_kind='tool-return',\n",
            "                        ),\n",
            "                        ToolReturnPart(\n",
            "                            tool_name='get_lat_lng',\n",
            "                            content={\n",
            "                                'lat': 51.1,\n",
            "                                'lng': -0.1,\n",
            "                            },\n",
            "                            tool_call_id='call_xDsNUgCcw0s34NZxu6KZga10',\n",
            "                            timestamp=datetime.datetime(2025, 3, 7, 2, 13, 27, 715471, tzinfo=datetime.timezone.utc),\n",
            "                            part_kind='tool-return',\n",
            "                        ),\n",
            "                    ],\n",
            "                    kind='request',\n",
            "                ),\n",
            "                ModelResponse(\n",
            "                    parts=[\n",
            "                        ToolCallPart(\n",
            "                            tool_name='get_weather',\n",
            "                            args='{\"lat\": 51.1, \"lng\": -0.1}',\n",
            "                            tool_call_id='call_aJt9e0riuPm7K5XyUdE2nFPp',\n",
            "                            part_kind='tool-call',\n",
            "                        ),\n",
            "                        ToolCallPart(\n",
            "                            tool_name='get_weather',\n",
            "                            args='{\"lat\": 51.1, \"lng\": -0.1}',\n",
            "                            tool_call_id='call_ehBarNnBLW1Vq2lvb3ausnPC',\n",
            "                            part_kind='tool-call',\n",
            "                        ),\n",
            "                    ],\n",
            "                    model_name='gpt-4o-2024-08-06',\n",
            "                    timestamp=datetime.datetime(2025, 3, 7, 2, 13, 27, tzinfo=datetime.timezone.utc),\n",
            "                    kind='response',\n",
            "                ),\n",
            "                ModelRequest(\n",
            "                    parts=[\n",
            "                        ToolReturnPart(\n",
            "                            tool_name='get_weather',\n",
            "                            content={\n",
            "                                'temperature': '9°C',\n",
            "                                'description': 'Cloudy',\n",
            "                            },\n",
            "                            tool_call_id='call_aJt9e0riuPm7K5XyUdE2nFPp',\n",
            "                            timestamp=datetime.datetime(2025, 3, 7, 2, 13, 30, 227154, tzinfo=datetime.timezone.utc),\n",
            "                            part_kind='tool-return',\n",
            "                        ),\n",
            "                        ToolReturnPart(\n",
            "                            tool_name='get_weather',\n",
            "                            content={\n",
            "                                'temperature': '9°C',\n",
            "                                'description': 'Cloudy',\n",
            "                            },\n",
            "                            tool_call_id='call_ehBarNnBLW1Vq2lvb3ausnPC',\n",
            "                            timestamp=datetime.datetime(2025, 3, 7, 2, 13, 30, 253264, tzinfo=datetime.timezone.utc),\n",
            "                            part_kind='tool-return',\n",
            "                        ),\n",
            "                    ],\n",
            "                    kind='request',\n",
            "                ),\n",
            "                ModelResponse(\n",
            "                    parts=[\n",
            "                        TextPart(\n",
            "                            content='The weather is cloudy with a temperature of 9°C in both London and Singapore.',\n",
            "                            part_kind='text',\n",
            "                        ),\n",
            "                    ],\n",
            "                    model_name='gpt-4o-2024-08-06',\n",
            "                    timestamp=datetime.datetime(2025, 3, 7, 2, 13, 30, tzinfo=datetime.timezone.utc),\n",
            "                    kind='response',\n",
            "                ),\n",
            "            ],\n",
            "            usage=Usage(\n",
            "                requests=3,\n",
            "                request_tokens=662,\n",
            "                response_tokens=133,\n",
            "                total_tokens=795,\n",
            "                details={\n",
            "                    'accepted_prediction_tokens': 0,\n",
            "                    'audio_tokens': 0,\n",
            "                    'reasoning_tokens': 0,\n",
            "                    'rejected_prediction_tokens': 0,\n",
            "                    'cached_tokens': 0,\n",
            "                },\n",
            "            ),\n",
            "            retries=0,\n",
            "            run_step=3,\n",
            "        ),\n",
            "        _new_message_index=0,\n",
            "    ) (AgentRunResult)\n",
            "Response: The weather is cloudy with a temperature of 9°C in both London and Singapore.\n"
          ]
        }
      ]
    },
    {
      "cell_type": "code",
      "source": [],
      "metadata": {
        "id": "V7otAxuNCpJ4"
      },
      "execution_count": null,
      "outputs": []
    },
    {
      "cell_type": "code",
      "source": [],
      "metadata": {
        "id": "ruDMPqV5CpN5"
      },
      "execution_count": null,
      "outputs": []
    },
    {
      "cell_type": "markdown",
      "source": [
        "## Streaming MarkDown"
      ],
      "metadata": {
        "id": "7glzqzKnYsLT"
      }
    },
    {
      "cell_type": "code",
      "source": [
        "import asyncio\n",
        "import os\n",
        "\n",
        "from rich.console import Console, ConsoleOptions, RenderResult\n",
        "from rich.live import Live\n",
        "from rich.markdown import CodeBlock, Markdown\n",
        "from rich.syntax import Syntax\n",
        "from rich.text import Text\n",
        "\n",
        "from pydantic_ai import Agent\n",
        "from pydantic_ai.models import KnownModelName\n",
        "\n",
        "\n",
        "agent = Agent()\n",
        "\n",
        "# models to try, and the appropriate env var\n",
        "models: list[tuple[KnownModelName, str]] = [\n",
        "    # ('gemini-1.5-flash', 'GEMINI_API_KEY'),\n",
        "    ('openai:gpt-4o-mini', 'OPENAI_API_KEY'),\n",
        "    # ('groq:llama-3.1-70b-versatile', 'GROQ_API_KEY'),\n",
        "]\n",
        "\n",
        "\n",
        "async def main():\n",
        "    prettier_code_blocks()\n",
        "    console = Console()\n",
        "    prompt = 'Show me a short example of using Pydantic.'\n",
        "    console.log(f'Asking: {prompt}...', style='cyan')\n",
        "    for model, env_var in models:\n",
        "        if env_var in os.environ:\n",
        "            console.log(f'Using model: {model}')\n",
        "            with Live('', console=console, vertical_overflow='visible') as live:\n",
        "                final_result = await agent.run(prompt, model=model)\n",
        "                async with agent.run_stream(prompt, model=model) as result:\n",
        "                    async for message in result.stream():\n",
        "                        live.update(Markdown(message))\n",
        "            console.log(final_result)\n",
        "        else:\n",
        "            console.log(f'{model} requires {env_var} to be set.')\n",
        "\n",
        "\n",
        "def prettier_code_blocks():\n",
        "    \"\"\"Make rich code blocks prettier and easier to copy.\n",
        "\n",
        "    From https://github.com/samuelcolvin/aicli/blob/v0.8.0/samuelcolvin_aicli.py#L22\n",
        "    \"\"\"\n",
        "\n",
        "    class SimpleCodeBlock(CodeBlock):\n",
        "        def __rich_console__(\n",
        "            self, console: Console, options: ConsoleOptions\n",
        "        ) -> RenderResult:\n",
        "            code = str(self.text).rstrip()\n",
        "            yield Text(self.lexer_name, style='dim')\n",
        "            yield Syntax(\n",
        "                code,\n",
        "                self.lexer_name,\n",
        "                theme=self.theme,\n",
        "                background_color='black',\n",
        "                word_wrap=True,\n",
        "            )\n",
        "            yield Text(f'/{self.lexer_name}', style='dim')\n",
        "\n",
        "    Markdown.elements['fence'] = SimpleCodeBlock\n",
        "\n",
        "\n",
        "if __name__ == '__main__':\n",
        "    asyncio.run(main())"
      ],
      "metadata": {
        "colab": {
          "base_uri": "https://localhost:8080/",
          "height": 982,
          "referenced_widgets": [
            "043e871c65494db3908abc0b4ec027b0",
            "ad415e13d6304b37a9fe3110b2175aaf"
          ]
        },
        "id": "zPeF_VWkPJ0b",
        "outputId": "0684c17c-c23e-4074-b294-82c521186e62"
      },
      "execution_count": null,
      "outputs": [
        {
          "output_type": "display_data",
          "data": {
            "text/plain": [
              "\u001b[2;36m[16:16:43]\u001b[0m\u001b[2;36m \u001b[0m\u001b[36mAsking: Show me a short example of using Pydantic\u001b[0m\u001b[33m...\u001b[0m\u001b[36m.                \u001b[0m \u001b[2m<ipython-input-56-29baadbcda21>:28\u001b[0m\n"
            ],
            "text/html": [
              "<pre style=\"white-space:pre;overflow-x:auto;line-height:normal;font-family:Menlo,'DejaVu Sans Mono',consolas,'Courier New',monospace\"><span style=\"color: #7fbfbf; text-decoration-color: #7fbfbf\">[16:16:43] </span><span style=\"color: #008080; text-decoration-color: #008080\">Asking: Show me a short example of using Pydantic</span><span style=\"color: #808000; text-decoration-color: #808000\">...</span><span style=\"color: #008080; text-decoration-color: #008080\">.                </span> <span style=\"color: #7f7f7f; text-decoration-color: #7f7f7f\">&lt;ipython-input-56-29baadbcda21&gt;:28</span>\n",
              "</pre>\n"
            ]
          },
          "metadata": {}
        },
        {
          "output_type": "display_data",
          "data": {
            "text/plain": [
              "\u001b[2;36m          \u001b[0m\u001b[2;36m \u001b[0mUsing model: openai:gpt-4o-mini                                       \u001b[2m<ipython-input-56-29baadbcda21>:31\u001b[0m\n"
            ],
            "text/html": [
              "<pre style=\"white-space:pre;overflow-x:auto;line-height:normal;font-family:Menlo,'DejaVu Sans Mono',consolas,'Courier New',monospace\"><span style=\"color: #7fbfbf; text-decoration-color: #7fbfbf\">           </span>Using model: openai:gpt-4o-mini                                       <span style=\"color: #7f7f7f; text-decoration-color: #7f7f7f\">&lt;ipython-input-56-29baadbcda21&gt;:31</span>\n",
              "</pre>\n"
            ]
          },
          "metadata": {}
        },
        {
          "output_type": "display_data",
          "data": {
            "text/plain": [
              "Output()"
            ],
            "application/vnd.jupyter.widget-view+json": {
              "version_major": 2,
              "version_minor": 0,
              "model_id": "043e871c65494db3908abc0b4ec027b0"
            }
          },
          "metadata": {}
        },
        {
          "output_type": "display_data",
          "data": {
            "text/plain": [],
            "text/html": [
              "<pre style=\"white-space:pre;overflow-x:auto;line-height:normal;font-family:Menlo,'DejaVu Sans Mono',consolas,'Courier New',monospace\"></pre>\n"
            ]
          },
          "metadata": {}
        },
        {
          "output_type": "display_data",
          "data": {
            "text/plain": [
              "\u001b[2;36m[16:16:52]\u001b[0m\u001b[2;36m \u001b[0m\u001b[1;35mAgentRunResult\u001b[0m\u001b[1m(\u001b[0m                                                       \u001b[2m<ipython-input-56-29baadbcda21>:37\u001b[0m\n",
              "\u001b[2;36m           \u001b[0m    \u001b[33mdata\u001b[0m=\u001b[32m'Certainly! Pydantic is a data validation and settings \u001b[0m      \u001b[2m                                  \u001b[0m\n",
              "\u001b[2;36m           \u001b[0m\u001b[32mmanagement library for Python, which uses Python type annotations. \u001b[0m   \u001b[2m                                  \u001b[0m\n",
              "\u001b[2;36m           \u001b[0m\u001b[32mHere\\'s a short example that demonstrates how to use Pydantic to \u001b[0m     \u001b[2m                                  \u001b[0m\n",
              "\u001b[2;36m           \u001b[0m\u001b[32mdefine a model and validate data.\\n\\n```python\\nfrom pydantic import \u001b[0m \u001b[2m                                  \u001b[0m\n",
              "\u001b[2;36m           \u001b[0m\u001b[32mBaseModel, EmailStr, PositiveInt\\n\\n# Define a Pydantic model\\nclass \u001b[0m \u001b[2m                                  \u001b[0m\n",
              "\u001b[2;36m           \u001b[0m\u001b[32mUser\u001b[0m\u001b[32m(\u001b[0m\u001b[32mBaseModel\u001b[0m\u001b[32m)\u001b[0m\u001b[32m:\\n    id: PositiveInt\\n    name: str\\n    email: \u001b[0m     \u001b[2m                                  \u001b[0m\n",
              "\u001b[2;36m           \u001b[0m\u001b[32mEmailStr\\n\\n# Create a new user instance\\ntry:\\n    user = User\u001b[0m\u001b[32m(\u001b[0m\u001b[32mid\u001b[0m\u001b[32m=\u001b[0m\u001b[32m1\u001b[0m\u001b[32m,\u001b[0m \u001b[2m                                  \u001b[0m\n",
              "\u001b[2;36m           \u001b[0m\u001b[32mname\u001b[0m\u001b[32m=\u001b[0m\u001b[32m\"Alice\"\u001b[0m\u001b[32m, \u001b[0m\u001b[32memail\u001b[0m\u001b[32m=\u001b[0m\u001b[32m\"alice\u001b[0m\u001b[32m@example.com\"\u001b[0m\u001b[32m)\u001b[0m\u001b[32m\\n    print\u001b[0m\u001b[32m(\u001b[0m\u001b[32muser\u001b[0m\u001b[32m)\u001b[0m\u001b[32m\\nexcept \u001b[0m    \u001b[2m                                  \u001b[0m\n",
              "\u001b[2;36m           \u001b[0m\u001b[32mValueError as e:\\n    print\u001b[0m\u001b[32m(\u001b[0m\u001b[32m\"Error creating user:\", e\u001b[0m\u001b[32m)\u001b[0m\u001b[32m\\n\\n# Example \u001b[0m  \u001b[2m                                  \u001b[0m\n",
              "\u001b[2;36m           \u001b[0m\u001b[32mof invalid data\\ntry:\\n    invalid_user = User\u001b[0m\u001b[32m(\u001b[0m\u001b[32mid\u001b[0m\u001b[32m=-1, \u001b[0m\u001b[32mname\u001b[0m\u001b[32m=\u001b[0m\u001b[32m\"Bob\"\u001b[0m\u001b[32m, \u001b[0m    \u001b[2m                                  \u001b[0m\n",
              "\u001b[2;36m           \u001b[0m\u001b[32memail\u001b[0m\u001b[32m=\u001b[0m\u001b[32m\"not\u001b[0m\u001b[32m-an-email\"\u001b[0m\u001b[32m)\u001b[0m\u001b[32m\\nexcept ValueError as e:\\n    print\u001b[0m\u001b[32m(\u001b[0m\u001b[32m\"Error \u001b[0m     \u001b[2m                                  \u001b[0m\n",
              "\u001b[2;36m           \u001b[0m\u001b[32mcreating user:\", e\u001b[0m\u001b[32m)\u001b[0m\u001b[32m\\n```\\n\\n### Explanation\\n1. **Imports**: We \u001b[0m      \u001b[2m                                  \u001b[0m\n",
              "\u001b[2;36m           \u001b[0m\u001b[32mimport `BaseModel`, `EmailStr`, and `PositiveInt` from Pydantic.\\n2. \u001b[0m \u001b[2m                                  \u001b[0m\n",
              "\u001b[2;36m           \u001b[0m\u001b[32m**Model Definition**: We create a `User` class that inherits from \u001b[0m    \u001b[2m                                  \u001b[0m\n",
              "\u001b[2;36m           \u001b[0m\u001b[32m`BaseModel`. It has three fields: `id`, `name`, and `email`, with \u001b[0m    \u001b[2m                                  \u001b[0m\n",
              "\u001b[2;36m           \u001b[0m\u001b[32mtypes `PositiveInt`, `str`, and `EmailStr`, respectively.\\n3. \u001b[0m        \u001b[2m                                  \u001b[0m\n",
              "\u001b[2;36m           \u001b[0m\u001b[32m**Creating Instances**: We create a valid `User` instance, which \u001b[0m     \u001b[2m                                  \u001b[0m\n",
              "\u001b[2;36m           \u001b[0m\u001b[32mshould succeed. We also show an example with invalid data to \u001b[0m         \u001b[2m                                  \u001b[0m\n",
              "\u001b[2;36m           \u001b[0m\u001b[32mdemonstrate how Pydantic raises a `ValueError` for invalid \u001b[0m           \u001b[2m                                  \u001b[0m\n",
              "\u001b[2;36m           \u001b[0m\u001b[32minput.\\n\\nWhen you run this code, it will print the valid `User` \u001b[0m     \u001b[2m                                  \u001b[0m\n",
              "\u001b[2;36m           \u001b[0m\u001b[32mobject and raise meaningful error messages for the invalid input.'\u001b[0m    \u001b[2m                                  \u001b[0m\n",
              "\u001b[2;36m           \u001b[0m\u001b[1m)\u001b[0m                                                                     \u001b[2m                                  \u001b[0m\n"
            ],
            "text/html": [
              "<pre style=\"white-space:pre;overflow-x:auto;line-height:normal;font-family:Menlo,'DejaVu Sans Mono',consolas,'Courier New',monospace\"><span style=\"color: #7fbfbf; text-decoration-color: #7fbfbf\">[16:16:52] </span><span style=\"color: #800080; text-decoration-color: #800080; font-weight: bold\">AgentRunResult</span><span style=\"font-weight: bold\">(</span>                                                       <span style=\"color: #7f7f7f; text-decoration-color: #7f7f7f\">&lt;ipython-input-56-29baadbcda21&gt;:37</span>\n",
              "<span style=\"color: #7fbfbf; text-decoration-color: #7fbfbf\">           </span>    <span style=\"color: #808000; text-decoration-color: #808000\">data</span>=<span style=\"color: #008000; text-decoration-color: #008000\">'Certainly! Pydantic is a data validation and settings </span>      <span style=\"color: #7f7f7f; text-decoration-color: #7f7f7f\">                                  </span>\n",
              "<span style=\"color: #7fbfbf; text-decoration-color: #7fbfbf\">           </span><span style=\"color: #008000; text-decoration-color: #008000\">management library for Python, which uses Python type annotations. </span>   <span style=\"color: #7f7f7f; text-decoration-color: #7f7f7f\">                                  </span>\n",
              "<span style=\"color: #7fbfbf; text-decoration-color: #7fbfbf\">           </span><span style=\"color: #008000; text-decoration-color: #008000\">Here\\'s a short example that demonstrates how to use Pydantic to </span>     <span style=\"color: #7f7f7f; text-decoration-color: #7f7f7f\">                                  </span>\n",
              "<span style=\"color: #7fbfbf; text-decoration-color: #7fbfbf\">           </span><span style=\"color: #008000; text-decoration-color: #008000\">define a model and validate data.\\n\\n```python\\nfrom pydantic import </span> <span style=\"color: #7f7f7f; text-decoration-color: #7f7f7f\">                                  </span>\n",
              "<span style=\"color: #7fbfbf; text-decoration-color: #7fbfbf\">           </span><span style=\"color: #008000; text-decoration-color: #008000\">BaseModel, EmailStr, PositiveInt\\n\\n# Define a Pydantic model\\nclass </span> <span style=\"color: #7f7f7f; text-decoration-color: #7f7f7f\">                                  </span>\n",
              "<span style=\"color: #7fbfbf; text-decoration-color: #7fbfbf\">           </span><span style=\"color: #008000; text-decoration-color: #008000\">User(BaseModel):\\n    id: PositiveInt\\n    name: str\\n    email: </span>     <span style=\"color: #7f7f7f; text-decoration-color: #7f7f7f\">                                  </span>\n",
              "<span style=\"color: #7fbfbf; text-decoration-color: #7fbfbf\">           </span><span style=\"color: #008000; text-decoration-color: #008000\">EmailStr\\n\\n# Create a new user instance\\ntry:\\n    user = User(id=1,</span> <span style=\"color: #7f7f7f; text-decoration-color: #7f7f7f\">                                  </span>\n",
              "<span style=\"color: #7fbfbf; text-decoration-color: #7fbfbf\">           </span><span style=\"color: #008000; text-decoration-color: #008000\">name=\"Alice\", email=\"alice@example.com\")\\n    print(user)\\nexcept </span>    <span style=\"color: #7f7f7f; text-decoration-color: #7f7f7f\">                                  </span>\n",
              "<span style=\"color: #7fbfbf; text-decoration-color: #7fbfbf\">           </span><span style=\"color: #008000; text-decoration-color: #008000\">ValueError as e:\\n    print(\"Error creating user:\", e)\\n\\n# Example </span>  <span style=\"color: #7f7f7f; text-decoration-color: #7f7f7f\">                                  </span>\n",
              "<span style=\"color: #7fbfbf; text-decoration-color: #7fbfbf\">           </span><span style=\"color: #008000; text-decoration-color: #008000\">of invalid data\\ntry:\\n    invalid_user = User(id=-1, name=\"Bob\", </span>    <span style=\"color: #7f7f7f; text-decoration-color: #7f7f7f\">                                  </span>\n",
              "<span style=\"color: #7fbfbf; text-decoration-color: #7fbfbf\">           </span><span style=\"color: #008000; text-decoration-color: #008000\">email=\"not-an-email\")\\nexcept ValueError as e:\\n    print(\"Error </span>     <span style=\"color: #7f7f7f; text-decoration-color: #7f7f7f\">                                  </span>\n",
              "<span style=\"color: #7fbfbf; text-decoration-color: #7fbfbf\">           </span><span style=\"color: #008000; text-decoration-color: #008000\">creating user:\", e)\\n```\\n\\n### Explanation\\n1. **Imports**: We </span>      <span style=\"color: #7f7f7f; text-decoration-color: #7f7f7f\">                                  </span>\n",
              "<span style=\"color: #7fbfbf; text-decoration-color: #7fbfbf\">           </span><span style=\"color: #008000; text-decoration-color: #008000\">import `BaseModel`, `EmailStr`, and `PositiveInt` from Pydantic.\\n2. </span> <span style=\"color: #7f7f7f; text-decoration-color: #7f7f7f\">                                  </span>\n",
              "<span style=\"color: #7fbfbf; text-decoration-color: #7fbfbf\">           </span><span style=\"color: #008000; text-decoration-color: #008000\">**Model Definition**: We create a `User` class that inherits from </span>    <span style=\"color: #7f7f7f; text-decoration-color: #7f7f7f\">                                  </span>\n",
              "<span style=\"color: #7fbfbf; text-decoration-color: #7fbfbf\">           </span><span style=\"color: #008000; text-decoration-color: #008000\">`BaseModel`. It has three fields: `id`, `name`, and `email`, with </span>    <span style=\"color: #7f7f7f; text-decoration-color: #7f7f7f\">                                  </span>\n",
              "<span style=\"color: #7fbfbf; text-decoration-color: #7fbfbf\">           </span><span style=\"color: #008000; text-decoration-color: #008000\">types `PositiveInt`, `str`, and `EmailStr`, respectively.\\n3. </span>        <span style=\"color: #7f7f7f; text-decoration-color: #7f7f7f\">                                  </span>\n",
              "<span style=\"color: #7fbfbf; text-decoration-color: #7fbfbf\">           </span><span style=\"color: #008000; text-decoration-color: #008000\">**Creating Instances**: We create a valid `User` instance, which </span>     <span style=\"color: #7f7f7f; text-decoration-color: #7f7f7f\">                                  </span>\n",
              "<span style=\"color: #7fbfbf; text-decoration-color: #7fbfbf\">           </span><span style=\"color: #008000; text-decoration-color: #008000\">should succeed. We also show an example with invalid data to </span>         <span style=\"color: #7f7f7f; text-decoration-color: #7f7f7f\">                                  </span>\n",
              "<span style=\"color: #7fbfbf; text-decoration-color: #7fbfbf\">           </span><span style=\"color: #008000; text-decoration-color: #008000\">demonstrate how Pydantic raises a `ValueError` for invalid </span>           <span style=\"color: #7f7f7f; text-decoration-color: #7f7f7f\">                                  </span>\n",
              "<span style=\"color: #7fbfbf; text-decoration-color: #7fbfbf\">           </span><span style=\"color: #008000; text-decoration-color: #008000\">input.\\n\\nWhen you run this code, it will print the valid `User` </span>     <span style=\"color: #7f7f7f; text-decoration-color: #7f7f7f\">                                  </span>\n",
              "<span style=\"color: #7fbfbf; text-decoration-color: #7fbfbf\">           </span><span style=\"color: #008000; text-decoration-color: #008000\">object and raise meaningful error messages for the invalid input.'</span>    <span style=\"color: #7f7f7f; text-decoration-color: #7f7f7f\">                                  </span>\n",
              "<span style=\"color: #7fbfbf; text-decoration-color: #7fbfbf\">           </span><span style=\"font-weight: bold\">)</span>                                                                     <span style=\"color: #7f7f7f; text-decoration-color: #7f7f7f\">                                  </span>\n",
              "</pre>\n"
            ]
          },
          "metadata": {}
        }
      ]
    },
    {
      "cell_type": "code",
      "source": [],
      "metadata": {
        "id": "de448kXnPJwB"
      },
      "execution_count": null,
      "outputs": []
    }
  ]
}