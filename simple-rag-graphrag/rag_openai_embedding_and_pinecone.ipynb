{
 "cells": [
  {
   "cell_type": "code",
   "execution_count": 1,
   "metadata": {},
   "outputs": [],
   "source": [
    "#TO IGNORE WARNINGS IN CODE\n",
    "import warnings\n",
    "warnings.filterwarnings(\"ignore\")"
   ]
  },
  {
   "cell_type": "code",
   "execution_count": 19,
   "metadata": {},
   "outputs": [
    {
     "data": {
      "text/plain": [
       "True"
      ]
     },
     "execution_count": 19,
     "metadata": {},
     "output_type": "execute_result"
    }
   ],
   "source": [
    "from datasets import load_dataset\n",
    "from openai import OpenAI\n",
    "from pinecone import Pinecone, ServerlessSpec\n",
    "from tqdm.auto import tqdm\n",
    "from dotenv import load_dotenv\n",
    "import os\n",
    "import pandas as pd\n",
    "import ast\n",
    "\n",
    "#LOADING THE ENVIRONMENT\n",
    "load_dotenv()"
   ]
  },
  {
   "cell_type": "code",
   "execution_count": 3,
   "metadata": {},
   "outputs": [],
   "source": [
    "#LOADING API KEYS \n",
    "PINECONE_API_KEY=os.environ['PINECONE_API_KEY'] #VECTOR DB\n",
    "OPENAI_API_KEY_VAL = os.environ[\"OPENAI_API_KEY\"] #GENEATE EMBEDDINGS AND TEXT SUMMARIZATION"
   ]
  },
  {
   "cell_type": "code",
   "execution_count": 4,
   "metadata": {},
   "outputs": [],
   "source": [
    "pc = Pinecone(api_key=PINECONE_API_KEY) #GET PINECONE CONNECTION\n",
    "INDEX_NAME = \"ragindex1\" #DEFINE INDEX NAME\n",
    "if INDEX_NAME in [index.name for index in pc.list_indexes()]: #CHECK IF INDEX ALREADY EXIST\n",
    "  pc.delete_index(INDEX_NAME) #IF YES, THEN DELETE THE OLD ONE\n",
    "\n",
    "pc.create_index(name=INDEX_NAME, dimension=1536, metric='cosine', #CREATE A NEW INDEX\n",
    "  spec=ServerlessSpec(cloud='aws', region='us-west-2')) #TO RUN INDEX ON A CLOUD SERVICE PROVIDER\n",
    "\n",
    "index = pc.Index(INDEX_NAME) #GET INDEX"
   ]
  },
  {
   "cell_type": "code",
   "execution_count": 8,
   "metadata": {},
   "outputs": [],
   "source": [
    "#DOWNLAOD THE DATSET USING WGET, INSTALL WGET BEFORE RUNNING THIS COMMAND\n",
    "!wget -q -O lesson2-wiki.csv.zip \"https://www.dropbox.com/scl/fi/yxzmsrv2sgl249zcspeqb/lesson2-wiki.csv.zip?rlkey=paehnoxjl3s5x53d1bedt4pmc&dl=0\""
   ]
  },
  {
   "cell_type": "code",
   "execution_count": 9,
   "metadata": {},
   "outputs": [
    {
     "name": "stdout",
     "output_type": "stream",
     "text": [
      "Archive:  lesson2-wiki.csv.zip\n",
      "  inflating: wiki.csv                \n"
     ]
    }
   ],
   "source": [
    "!unzip lesson2-wiki.csv.zip # UNZIP THE DATASET"
   ]
  },
  {
   "cell_type": "code",
   "execution_count": 11,
   "metadata": {},
   "outputs": [
    {
     "data": {
      "text/html": [
       "<div>\n",
       "<style scoped>\n",
       "    .dataframe tbody tr th:only-of-type {\n",
       "        vertical-align: middle;\n",
       "    }\n",
       "\n",
       "    .dataframe tbody tr th {\n",
       "        vertical-align: top;\n",
       "    }\n",
       "\n",
       "    .dataframe thead th {\n",
       "        text-align: right;\n",
       "    }\n",
       "</style>\n",
       "<table border=\"1\" class=\"dataframe\">\n",
       "  <thead>\n",
       "    <tr style=\"text-align: right;\">\n",
       "      <th></th>\n",
       "      <th>id</th>\n",
       "      <th>metadata</th>\n",
       "      <th>values</th>\n",
       "    </tr>\n",
       "  </thead>\n",
       "  <tbody>\n",
       "    <tr>\n",
       "      <th>1</th>\n",
       "      <td>1-0</td>\n",
       "      <td>{'chunk': 0, 'source': 'https://simple.wikiped...</td>\n",
       "      <td>[-0.011254455894231796, -0.01698738895356655, ...</td>\n",
       "    </tr>\n",
       "    <tr>\n",
       "      <th>2</th>\n",
       "      <td>1-1</td>\n",
       "      <td>{'chunk': 1, 'source': 'https://simple.wikiped...</td>\n",
       "      <td>[-0.0015197008615359664, -0.007858820259571075...</td>\n",
       "    </tr>\n",
       "    <tr>\n",
       "      <th>3</th>\n",
       "      <td>1-2</td>\n",
       "      <td>{'chunk': 2, 'source': 'https://simple.wikiped...</td>\n",
       "      <td>[-0.009930099360644817, -0.012211072258651257,...</td>\n",
       "    </tr>\n",
       "    <tr>\n",
       "      <th>4</th>\n",
       "      <td>1-3</td>\n",
       "      <td>{'chunk': 3, 'source': 'https://simple.wikiped...</td>\n",
       "      <td>[-0.011600767262279987, -0.012608098797500134,...</td>\n",
       "    </tr>\n",
       "    <tr>\n",
       "      <th>5</th>\n",
       "      <td>1-4</td>\n",
       "      <td>{'chunk': 4, 'source': 'https://simple.wikiped...</td>\n",
       "      <td>[-0.026462381705641747, -0.016362832859158516,...</td>\n",
       "    </tr>\n",
       "  </tbody>\n",
       "</table>\n",
       "</div>"
      ],
      "text/plain": [
       "    id                                           metadata  \\\n",
       "1  1-0  {'chunk': 0, 'source': 'https://simple.wikiped...   \n",
       "2  1-1  {'chunk': 1, 'source': 'https://simple.wikiped...   \n",
       "3  1-2  {'chunk': 2, 'source': 'https://simple.wikiped...   \n",
       "4  1-3  {'chunk': 3, 'source': 'https://simple.wikiped...   \n",
       "5  1-4  {'chunk': 4, 'source': 'https://simple.wikiped...   \n",
       "\n",
       "                                              values  \n",
       "1  [-0.011254455894231796, -0.01698738895356655, ...  \n",
       "2  [-0.0015197008615359664, -0.007858820259571075...  \n",
       "3  [-0.009930099360644817, -0.012211072258651257,...  \n",
       "4  [-0.011600767262279987, -0.012608098797500134,...  \n",
       "5  [-0.026462381705641747, -0.016362832859158516,...  "
      ]
     },
     "execution_count": 11,
     "metadata": {},
     "output_type": "execute_result"
    }
   ],
   "source": [
    "max_articles_num = 500\n",
    "df = pd.read_csv('./wiki.csv', nrows=max_articles_num)\n",
    "df.head()\n"
   ]
  },
  {
   "cell_type": "markdown",
   "metadata": {},
   "source": [
    "# Prepare the Embeddings and Upsert to Pinecone"
   ]
  },
  {
   "cell_type": "code",
   "execution_count": 12,
   "metadata": {},
   "outputs": [
    {
     "name": "stderr",
     "output_type": "stream",
     "text": [
      "100%|██████████| 500/500 [00:07<00:00, 64.13it/s] \n"
     ]
    }
   ],
   "source": [
    "#STORE INTO PINCEODE WITH A BATCH OF 250 {A RANDOM NUMBER SUGGESTED VALUE BETWEEN 100-500 FOR GOOD EFFICIENCY}\n",
    "prepped = []\n",
    "\n",
    "for i, row in tqdm(df.iterrows(), total=df.shape[0]):\n",
    "    meta = ast.literal_eval(row['metadata'])\n",
    "    prepped.append({'id':row['id'], \n",
    "                    'values':ast.literal_eval(row['values']), \n",
    "                    'metadata':meta})\n",
    "    if len(prepped) >= 250:\n",
    "        index.upsert(prepped)\n",
    "        prepped = []\n"
   ]
  },
  {
   "cell_type": "code",
   "execution_count": 13,
   "metadata": {},
   "outputs": [
    {
     "data": {
      "text/plain": [
       "{'dimension': 1536,\n",
       " 'index_fullness': 0.0,\n",
       " 'namespaces': {'': {'vector_count': 500}},\n",
       " 'total_vector_count': 500}"
      ]
     },
     "execution_count": 13,
     "metadata": {},
     "output_type": "execute_result"
    }
   ],
   "source": [
    "index.describe_index_stats() #STATS OF INDEXED DATASET"
   ]
  },
  {
   "cell_type": "markdown",
   "metadata": {},
   "source": [
    "# open ai connectION SETUP"
   ]
  },
  {
   "cell_type": "code",
   "execution_count": 20,
   "metadata": {},
   "outputs": [],
   "source": [
    "\n",
    "openai_client = OpenAI(api_key=OPENAI_API_KEY_VAL)\n",
    "\n",
    "def get_embeddings(articles, model=\"text-embedding-ada-002\"): #USING model=\"text-embedding-ada-002\" FOR ENBEDDINGS {THE MOST BASIC}\n",
    "   return openai_client.embeddings.create(input = articles, model=model)"
   ]
  },
  {
   "cell_type": "code",
   "execution_count": 24,
   "metadata": {},
   "outputs": [
    {
     "name": "stdout",
     "output_type": "stream",
     "text": [
      "Festivals \n",
      "Spring Festival is the Chinese New Year.\n",
      "\n",
      "Dragon Boat Festival is celebrated to commemorate the death of Qu Yuan, a patriotic poet of the State of Chu during the Warring States period. He persuaded his emperor not to accept Qin's diplomats' offers several times but his emperor did not listen to him. He was very sad and ended up jumping into the river to end his life. The people loved him so much that they did not want the fish to eat his corpse. They made and threw rice dumplings into the river. They hope the fish eat these dumplings instead of the poet's corpse. They also rowed dragon boats in the river to get rid of the fish. Such practices, eating rice dumplings and holding dragon boat races, become what Chinese do in this festival nowadays.\n",
      "\n",
      "Held on the fifteenth day of the eighth lunar month, Mid-Autumn Festival is a festival for families. Now when the festival sets in, people would sit together to eat moon cakes, appreciate the bright full moon cakes, appreciate the bright full moon, celebrate the bumper harvest and enjoy the family love and happiness. To the Chinese people, the full moon symbolizes family reunion, as does the \"moon cakes.\" Hence the Mid-Autumn Festival is also called the Family Reunion Festival.\n",
      "\n",
      "Notes\n",
      "\n",
      "References\n",
      "\n",
      "Other websites \n",
      "\n",
      " Map of China\n",
      " City Photo Gallery of China\n",
      "China | Geography | People | Economy\n",
      " China -Citizendium\n",
      "Even if it is wrong, it raises the idea that living beings might have to see their universe as also living to be able to understand or care about it at all.  Some compare Smolin's theory to Gaia philosophy which combines biology, geology and ecology to explain the Earth, our planet, as a living thing.  If both are right, humans are on a living planet in a living universe.  This idea is very appealing - which does not mean it is really \"right\".\n",
      "\n",
      "Cosmology\n",
      "Seraphim (plural of seraph, which means \"burning\")they also are depicted having wings, six of them. They are known for singing and praising God. They can shout so loud, they shake the temple.\n",
      "Archangels like Gabriel (Gospel of Luke 1:19) are the highest type of angel. They are considered saints in the Catholic church. However, in the King James Version of the Bible; they are another type of angel. In the Book of Revelation the Angel Michael casts the 'great dragon' Satan out of heaven and down to earth in a great battle between the good and bad angels, just before the Great Judgement of angels and man. (Revelation 12)\n",
      "The Leviathan in Book of Job 41:19-21 has flame that goes:  'out of his mouth' like a dragon.  Isaiah 30:6 also talks of a 'fiery flying serpent'. Compare Revelation 20:2: , where an angel: 'laid hold on the dragon, that old serpent, which is the Devil, and Satan, and bound him a thousand years'.\n",
      "\n",
      "In art\n",
      "They are often shown in art as having wings and a halo. The wings represent their speed, and the halo represents their holiness.\n",
      "\n",
      "The cherubim in art always appear as baby faced angels with very small, non-useful wings.\n",
      "\n",
      "The cherubim statue or bronze casting of cherubim in the Temple of Solomon depicted them as two four winged creatures whose wings touched at the peak of the ark that they were making.\n",
      "\n",
      "The same cherubim creatures were said to be cast in gold on top of the Ark of the Covenant. Casting metal is one of the oldest forms of artwork, and was attempted by Leonardo da Vinci.\n"
     ]
    }
   ],
   "source": [
    "#TEST EXAMPLE\n",
    "query = \"what is the dragon ball?\"\n",
    "\n",
    "embed = get_embeddings([query])\n",
    "res = index.query(vector=embed.data[0].embedding, top_k=3, include_metadata=True)\n",
    "text = [r['metadata']['text'] for r in res['matches']]\n",
    "print('\\n'.join(text))\n"
   ]
  },
  {
   "cell_type": "markdown",
   "metadata": {},
   "source": [
    "# PROPMPT DESIGN FOR OPENAI-CALL"
   ]
  },
  {
   "cell_type": "code",
   "execution_count": 26,
   "metadata": {},
   "outputs": [
    {
     "name": "stdout",
     "output_type": "stream",
     "text": [
      "Answer the question based on the context below.\n",
      "\n",
      "Context:\n",
      "Everything2 or E2 is a website.  It lets people make pages about many different things, and some people use it as a diary.\n",
      "\n",
      "E2 users create pages called nodes and add stuff in writeups.  Only logged-in users can create writeups.  Only the person who created the writeup or someone who the website owners (called \"gods\") choose can edit the writeup.  On the other hand, on Wikipedia, anyone can edit pages, but on Everything2 only those who can edit the writeup can edit pages.\n",
      "\n",
      "Everything2 does not require a neutral point of view like Wikipedia does. So, it is possible to have more than one article (writeups) under the same title (node), each by different authors, and presenting different points of view.\n",
      "\n",
      "Other websites \n",
      " Everything2 website\n",
      " Everything2.com article about Wikipedia\n",
      "\n",
      "Websites\n",
      "\n",
      "---\n",
      "\n",
      "Festivals \n",
      "Spring Festival is the Chinese New Year.\n",
      "\n",
      "Dragon Boat Festival is celebrated to commemorate the death of Qu Yuan, a patriotic poet of the State of Chu during the Warring States period. He persuaded his emperor not to accept Qin's diplomats' offers several times but his emperor did not listen to him. He was very sad and ended up jumping into the river to end his life. The people loved him so much that they did not want the fish to eat his corpse. They made and threw rice dumplings into the river. They hope the fish eat these dumplings instead of the poet's corpse. They also rowed dragon boats in the river to get rid of the fish. Such practices, eating rice dumplings and holding dragon boat races, become what Chinese do in this festival nowadays.\n",
      "\n",
      "Held on the fifteenth day of the eighth lunar month, Mid-Autumn Festival is a festival for families. Now when the festival sets in, people would sit together to eat moon cakes, appreciate the bright full moon cakes, appreciate the bright full moon, celebrate the bumper harvest and enjoy the family love and happiness. To the Chinese people, the full moon symbolizes family reunion, as does the \"moon cakes.\" Hence the Mid-Autumn Festival is also called the Family Reunion Festival.\n",
      "\n",
      "Notes\n",
      "\n",
      "References\n",
      "\n",
      "Other websites \n",
      "\n",
      " Map of China\n",
      " City Photo Gallery of China\n",
      "China | Geography | People | Economy\n",
      " China -Citizendium\n",
      "\n",
      "---\n",
      "\n",
      "In English, people write the words \"god\" and \"gods\" are in lowercase letters. People that believe in only on god (monotheists) like to write God with a capital letter. Some people that believe in more than one god (polytheists) also like to use capital letters when writing about their gods. Most people that believe in God or gods do not believe in the gods of other religions.\n",
      "\n",
      "Does God exist? \n",
      "Many people have asked themselves if God exists. Philosophers, theologians, and others have tried to prove that it exists. Others have tried to disprove the hypothesis. In philosophical terminology, such arguments are about the epistemology of the ontology of God. The debate exists mainly in philosophy, because science does not address whether or not supernatural things exist.\n",
      "\n",
      "There are many philosophical issues with the existence of God. Some definitions of God are not specific. Arguments for the existence of God typically include metaphysical, empirical, inductive, and subjective types. Some theories try to explain order and complexity in the world without evolution or scientific method. Arguments against the existence of God typically include empirical, deductive, and inductive arguments. Conclusions sometimes include: \"God does not exist\" (strong atheism); \"God almost certainly does not exist\" (de facto atheism); \"no one knows whether God exists\" (agnosticism); \"God exists, but this cannot be proven or disproven\" (deism or theism); and \"God exists and this can be proven\" (theism). There are many variations on these positions, and sometimes different names for some of them. For example, the position \"God exists and this can be proven\" is sometimes called \"gnostic theism\" or \"strong theism\".\n",
      "\n",
      "Believing in God\n",
      "\n",
      "Question: write an article titled: what is the DRAGON BALL?\n",
      "Answer:\n"
     ]
    }
   ],
   "source": [
    "query = \"write an article titled: what is the DRAGON BALL?\"\n",
    "embed = get_embeddings([query])\n",
    "res = index.query(vector=embed.data[0].embedding, top_k=3, include_metadata=True)\n",
    "\n",
    "contexts = [\n",
    "    x['metadata']['text'] for x in res['matches']\n",
    "]\n",
    "\n",
    "prompt_start = (\n",
    "    \"Answer the question based on the context below.\\n\\n\"+\n",
    "    \"Context:\\n\"\n",
    ")\n",
    "\n",
    "prompt_end = (\n",
    "    f\"\\n\\nQuestion: {query}\\nAnswer:\"\n",
    ")\n",
    "\n",
    "prompt = (\n",
    "    prompt_start + \"\\n\\n---\\n\\n\".join(contexts) + \n",
    "    prompt_end\n",
    ")\n",
    "\n",
    "print(prompt)"
   ]
  },
  {
   "cell_type": "markdown",
   "metadata": {},
   "source": [
    "# TEXT-SUMMARIZATION USING OPEN AI"
   ]
  },
  {
   "cell_type": "code",
   "execution_count": 27,
   "metadata": {},
   "outputs": [
    {
     "name": "stdout",
     "output_type": "stream",
     "text": [
      "--------------------------------------------------------------------------------\n",
      "\n",
      "\n",
      "Dragon Ball is a popular Japanese manga series created by Akira Toriyama. It was first published in 1984 and has since become a worldwide phenomenon, with millions of fans across the globe. The series follows the adventures of a young boy named Goku, who possesses incredible strength and abilities, as he goes on a journey to find the seven mystical Dragon Balls.\n",
      "\n",
      "The Dragon Balls are powerful orbs that, when gathered together, can summon a wish-granting dragon named Shenron. Throughout the series, Goku and his friends must battle powerful enemies and overcome challenges in order to collect all seven Dragon Balls and make their wishes come true.\n",
      "\n",
      "The series is known for its action-packed fight scenes, colorful characters, and unique blend of humor and drama. It has spawned numerous spin-offs, including anime series, movies, video games, and merchandise. Dragon Ball has also been adapted into multiple languages and has a dedicated fan base all over the world.\n",
      "\n",
      "One of the reasons for the series' enduring popularity is its relatable themes and characters. Despite its fantastical elements, Dragon Ball explores universal themes such as friendship, perseverance, and the power of teamwork. The characters, while possessing extraordinary abilities, also face relatable struggles and challenges, making them easy to root for and connect with.\n",
      "\n",
      "Dragon Ball has also had a significant impact on popular culture, with its influence seen in other media such as video games, movies, and television shows. The series has also inspired many other manga and anime creators, leading to the development of similar works.\n",
      "\n",
      "In conclusion, Dragon Ball is a beloved manga series that has captured the hearts of fans all over the world. Its unique blend of action, humor, and relatable themes has made it a timeless classic that continues to entertain and inspire new generations. Whether you are a long-time fan or new to the series, Dragon Ball is a must-read for anyone looking for an epic adventure filled with heart and humor.\n"
     ]
    }
   ],
   "source": [
    "res = openai_client.completions.create(\n",
    "    model=\"gpt-3.5-turbo-instruct\",\n",
    "    prompt=prompt,\n",
    "    temperature=0,\n",
    "    max_tokens=636,\n",
    "    top_p=1,\n",
    "    frequency_penalty=0,\n",
    "    presence_penalty=0,\n",
    "    stop=None\n",
    ")\n",
    "print('-' * 80)\n",
    "print(res.choices[0].text)"
   ]
  }
 ],
 "metadata": {
  "kernelspec": {
   "display_name": "Python 3",
   "language": "python",
   "name": "python3"
  },
  "language_info": {
   "codemirror_mode": {
    "name": "ipython",
    "version": 3
   },
   "file_extension": ".py",
   "mimetype": "text/x-python",
   "name": "python",
   "nbconvert_exporter": "python",
   "pygments_lexer": "ipython3",
   "version": "3.10.0"
  }
 },
 "nbformat": 4,
 "nbformat_minor": 2
}
