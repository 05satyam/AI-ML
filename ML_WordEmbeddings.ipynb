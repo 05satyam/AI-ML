{
  "nbformat": 4,
  "nbformat_minor": 0,
  "metadata": {
    "colab": {
      "provenance": [],
      "authorship_tag": "ABX9TyN0RMrRmklOwt8k0G4ywo+7",
      "include_colab_link": true
    },
    "kernelspec": {
      "name": "python3",
      "display_name": "Python 3"
    },
    "language_info": {
      "name": "python"
    }
  },
  "cells": [
    {
      "cell_type": "markdown",
      "metadata": {
        "id": "view-in-github",
        "colab_type": "text"
      },
      "source": [
        "<a href=\"https://colab.research.google.com/github/05satyam/AI-ML/blob/main/ML_WordEmbeddings.ipynb\" target=\"_parent\"><img src=\"https://colab.research.google.com/assets/colab-badge.svg\" alt=\"Open In Colab\"/></a>"
      ]
    },
    {
      "cell_type": "code",
      "execution_count": 2,
      "metadata": {
        "colab": {
          "base_uri": "https://localhost:8080/"
        },
        "id": "aFaCp_so8aH3",
        "outputId": "ffa5e3ba-de47-492a-d32f-1811cc077cec"
      },
      "outputs": [
        {
          "output_type": "stream",
          "name": "stdout",
          "text": [
            "Requirement already satisfied: gensim in /usr/local/lib/python3.10/dist-packages (4.3.3)\n",
            "Requirement already satisfied: numpy<2.0,>=1.18.5 in /usr/local/lib/python3.10/dist-packages (from gensim) (1.26.4)\n",
            "Requirement already satisfied: scipy<1.14.0,>=1.7.0 in /usr/local/lib/python3.10/dist-packages (from gensim) (1.13.1)\n",
            "Requirement already satisfied: smart-open>=1.8.1 in /usr/local/lib/python3.10/dist-packages (from gensim) (7.0.5)\n",
            "Requirement already satisfied: wrapt in /usr/local/lib/python3.10/dist-packages (from smart-open>=1.8.1->gensim) (1.16.0)\n"
          ]
        }
      ],
      "source": [
        "!pip install gensim"
      ]
    },
    {
      "cell_type": "markdown",
      "source": [
        "# **Word Embeddings**\n",
        "\n",
        "---\n",
        "\n",
        "## Core ideas:\n",
        "- Particularly how they are generated, used in models, and their importance in deep learning systems\n",
        "\n",
        "- Word embeddings are vector representations of words that capture semantic meaning.\n",
        "- Words with similar meanings are mapped to similar positions in a high-dimensional vector space.\n",
        "- The goal is to reduce dimensionality while preserving the semantic relationships between words.\n",
        "- Unlike one-hot encoding, which represents words in sparse high-dimensional vectors, word embeddings aim to place semantically similar words close to each other in vector space.\n",
        "\n",
        "\n",
        "<br />\n",
        "\n",
        "---\n",
        "\n",
        "- **One-hot encoding** is a technique used to convert categorical data into a format that can be provided to machine learning algorithms to improve predictions. For a categorical attribute with N unique values, a one-hot encoded vector is an N-dimensional vector where only one of the positions is set to 1, and the rest are 0.\n",
        "\n",
        "  - For example, consider a color attribute with possible values: \"red,\" \"blue,\" and \"green.\" After applying one-hot encoding, we get the following vectors:\n",
        "\n",
        "    - Red: [1, 0, 0]\n",
        "\n",
        "    - Blue: [0, 1, 0]\n",
        "\n",
        "    - Green: [0, 0, 1]\n",
        "\n",
        "- Now let us consider a scenario where we have some additional numerical attribute values associated with each category. For instance, let's say we have a sales quantity attribute that indicates how much of each color product was sold:\n",
        "\n",
        "    - Red: 50\n",
        "\n",
        "    - Blue: 30\n",
        "\n",
        "    - Green: 20\n",
        "\n",
        "\n",
        " - **Multiplying One-Hot Vectors with Attribute Values**\n",
        "   - Resulting embeddings look like:\n",
        "\n",
        "     - Red Embedding: [50, 0, 0]\n",
        "\n",
        "     - Blue Embedding: [0, 30, 0]\n",
        "\n",
        "     - Green Embedding: [0, 0, 20]\n",
        "\n",
        "**Similar concept is used in generating embeddings for a languge corpus.**\n",
        "\n",
        "<br />\n",
        "\n",
        "---\n",
        "\n",
        "## Word embeddings can be generated using several techniques, including:\n",
        "\n",
        "### Word2Vec: It has two models:\n",
        "- Skip-gram model: Predicts the surrounding words (context) given a target word.\n",
        "- CBOW (Continuous Bag of Words): Predicts the target word given the surrounding context words.\n",
        "\n",
        "### FastText:\n",
        "- FastText improves upon Word2Vec by taking into account subword information. Instead of learning embeddings for whole words, it learns embeddings for character n-grams, which is useful for handling out-of-vocabulary words\n",
        "\n",
        "### GloVe (Global Vectors for Word Representation):\n",
        "- Aims to find word vectors that can encode statistical information from a large text corpus, capturing both global and local context.\n",
        "\n",
        "### Transformers:\n",
        "- Modern **deep learning models**, such as BERT and GPT, use word embeddings in a contextualized manner. Instead of having a single fixed vector for a word, these models generate embeddings based on the context in which a word appears. (attention mechanism)\n",
        "\n",
        "<br />\n",
        "\n",
        "---\n",
        "\n",
        "## Embedding Evaluation:\n",
        "- **Cosine Similarity:** To measure the similarity between two words in the embedding space.\n",
        "- **t-SNE or PCA:** For visualizing high-dimensional embeddings in a 2D or 3D space.\n",
        "  "
      ],
      "metadata": {
        "id": "APAp8zXWAMTl"
      }
    },
    {
      "cell_type": "markdown",
      "source": [
        "## Examples for embeeding generations:"
      ],
      "metadata": {
        "id": "0PgXUAiJGZpa"
      }
    },
    {
      "cell_type": "markdown",
      "source": [
        "### small self defined corpus\n",
        "\n",
        "\n",
        "**Breakdown of Word2Vec**\n",
        "- Word2Vec(sentences, vector_size=100, window=5, min_count=5, sg=0)\n",
        "\n",
        "  - vector_size=100 specifies that each word will be embedded in a 100-dimensional space.\n",
        "\n",
        "  - window=5 refers to the context window size for predicting surrounding words.\n",
        "\n",
        "  - min_count=5 ensures that only words occurring at least 5 times in the corpus are included in the model.\n",
        "  \n",
        "  - sg=0 tells Word2Vec to use the CBOW (Continuous Bag of Words) method instead of the Skip-gram model."
      ],
      "metadata": {
        "id": "HYsNgeSmGenG"
      }
    },
    {
      "cell_type": "code",
      "source": [
        "\n",
        "\n",
        "from gensim.models import Word2Vec\n",
        "sentences = [\n",
        "    ['machine', 'learning', 'is', 'fun'],\n",
        "    ['deep', 'learning', 'is', 'powerful'],\n",
        "    ['artificial', 'intelligence', 'is', 'future']\n",
        "]\n",
        "\n",
        "#Train word2vec:\n",
        "model=Word2Vec(sentences, vector_size=100, window=5, min_count=1, workers=4, sg=0 )\n",
        "# Get word embedding for 'learning'\n",
        "vector = model.wv['learning']\n",
        "print(vector)"
      ],
      "metadata": {
        "colab": {
          "base_uri": "https://localhost:8080/"
        },
        "id": "zbR0x__hAW2s",
        "outputId": "bf11ff72-853a-4374-ce30-a8ffbdd7db01"
      },
      "execution_count": 19,
      "outputs": [
        {
          "output_type": "stream",
          "name": "stdout",
          "text": [
            "[-8.6196875e-03  3.6657380e-03  5.1898835e-03  5.7419385e-03\n",
            "  7.4669183e-03 -6.1676754e-03  1.1056137e-03  6.0472824e-03\n",
            " -2.8400505e-03 -6.1735227e-03 -4.1022300e-04 -8.3689485e-03\n",
            " -5.6000124e-03  7.1045388e-03  3.3525396e-03  7.2256695e-03\n",
            "  6.8002474e-03  7.5307419e-03 -3.7891543e-03 -5.6180597e-04\n",
            "  2.3483764e-03 -4.5190323e-03  8.3887316e-03 -9.8581640e-03\n",
            "  6.7646410e-03  2.9144168e-03 -4.9328315e-03  4.3981876e-03\n",
            " -1.7395747e-03  6.7113843e-03  9.9648498e-03 -4.3624435e-03\n",
            " -5.9933780e-04 -5.6956373e-03  3.8508223e-03  2.7866268e-03\n",
            "  6.8910765e-03  6.1010956e-03  9.5384968e-03  9.2734173e-03\n",
            "  7.8980681e-03 -6.9895042e-03 -9.1558648e-03 -3.5575271e-04\n",
            " -3.0998408e-03  7.8943167e-03  5.9385742e-03 -1.5456629e-03\n",
            "  1.5109634e-03  1.7900408e-03  7.8175711e-03 -9.5101865e-03\n",
            " -2.0553112e-04  3.4691966e-03 -9.3897223e-04  8.3817719e-03\n",
            "  9.0107834e-03  6.5365066e-03 -7.1162102e-04  7.7104042e-03\n",
            " -8.5343346e-03  3.2071066e-03 -4.6379971e-03 -5.0889552e-03\n",
            "  3.5896183e-03  5.3703394e-03  7.7695143e-03 -5.7665063e-03\n",
            "  7.4333609e-03  6.6254963e-03 -3.7098003e-03 -8.7456414e-03\n",
            "  5.4374672e-03  6.5097557e-03 -7.8755023e-04 -6.7098560e-03\n",
            " -7.0859254e-03 -2.4970602e-03  5.1432536e-03 -3.6652375e-03\n",
            " -9.3700597e-03  3.8267397e-03  4.8844791e-03 -6.4285635e-03\n",
            "  1.2085581e-03 -2.0748770e-03  2.4403334e-05 -9.8835090e-03\n",
            "  2.6920044e-03 -4.7501065e-03  1.0876465e-03 -1.5762246e-03\n",
            "  2.1966731e-03 -7.8815762e-03 -2.7171839e-03  2.6631986e-03\n",
            "  5.3466819e-03 -2.3915148e-03 -9.5100943e-03  4.5058788e-03]\n"
          ]
        }
      ]
    },
    {
      "cell_type": "markdown",
      "source": [
        "### PCA AND t-SNE:\n",
        "\n",
        "---\n",
        "\n",
        "- **PCA: Principal Component Analysis**\n",
        "  - A linear technique that reduces the dimensionality of data while retaining the most variance(spread or information).\n",
        "  - Finds the main axes where data varies the most\n",
        "  - Works well with high-dimensional data, but only keeps top components\n",
        "  - Fast and efficient\n",
        "  - Results are easier to interpret\n",
        "  - Poor at separating distinct clusters\n",
        "  - Scales well to very large datasets\n",
        "\n",
        "- **t-SNE: t-Distributed Stochastic Neighbor Embedding**\n",
        "  - **Stochastic** means something involves randomness or probabilities.\n",
        "    - Randomness is used in the process of mapping data from high-dimensional space to lower dimensions, making sure that similar data points stay close together and dissimilar points stay far apart.\n",
        "  -**Neighbour**  refers to points (or data items) that are \"near\" each other in the original, high-dimensional space\n",
        "    - If two points are close together in the original data, they should also be close in the lower-dimensional space.\n",
        "  -**Embedding** is a representation of data in another form.\n",
        "\n",
        "  - t-SNE non-linear technique that preserves the local structure of data, often yielding better visualizations for embeddings, especially when there are clusters.\n",
        "  - Preserve local relationships and clustering\n",
        "  - Slower, especially for large datasets\n",
        "  - Harder to interpret due to random initialization and non-linear nature\n",
        "  - Excellent at showing clusters in data\n",
        "  - May struggle with very large datasets (computationally intensive)\n",
        "\n",
        "  - Perplexity is a parameter in t-SNE that roughly defines the number of nearest neighbors each point considers when constructing the low-dimensional representation.\n",
        "  - default perplexity value (30)\n",
        "\n",
        "  ---\n",
        "  "
      ],
      "metadata": {
        "id": "JufajtX4CkAJ"
      }
    },
    {
      "cell_type": "markdown",
      "source": [
        "### Visualization"
      ],
      "metadata": {
        "id": "NgfyUcmYKlPj"
      }
    },
    {
      "cell_type": "code",
      "source": [
        "!pip install matplotlib"
      ],
      "metadata": {
        "id": "H9Xxmc-7CxAi"
      },
      "execution_count": null,
      "outputs": []
    },
    {
      "cell_type": "code",
      "source": [
        "#t-SNE only\n",
        "\n",
        "from sklearn.manifold import TSNE\n",
        "import matplotlib.pyplot as plt\n",
        "import numpy as np\n",
        "# Get word vectors for visualization\n",
        "words = ['machine', 'learning', 'deep', 'intelligence', 'future']\n",
        "word_vectors = [model.wv[word] for word in words]\n",
        "# print(f\"1. word_vectors: \\n\\n {word_vectors} \\n\\n\")\n",
        "\n",
        "word_vectors = np.array(word_vectors)\n",
        "\n",
        "# print(f\"2. word_vectors: \\n\\n {word_vectors} \\n\\n\")\n",
        "# Perform t-SNE to reduce dimensionality for visualization\n",
        "tsne = TSNE(n_components=2, perplexity=3)\n",
        "word_vec_tsne = tsne.fit_transform(word_vectors)\n",
        "# print(f\"3. word_vec_tsne: \\n\\n {word_vec_tsne} \\n\\n\")\n",
        "\n",
        "# Plot the words in 2D space\n",
        "plt.figure(figsize=(4, 5))\n",
        "for i, word in enumerate(words):\n",
        "    plt.scatter(word_vec_tsne[i, 0], word_vec_tsne[i, 1])\n",
        "    plt.annotate(word, (word_vec_tsne[i, 0], word_vec_tsne[i, 1]))\n",
        "plt.show()\n"
      ],
      "metadata": {
        "colab": {
          "base_uri": "https://localhost:8080/",
          "height": 445
        },
        "id": "hgAaVbkICnqQ",
        "outputId": "a5eb925c-4fec-4429-e8d6-335e58f3e2e7"
      },
      "execution_count": 20,
      "outputs": [
        {
          "output_type": "display_data",
          "data": {
            "text/plain": [
              "<Figure size 400x500 with 1 Axes>"
            ],
            "image/png": "[encoded data removed]"
          },
          "metadata": {}
        }
      ]
    },
    {
      "cell_type": "code",
      "source": [
        "# Import necessary libraries\n",
        "from sklearn.decomposition import PCA\n",
        "from sklearn.manifold import TSNE\n",
        "import matplotlib.pyplot as plt\n",
        "import numpy as np\n",
        "\n",
        "from gensim.models import Word2Vec\n",
        "from nltk.corpus import brown\n",
        "import nltk\n",
        "\n",
        "# Download the Brown corpus (if not already downloaded)\n",
        "nltk.download('brown')\n",
        "\n",
        "# Load sentences from the Brown corpus\n",
        "sentences = brown.sents()\n",
        "\n",
        "# Train Word2Vec model on the Brown corpus\n",
        "model = Word2Vec(sentences, vector_size=100, window=5, min_count=5, sg=0)\n",
        "\n",
        "# Get word vectors for visualization\n",
        "words = ['machine', 'learning', 'deep', 'intelligence', 'future']\n",
        "word_vectors = np.array([model.wv[word] for word in words])\n",
        "\n",
        "# Perform PCA to reduce dimensionality for visualization\n",
        "pca = PCA(n_components=2)\n",
        "word_vec_pca = pca.fit_transform(word_vectors)\n",
        "\n",
        "# Perform t-SNE to reduce dimensionality for visualization\n",
        "tsne = TSNE(n_components=2, perplexity=3, random_state=42)\n",
        "word_vec_tsne = tsne.fit_transform(word_vectors)\n",
        "\n",
        "# Plot the words in 2D space using PCA and t-SNE side by side\n",
        "fig, axes = plt.subplots(1, 2, figsize=(12, 6))\n",
        "\n",
        "# PCA Plot\n",
        "axes[0].scatter(word_vec_pca[:, 0], word_vec_pca[:, 1], color='blue')\n",
        "for i, word in enumerate(words):\n",
        "    axes[0].annotate(word, (word_vec_pca[i, 0], word_vec_pca[i, 1]))\n",
        "axes[0].set_title('PCA Visualization')\n",
        "\n",
        "# t-SNE Plot\n",
        "axes[1].scatter(word_vec_tsne[:, 0], word_vec_tsne[:, 1], color='red')\n",
        "for i, word in enumerate(words):\n",
        "    axes[1].annotate(word, (word_vec_tsne[i, 0], word_vec_tsne[i, 1]))\n",
        "axes[1].set_title('t-SNE Visualization')\n",
        "\n",
        "plt.show()\n"
      ],
      "metadata": {
        "colab": {
          "base_uri": "https://localhost:8080/",
          "height": 580
        },
        "id": "IePFRK9rKwO4",
        "outputId": "a9444bf3-86c2-4adf-e66f-4c1f731e2056"
      },
      "execution_count": 22,
      "outputs": [
        {
          "output_type": "stream",
          "name": "stderr",
          "text": [
            "[nltk_data] Downloading package brown to /root/nltk_data...\n",
            "[nltk_data]   Package brown is already up-to-date!\n"
          ]
        },
        {
          "output_type": "display_data",
          "data": {
            "text/plain": [
              "<Figure size 1200x600 with 2 Axes>"
            ],
            "image/png": "[encoded data removed]"
          },
          "metadata": {}
        }
      ]
    },
    {
      "cell_type": "markdown",
      "source": [
        "# Word Embeddings in LLMs\n",
        "\n",
        "- Embeddings are the building blocks for models like BERT, GPT, and others.\n",
        "- Instead of static embeddings (like in Word2Vec), LLMs **generate dynamic embeddings** based on the surrounding context of the words.\n",
        "\n",
        "<br />\n",
        "\n",
        "---\n",
        "\n",
        "## Key Concepts in LLMs:\n",
        "\n",
        "- **Tokenization:** Breaking text into subwords or characters (byte-pair encoding).\n",
        "\n",
        "- **Positional Embeddings:** Since transformers lack inherent sequence information, positional embeddings are added to the token embeddings to capture word order.\n",
        "\n",
        "- **Self-Attention Mechanism:** In transformers, the attention mechanism generates contextualized embeddings, focusing on relevant words in the sentence to build meaning.\n"
      ],
      "metadata": {
        "id": "SVyplgxiHIfU"
      }
    }
  ]
}