Step 1: Create an .env File
Open Your Project Folder:

In your IDE or text editor, open the project folder where you want to use the API key.
Create a New File:

Create a new file named .env in the root of your project folder.
Add the API Key:

Inside the .env file, add your API key in the format:

PINECONE_API_KEY=your_actual_api_key_here