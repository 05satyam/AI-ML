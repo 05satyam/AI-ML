{
 "cells": [
  {
   "cell_type": "markdown",
   "metadata": {},
   "source": [
    "# **Pydantic AI Agent Framework Documentation**\n",
    "\n",
    "## **Introduction**\n",
    "The Pydantic AI Agent framework provides tools for creating agentic AI systems with structured validation, streamlined data handling, and flexible execution models.\n",
    "\n",
    "---\n",
    "\n",
    "## **Agent Execution Methods**\n",
    "\n",
    "### **Overview**\n",
    "There are three primary ways to run an agent:\n",
    "\n",
    "1. **`agent.run()`**:\n",
    "   - **Type**: Coroutine.\n",
    "   - **Returns**: `RunResult` containing a completed response.\n",
    "\n",
    "2. **`agent.run_sync()`**:\n",
    "   - **Type**: Synchronous function.\n",
    "   - **Returns**: `RunResult` containing a completed response.\n",
    "   - **Internally**: Uses `asyncio.run(self.run())`.\n",
    "\n",
    "3. **`agent.run_stream()`**:\n",
    "   - **Type**: Coroutine.\n",
    "   - **Returns**: `StreamedRunResult`.\n",
    "   - **Details**:\n",
    "     - Provides methods like `stream()` for text streaming in chunks.\n",
    "     - Use this for progressive text generation or interaction.\n",
    "\n",
    "---\n",
    "\n",
    "## **Text Streaming**\n",
    "\n",
    "### **Use Case**\n",
    "Agents can stream textual outputs progressively, making them suitable for real-time applications or conversational AI.\n",
    "\n",
    "---\n",
    "\n",
    "## **Initialization Notes**\n",
    "Before running agents, ensure your environment is set up with all required dependencies. Use the following steps to initialize and verify:\n",
    "\n",
    "- Check kernel configurations.\n",
    "- Install necessary Python packages using `pip` or equivalent.\n",
    "\n",
    "---\n",
    "\n",
    "## **Example Code Snippets**\n",
    "\n",
    "### **Basic Agent Run**\n",
    "```python\n",
    "result = await agent.run(\"Your input text here\")\n",
    "print(result)\n",
    "\n",
    "\n",
    "## Further Reading\n",
    "For more detailed examples and API references, visit the official documentation: [PyndanticAI](https://ai.pydantic.dev/)"
   ]
  },
  {
   "cell_type": "markdown",
   "metadata": {},
   "source": []
  },
  {
   "cell_type": "code",
   "execution_count": 5,
   "metadata": {},
   "outputs": [
    {
     "name": "stdout",
     "output_type": "stream",
     "text": [
      "\u001b[31mERROR: pip's dependency resolver does not currently take into account all the packages that are installed. This behaviour is the source of the following dependency conflicts.\n",
      "d2l 1.0.3 requires scipy==1.10.1, which is not installed.\n",
      "pinecone-text 0.9.0 requires nltk<4.0.0,>=3.6.5, which is not installed.\n",
      "sentence-transformers 2.6.1 requires scipy, which is not installed.\n",
      "d2l 1.0.3 requires numpy==1.23.5, but you have numpy 2.1.3 which is incompatible.\n",
      "d2l 1.0.3 requires requests==2.31.0, but you have requests 2.32.3 which is incompatible.\n",
      "guardrails-ai 0.6.0 requires griffe<0.37.0,>=0.36.9, but you have griffe 1.5.1 which is incompatible.\n",
      "jupyter-server 1.11.1 requires anyio<4,>=3.1.0, but you have anyio 4.3.0 which is incompatible.\n",
      "langchain 0.0.200 requires numpy<2,>=1, but you have numpy 2.1.3 which is incompatible.\n",
      "langchain 0.0.200 requires pydantic<2,>=1, but you have pydantic 2.10.3 which is incompatible.\n",
      "langchain-community 0.0.31 requires numpy<2,>=1, but you have numpy 2.1.3 which is incompatible.\n",
      "langchainplus-sdk 0.0.20 requires pydantic<2,>=1, but you have pydantic 2.10.3 which is incompatible.\n",
      "langserve 0.0.51 requires langchain>=0.0.333, but you have langchain 0.0.200 which is incompatible.\n",
      "pinecone-text 0.9.0 requires numpy<2.0,>=1.21.5; python_version < \"3.12\", but you have numpy 2.1.3 which is incompatible.\n",
      "streamlit 1.33.0 requires numpy<2,>=1.19.3, but you have numpy 2.1.3 which is incompatible.\n",
      "thinc 8.3.2 requires numpy<2.1.0,>=2.0.0; python_version >= \"3.9\", but you have numpy 2.1.3 which is incompatible.\u001b[0m\u001b[31m\n",
      "\u001b[0m\n",
      "\u001b[1m[\u001b[0m\u001b[34;49mnotice\u001b[0m\u001b[1;39;49m]\u001b[0m\u001b[39;49m A new release of pip is available: \u001b[0m\u001b[31;49m24.2\u001b[0m\u001b[39;49m -> \u001b[0m\u001b[32;49m24.3.1\u001b[0m\n",
      "\u001b[1m[\u001b[0m\u001b[34;49mnotice\u001b[0m\u001b[1;39;49m]\u001b[0m\u001b[39;49m To update, run: \u001b[0m\u001b[32;49mpython3.10 -m pip install --upgrade pip\u001b[0m\n",
      "Note: you may need to restart the kernel to use updated packages.\n"
     ]
    }
   ],
   "source": [
    "%pip -q install pydantic-ai\n"
   ]
  },
  {
   "cell_type": "code",
   "execution_count": 6,
   "metadata": {},
   "outputs": [
    {
     "name": "stdout",
     "output_type": "stream",
     "text": [
      "\n",
      "\u001b[1m[\u001b[0m\u001b[34;49mnotice\u001b[0m\u001b[1;39;49m]\u001b[0m\u001b[39;49m A new release of pip is available: \u001b[0m\u001b[31;49m24.2\u001b[0m\u001b[39;49m -> \u001b[0m\u001b[32;49m24.3.1\u001b[0m\n",
      "\u001b[1m[\u001b[0m\u001b[34;49mnotice\u001b[0m\u001b[1;39;49m]\u001b[0m\u001b[39;49m To update, run: \u001b[0m\u001b[32;49mpython3.10 -m pip install --upgrade pip\u001b[0m\n",
      "Note: you may need to restart the kernel to use updated packages.\n"
     ]
    }
   ],
   "source": [
    "%pip -q install nest_asyncio\n"
   ]
  },
  {
   "cell_type": "code",
   "execution_count": 7,
   "metadata": {},
   "outputs": [
    {
     "name": "stdout",
     "output_type": "stream",
     "text": [
      "\n",
      "\u001b[1m[\u001b[0m\u001b[34;49mnotice\u001b[0m\u001b[1;39;49m]\u001b[0m\u001b[39;49m A new release of pip is available: \u001b[0m\u001b[31;49m24.2\u001b[0m\u001b[39;49m -> \u001b[0m\u001b[32;49m24.3.1\u001b[0m\n",
      "\u001b[1m[\u001b[0m\u001b[34;49mnotice\u001b[0m\u001b[1;39;49m]\u001b[0m\u001b[39;49m To update, run: \u001b[0m\u001b[32;49mpython3.10 -m pip install --upgrade pip\u001b[0m\n",
      "Note: you may need to restart the kernel to use updated packages.\n"
     ]
    }
   ],
   "source": [
    "%pip -q install devtools"
   ]
  },
  {
   "cell_type": "markdown",
   "metadata": {},
   "source": [
    "#### Researt to intialize kernal with new dependencies"
   ]
  },
  {
   "cell_type": "code",
   "execution_count": 1,
   "metadata": {},
   "outputs": [],
   "source": [
    "import os\n",
    "from IPython.display import display, Markdown\n",
    "\n",
    "os.environ[\"OPENAI_API_KEY\"] = \"\"#Openai key\n"
   ]
  },
  {
   "cell_type": "code",
   "execution_count": 2,
   "metadata": {},
   "outputs": [],
   "source": [
    "import nest_asyncio\n",
    "nest_asyncio.apply()"
   ]
  },
  {
   "cell_type": "code",
   "execution_count": 4,
   "metadata": {},
   "outputs": [
    {
     "name": "stdout",
     "output_type": "stream",
     "text": [
      "Creating a Pydantic data class to represent AI models or their configurations is a structured and type-safe way to manage data. Pydantic is a data validation and settings management library for Python, which uses Python type hints to provide user-friendly errors when data is invalid. Below is a step-by-step guide on how to create a Pydantic model for AI:\n",
      "\n",
      "1. **Install Pydantic:**\n",
      "   Ensure you have Pydantic installed in your Python environment. You can install it via pip:\n",
      "   ```bash\n",
      "   pip install pydantic\n",
      "   ```\n",
      "\n",
      "2. **Define the Pydantic Model:**\n",
      "   You can define a Pydantic model by creating a class that inherits from `pydantic.BaseModel`. Each attribute of the class represents a field in the model.\n",
      "\n",
      "3. **Add Type Annotations:**\n",
      "   Use type annotations for each field to specify the data type. This not only provides clarity but also enables Pydantic to perform data validation.\n",
      "\n",
      "4. **Default Values and Validation:**\n",
      "   You can provide default values and add custom validation methods to ensure your model behaves as expected.\n",
      "\n",
      "Here's an example of creating a Pydantic data class for a simple AI model configuration:\n",
      "\n",
      "```python\n",
      "from pydantic import BaseModel, Field, validator\n",
      "from typing import List, Optional\n",
      "\n",
      "class AIModelConfig(BaseModel):\n",
      "    model_name: str\n",
      "    input_size: int\n",
      "    output_size: int\n",
      "    hidden_layers: List[int] = Field(description=\"List of neuron counts for each hidden layer\")\n",
      "    activation_function: str = \"relu\"\n",
      "    learning_rate: float = Field(gt=0, lt=1, default=0.001, description=\"Learning rate must be between 0 and 1\")\n",
      "\n",
      "    @validator('activation_function')\n",
      "    def check_activation_function(cls, value):\n",
      "        valid_functions = {'relu', 'sigmoid', 'tanh'}\n",
      "        if value not in valid_functions:\n",
      "            raise ValueError(f'Activation function must be one of {valid_functions}')\n",
      "        return value\n",
      "\n",
      "    class Config:\n",
      "        allow_mutation = False\n",
      "        anystr_strip_whitespace = True\n",
      "\n",
      "# Example usage\n",
      "model_config = AIModelConfig(\n",
      "    model_name=\"example_model\",\n",
      "    input_size=784,\n",
      "    output_size=10,\n",
      "    hidden_layers=[512, 256, 128]\n",
      ")\n",
      "\n",
      "print(model_config)\n",
      "```\n",
      "\n",
      "### Key Points:\n",
      "\n",
      "- **Inheritance from `BaseModel`:** This allows your class to benefit from Pydantic’s features, such as validation and serialization.\n",
      "  \n",
      "- **Type Hints and Fields:** Type hints are crucial for Pydantic to know what kind of data it's dealing with. The `Field` function provides additional metadata and validation constraints.\n",
      "\n",
      "- **Validators:** These are methods that allow custom checks, ensuring values conform to specified rules.\n",
      "\n",
      "- **Configuration Class:** The nested `Config` class lets you control behaviors like immutability (using `allow_mutation`) and whitespace management (`anystr_strip_whitespace`).\n",
      "\n",
      "Building and utilizing Pydantic models like this can greatly enhance the reliability and maintainability of your AI data workflows. Always remember to keep the data validation strict yet accommodating to avoid common pitfalls that can occur with dynamic data structures. If you have any questions or need further guidance, feel free to ask!\n"
     ]
    }
   ],
   "source": [
    "from pydantic_ai import Agent, ModelRetry\n",
    "agent = Agent('openai:gpt-4o', \n",
    "            system_prompt=\"Be very helpful AI Engineer, and reply as you are leading a billion dollar project\",\n",
    "            retries=2\n",
    "              )\n",
    "result = agent.run_sync('How to create a pydantic ai dataclass?')\n",
    "print(result.data)"
   ]
  },
  {
   "cell_type": "code",
   "execution_count": null,
   "metadata": {},
   "outputs": [],
   "source": []
  },
  {
   "cell_type": "code",
   "execution_count": 5,
   "metadata": {},
   "outputs": [],
   "source": [
    "import os \n",
    "from typing import cast\n",
    "from pydantic import BaseModel\n",
    "from pydantic_ai import Agent\n",
    "from pydantic_ai.models import KnownModelName"
   ]
  },
  {
   "cell_type": "code",
   "execution_count": 7,
   "metadata": {},
   "outputs": [
    {
     "name": "stdout",
     "output_type": "stream",
     "text": [
      "city='Barcelona' country='Spain' popular_place='Opium Barcelona' point_of_contact='info@opiumbarcelona.com'\n"
     ]
    }
   ],
   "source": [
    "class ModelResponse(BaseModel):\n",
    "    city: str\n",
    "    country: str\n",
    "    popular_place: str\n",
    "    point_of_contact: str\n",
    "\n",
    "agent = Agent('openai:gpt-4o',\n",
    "              result_type=ModelResponse)\n",
    "result = agent.run_sync('tell me a place to party place in europe for my trip in june')\n",
    "print(result.data)"
   ]
  },
  {
   "cell_type": "code",
   "execution_count": 16,
   "metadata": {},
   "outputs": [
    {
     "data": {
      "text/plain": [
       "Agent(model=OpenAIModel(model_name='gpt-4o'), name='agent', last_run_messages=[UserPrompt(content='tell me a place to party place in europe for my trip in june', timestamp=datetime.datetime(2024, 12, 6, 21, 53, 1, 672581, tzinfo=datetime.timezone.utc), role='user'), ModelStructuredResponse(calls=[ToolCall(tool_name='final_result', args=ArgsJson(args_json='{\"city\": \"Barcelona\", \"country\": \"Spain\", \"popular_place\": \"Opium Barcelona\", \"point_of_contact\": \"info@opiumbarcelona.com\"}'), tool_id='call_mIsBwXIiNN2xAMSVQv4cV5WE'), ToolCall(tool_name='final_result', args=ArgsJson(args_json='{\"city\": \"Berlin\", \"country\": \"Germany\", \"popular_place\": \"Berghain\", \"point_of_contact\": \"info@berghain.de\"}'), tool_id='call_HPdgKcpNyX3sVazWLwWdAHcW'), ToolCall(tool_name='final_result', args=ArgsJson(args_json='{\"city\": \"Ibiza\", \"country\": \"Spain\", \"popular_place\": \"Pacha Ibiza\", \"point_of_contact\": \"info@pacha.com\"}'), tool_id='call_ZHvfuTdtpi65i473o9yJXAB8')], timestamp=datetime.datetime(2024, 12, 6, 21, 53, 2, tzinfo=datetime.timezone.utc), role='model-structured-response')])"
      ]
     },
     "execution_count": 16,
     "metadata": {},
     "output_type": "execute_result"
    }
   ],
   "source": [
    "agent"
   ]
  },
  {
   "cell_type": "code",
   "execution_count": 15,
   "metadata": {},
   "outputs": [
    {
     "name": "stdout",
     "output_type": "stream",
     "text": [
      "RunResult(_all_messages=[UserPrompt(content='tell me a place to party place in europe for my trip in june', timestamp=datetime.datetime(2024, 12, 6, 21, 53, 1, 672581, tzinfo=datetime.timezone.utc), role='user'), ModelStructuredResponse(calls=[ToolCall(tool_name='final_result', args=ArgsJson(args_json='{\"city\": \"Barcelona\", \"country\": \"Spain\", \"popular_place\": \"Opium Barcelona\", \"point_of_contact\": \"info@opiumbarcelona.com\"}'), tool_id='call_mIsBwXIiNN2xAMSVQv4cV5WE'), ToolCall(tool_name='final_result', args=ArgsJson(args_json='{\"city\": \"Berlin\", \"country\": \"Germany\", \"popular_place\": \"Berghain\", \"point_of_contact\": \"info@berghain.de\"}'), tool_id='call_HPdgKcpNyX3sVazWLwWdAHcW'), ToolCall(tool_name='final_result', args=ArgsJson(args_json='{\"city\": \"Ibiza\", \"country\": \"Spain\", \"popular_place\": \"Pacha Ibiza\", \"point_of_contact\": \"info@pacha.com\"}'), tool_id='call_ZHvfuTdtpi65i473o9yJXAB8')], timestamp=datetime.datetime(2024, 12, 6, 21, 53, 2, tzinfo=datetime.timezone.utc), role='model-structured-response')], _new_message_index=0, data=ModelResponse(city='Barcelona', country='Spain', popular_place='Opium Barcelona', point_of_contact='info@opiumbarcelona.com'), _cost=Cost(request_tokens=90, response_tokens=125, total_tokens=215, details={'accepted_prediction_tokens': 0, 'audio_tokens': 0, 'reasoning_tokens': 0, 'rejected_prediction_tokens': 0, 'cached_tokens': 0}))\n",
      "city='Barcelona' country='Spain' popular_place='Opium Barcelona' point_of_contact='info@opiumbarcelona.com'\n",
      "Opium Barcelona\n"
     ]
    }
   ],
   "source": [
    "print(result)\n",
    "print(result.data)\n",
    "print(result.data.popular_place)"
   ]
  },
  {
   "cell_type": "code",
   "execution_count": null,
   "metadata": {},
   "outputs": [],
   "source": []
  },
  {
   "cell_type": "markdown",
   "metadata": {},
   "source": [
    "## STREAMING of text"
   ]
  },
  {
   "cell_type": "code",
   "execution_count": 24,
   "metadata": {},
   "outputs": [],
   "source": [
    "from pydantic_ai import Agent\n",
    "\n",
    "agent = Agent('openai:gpt-4o')  \n",
    "\n",
    "\n",
    "async def main():\n",
    "    async with agent.run_stream('what is PydanticAI?') as result:  \n",
    "        async for message in result.stream():  \n",
    "            print(message)\n",
    "            "
   ]
  },
  {
   "cell_type": "code",
   "execution_count": 25,
   "metadata": {},
   "outputs": [
    {
     "name": "stdout",
     "output_type": "stream",
     "text": [
      "\n",
      "PydanticAI appears to be a fictional or\n",
      "PydanticAI appears to be a fictional or speculative concept, as there is no widely\n",
      "PydanticAI appears to be a fictional or speculative concept, as there is no widely recognized or established entity by that name,\n",
      "PydanticAI appears to be a fictional or speculative concept, as there is no widely recognized or established entity by that name, as of my last update in October 2023. However, it's\n",
      "PydanticAI appears to be a fictional or speculative concept, as there is no widely recognized or established entity by that name, as of my last update in October 2023. However, it's possible you might be referring to two distinct topics:\n",
      "\n",
      "\n",
      "PydanticAI appears to be a fictional or speculative concept, as there is no widely recognized or established entity by that name, as of my last update in October 2023. However, it's possible you might be referring to two distinct topics:\n",
      "\n",
      "1. **Pydantic**:\n",
      "PydanticAI appears to be a fictional or speculative concept, as there is no widely recognized or established entity by that name, as of my last update in October 2023. However, it's possible you might be referring to two distinct topics:\n",
      "\n",
      "1. **Pydantic**: This is a popular Python library used primarily\n",
      "PydanticAI appears to be a fictional or speculative concept, as there is no widely recognized or established entity by that name, as of my last update in October 2023. However, it's possible you might be referring to two distinct topics:\n",
      "\n",
      "1. **Pydantic**: This is a popular Python library used primarily for data validation and settings management using Python type annotations. P\n",
      "PydanticAI appears to be a fictional or speculative concept, as there is no widely recognized or established entity by that name, as of my last update in October 2023. However, it's possible you might be referring to two distinct topics:\n",
      "\n",
      "1. **Pydantic**: This is a popular Python library used primarily for data validation and settings management using Python type annotations. Pydantic allows developers to define data structures\n",
      "PydanticAI appears to be a fictional or speculative concept, as there is no widely recognized or established entity by that name, as of my last update in October 2023. However, it's possible you might be referring to two distinct topics:\n",
      "\n",
      "1. **Pydantic**: This is a popular Python library used primarily for data validation and settings management using Python type annotations. Pydantic allows developers to define data structures with Python classes and automatically validate and parse\n",
      "PydanticAI appears to be a fictional or speculative concept, as there is no widely recognized or established entity by that name, as of my last update in October 2023. However, it's possible you might be referring to two distinct topics:\n",
      "\n",
      "1. **Pydantic**: This is a popular Python library used primarily for data validation and settings management using Python type annotations. Pydantic allows developers to define data structures with Python classes and automatically validate and parse input data\n",
      "PydanticAI appears to be a fictional or speculative concept, as there is no widely recognized or established entity by that name, as of my last update in October 2023. However, it's possible you might be referring to two distinct topics:\n",
      "\n",
      "1. **Pydantic**: This is a popular Python library used primarily for data validation and settings management using Python type annotations. Pydantic allows developers to define data structures with Python classes and automatically validate and parse input data, ensuring that it conforms to the specified\n",
      "PydanticAI appears to be a fictional or speculative concept, as there is no widely recognized or established entity by that name, as of my last update in October 2023. However, it's possible you might be referring to two distinct topics:\n",
      "\n",
      "1. **Pydantic**: This is a popular Python library used primarily for data validation and settings management using Python type annotations. Pydantic allows developers to define data structures with Python classes and automatically validate and parse input data, ensuring that it conforms to the specified types.\n",
      "\n",
      "2.\n",
      "PydanticAI appears to be a fictional or speculative concept, as there is no widely recognized or established entity by that name, as of my last update in October 2023. However, it's possible you might be referring to two distinct topics:\n",
      "\n",
      "1. **Pydantic**: This is a popular Python library used primarily for data validation and settings management using Python type annotations. Pydantic allows developers to define data structures with Python classes and automatically validate and parse input data, ensuring that it conforms to the specified types.\n",
      "\n",
      "2. **AI (Artificial Intelligence)**\n",
      "PydanticAI appears to be a fictional or speculative concept, as there is no widely recognized or established entity by that name, as of my last update in October 2023. However, it's possible you might be referring to two distinct topics:\n",
      "\n",
      "1. **Pydantic**: This is a popular Python library used primarily for data validation and settings management using Python type annotations. Pydantic allows developers to define data structures with Python classes and automatically validate and parse input data, ensuring that it conforms to the specified types.\n",
      "\n",
      "2. **AI (Artificial Intelligence)**: This refers to the simulation of human intelligence in machines that are\n",
      "PydanticAI appears to be a fictional or speculative concept, as there is no widely recognized or established entity by that name, as of my last update in October 2023. However, it's possible you might be referring to two distinct topics:\n",
      "\n",
      "1. **Pydantic**: This is a popular Python library used primarily for data validation and settings management using Python type annotations. Pydantic allows developers to define data structures with Python classes and automatically validate and parse input data, ensuring that it conforms to the specified types.\n",
      "\n",
      "2. **AI (Artificial Intelligence)**: This refers to the simulation of human intelligence in machines that are designed to think and learn like humans.\n",
      "PydanticAI appears to be a fictional or speculative concept, as there is no widely recognized or established entity by that name, as of my last update in October 2023. However, it's possible you might be referring to two distinct topics:\n",
      "\n",
      "1. **Pydantic**: This is a popular Python library used primarily for data validation and settings management using Python type annotations. Pydantic allows developers to define data structures with Python classes and automatically validate and parse input data, ensuring that it conforms to the specified types.\n",
      "\n",
      "2. **AI (Artificial Intelligence)**: This refers to the simulation of human intelligence in machines that are designed to think and learn like humans. AI encompasses a broad range of\n",
      "PydanticAI appears to be a fictional or speculative concept, as there is no widely recognized or established entity by that name, as of my last update in October 2023. However, it's possible you might be referring to two distinct topics:\n",
      "\n",
      "1. **Pydantic**: This is a popular Python library used primarily for data validation and settings management using Python type annotations. Pydantic allows developers to define data structures with Python classes and automatically validate and parse input data, ensuring that it conforms to the specified types.\n",
      "\n",
      "2. **AI (Artificial Intelligence)**: This refers to the simulation of human intelligence in machines that are designed to think and learn like humans. AI encompasses a broad range of technologies and applications, including machine\n",
      "PydanticAI appears to be a fictional or speculative concept, as there is no widely recognized or established entity by that name, as of my last update in October 2023. However, it's possible you might be referring to two distinct topics:\n",
      "\n",
      "1. **Pydantic**: This is a popular Python library used primarily for data validation and settings management using Python type annotations. Pydantic allows developers to define data structures with Python classes and automatically validate and parse input data, ensuring that it conforms to the specified types.\n",
      "\n",
      "2. **AI (Artificial Intelligence)**: This refers to the simulation of human intelligence in machines that are designed to think and learn like humans. AI encompasses a broad range of technologies and applications, including machine learning, natural language processing, computer vision, and more.\n",
      "\n",
      "\n",
      "PydanticAI appears to be a fictional or speculative concept, as there is no widely recognized or established entity by that name, as of my last update in October 2023. However, it's possible you might be referring to two distinct topics:\n",
      "\n",
      "1. **Pydantic**: This is a popular Python library used primarily for data validation and settings management using Python type annotations. Pydantic allows developers to define data structures with Python classes and automatically validate and parse input data, ensuring that it conforms to the specified types.\n",
      "\n",
      "2. **AI (Artificial Intelligence)**: This refers to the simulation of human intelligence in machines that are designed to think and learn like humans. AI encompasses a broad range of technologies and applications, including machine learning, natural language processing, computer vision, and more.\n",
      "\n",
      "If PydanticAI is a new\n",
      "PydanticAI appears to be a fictional or speculative concept, as there is no widely recognized or established entity by that name, as of my last update in October 2023. However, it's possible you might be referring to two distinct topics:\n",
      "\n",
      "1. **Pydantic**: This is a popular Python library used primarily for data validation and settings management using Python type annotations. Pydantic allows developers to define data structures with Python classes and automatically validate and parse input data, ensuring that it conforms to the specified types.\n",
      "\n",
      "2. **AI (Artificial Intelligence)**: This refers to the simulation of human intelligence in machines that are designed to think and learn like humans. AI encompasses a broad range of technologies and applications, including machine learning, natural language processing, computer vision, and more.\n",
      "\n",
      "If PydanticAI is a new product, service, or library that has emerged after\n",
      "PydanticAI appears to be a fictional or speculative concept, as there is no widely recognized or established entity by that name, as of my last update in October 2023. However, it's possible you might be referring to two distinct topics:\n",
      "\n",
      "1. **Pydantic**: This is a popular Python library used primarily for data validation and settings management using Python type annotations. Pydantic allows developers to define data structures with Python classes and automatically validate and parse input data, ensuring that it conforms to the specified types.\n",
      "\n",
      "2. **AI (Artificial Intelligence)**: This refers to the simulation of human intelligence in machines that are designed to think and learn like humans. AI encompasses a broad range of technologies and applications, including machine learning, natural language processing, computer vision, and more.\n",
      "\n",
      "If PydanticAI is a new product, service, or library that has emerged after October 2023, I would not\n",
      "PydanticAI appears to be a fictional or speculative concept, as there is no widely recognized or established entity by that name, as of my last update in October 2023. However, it's possible you might be referring to two distinct topics:\n",
      "\n",
      "1. **Pydantic**: This is a popular Python library used primarily for data validation and settings management using Python type annotations. Pydantic allows developers to define data structures with Python classes and automatically validate and parse input data, ensuring that it conforms to the specified types.\n",
      "\n",
      "2. **AI (Artificial Intelligence)**: This refers to the simulation of human intelligence in machines that are designed to think and learn like humans. AI encompasses a broad range of technologies and applications, including machine learning, natural language processing, computer vision, and more.\n",
      "\n",
      "If PydanticAI is a new product, service, or library that has emerged after October 2023, I would not have information about it. Please\n",
      "PydanticAI appears to be a fictional or speculative concept, as there is no widely recognized or established entity by that name, as of my last update in October 2023. However, it's possible you might be referring to two distinct topics:\n",
      "\n",
      "1. **Pydantic**: This is a popular Python library used primarily for data validation and settings management using Python type annotations. Pydantic allows developers to define data structures with Python classes and automatically validate and parse input data, ensuring that it conforms to the specified types.\n",
      "\n",
      "2. **AI (Artificial Intelligence)**: This refers to the simulation of human intelligence in machines that are designed to think and learn like humans. AI encompasses a broad range of technologies and applications, including machine learning, natural language processing, computer vision, and more.\n",
      "\n",
      "If PydanticAI is a new product, service, or library that has emerged after October 2023, I would not have information about it. Please check the latest online resources or news for\n",
      "PydanticAI appears to be a fictional or speculative concept, as there is no widely recognized or established entity by that name, as of my last update in October 2023. However, it's possible you might be referring to two distinct topics:\n",
      "\n",
      "1. **Pydantic**: This is a popular Python library used primarily for data validation and settings management using Python type annotations. Pydantic allows developers to define data structures with Python classes and automatically validate and parse input data, ensuring that it conforms to the specified types.\n",
      "\n",
      "2. **AI (Artificial Intelligence)**: This refers to the simulation of human intelligence in machines that are designed to think and learn like humans. AI encompasses a broad range of technologies and applications, including machine learning, natural language processing, computer vision, and more.\n",
      "\n",
      "If PydanticAI is a new product, service, or library that has emerged after October 2023, I would not have information about it. Please check the latest online resources or news for any updates regarding this term.\n"
     ]
    }
   ],
   "source": [
    "await main()"
   ]
  },
  {
   "cell_type": "markdown",
   "metadata": {},
   "source": []
  },
  {
   "cell_type": "markdown",
   "metadata": {},
   "source": [
    "## In brief :ways to run agents\n",
    "\n",
    "### There are three ways to run an agent:\n",
    "\n",
    "1. agent.run() — a coroutine which returns a RunResult containing a completed response\n",
    "2. agent.run_sync() — a plain, synchronous function which returns a RunResult containing a completed response (internally, this just calls asyncio.run(self.run()))\n",
    "3. agent.run_stream() — a coroutine which returns a StreamedRunResult, which contains methods to stream a response as an async iterable\n"
   ]
  },
  {
   "cell_type": "code",
   "execution_count": 32,
   "metadata": {},
   "outputs": [
    {
     "name": "stdout",
     "output_type": "stream",
     "text": [
      "The first patent for a color photography process was awarded to Levi Hill, an American minister and daguerreotypist, in 1856. Hill's process, known as \"Hillotype,\" purported to create natural color photographs, but his claims were met with skepticism during his time, and the results were not widely replicated. Later analyses suggested that some of the color in Hill's images might have been due to hand coloring or other enhancements rather than the process itself.\n",
      "\n",
      "Truly successful color photography came later, with developments such as the autochrome process by the Lumière brothers, patented in 1903 and introduced commercially in 1907, which is considered the first practical color photography process.\n"
     ]
    }
   ],
   "source": [
    "from pydantic_ai import Agent\n",
    "\n",
    "agent = Agent('openai:gpt-4o')\n",
    "\n",
    "result_sync = agent.run_sync('First color patent in world')\n",
    "print(result_sync.data)\n",
    "\n",
    "\n",
    "\n",
    "async def main_():\n",
    "    result = await agent.run('Who is the CEO of Pyndantic?')\n",
    "    print(result.data)\n",
    "\n",
    "    print(\"\\n\\n =======run stream============\\n\")\n",
    "    async with agent.run_stream('What is PaypalMafia') as response:\n",
    "        async for res in response.stream():\n",
    "            print(res)\n",
    "\n",
    "            "
   ]
  },
  {
   "cell_type": "code",
   "execution_count": 33,
   "metadata": {},
   "outputs": [
    {
     "name": "stdout",
     "output_type": "stream",
     "text": [
      "As of my last update, there is no widely recognized company named \"Pyndantic.\" It's possible that the company is relatively new, small, or operates in a niche market. If you are referring to a company that has gained prominence after October 2023 or if there has been a recent name change or development, I would recommend checking the latest sources online or visiting the company's official website for the most current information.\n",
      "\n",
      "\n",
      " =======run stream============\n",
      "\n",
      "The \"PayPal\n",
      "The \"PayPal Mafia\" is a term that refers to a group\n",
      "The \"PayPal Mafia\" is a term that refers to a group of former\n",
      "The \"PayPal Mafia\" is a term that refers to a group of former PayPal employees and founders who\n",
      "The \"PayPal Mafia\" is a term that refers to a group of former PayPal employees and founders who have become highly successful entrepreneurs and\n",
      "The \"PayPal Mafia\" is a term that refers to a group of former PayPal employees and founders who have become highly successful entrepreneurs and investors in the tech industry.\n",
      "The \"PayPal Mafia\" is a term that refers to a group of former PayPal employees and founders who have become highly successful entrepreneurs and investors in the tech industry. After their time at PayPal, many members of\n",
      "The \"PayPal Mafia\" is a term that refers to a group of former PayPal employees and founders who have become highly successful entrepreneurs and investors in the tech industry. After their time at PayPal, many members of this group went on to found or lead some of\n",
      "The \"PayPal Mafia\" is a term that refers to a group of former PayPal employees and founders who have become highly successful entrepreneurs and investors in the tech industry. After their time at PayPal, many members of this group went on to found or lead some of the most well-known companies in\n",
      "The \"PayPal Mafia\" is a term that refers to a group of former PayPal employees and founders who have become highly successful entrepreneurs and investors in the tech industry. After their time at PayPal, many members of this group went on to found or lead some of the most well-known companies in Silicon Valley and beyond. The term was\n",
      "The \"PayPal Mafia\" is a term that refers to a group of former PayPal employees and founders who have become highly successful entrepreneurs and investors in the tech industry. After their time at PayPal, many members of this group went on to found or lead some of the most well-known companies in Silicon Valley and beyond. The term was popularized because many of these individuals have remained intertwined\n",
      "The \"PayPal Mafia\" is a term that refers to a group of former PayPal employees and founders who have become highly successful entrepreneurs and investors in the tech industry. After their time at PayPal, many members of this group went on to found or lead some of the most well-known companies in Silicon Valley and beyond. The term was popularized because many of these individuals have remained intertwined in various business ventures, often collaborating or\n",
      "The \"PayPal Mafia\" is a term that refers to a group of former PayPal employees and founders who have become highly successful entrepreneurs and investors in the tech industry. After their time at PayPal, many members of this group went on to found or lead some of the most well-known companies in Silicon Valley and beyond. The term was popularized because many of these individuals have remained intertwined in various business ventures, often collaborating or investing in each other's companies.\n",
      "\n",
      "Prominent members of\n",
      "The \"PayPal Mafia\" is a term that refers to a group of former PayPal employees and founders who have become highly successful entrepreneurs and investors in the tech industry. After their time at PayPal, many members of this group went on to found or lead some of the most well-known companies in Silicon Valley and beyond. The term was popularized because many of these individuals have remained intertwined in various business ventures, often collaborating or investing in each other's companies.\n",
      "\n",
      "Prominent members of the PayPal Mafia include:\n",
      "\n",
      "\n",
      "The \"PayPal Mafia\" is a term that refers to a group of former PayPal employees and founders who have become highly successful entrepreneurs and investors in the tech industry. After their time at PayPal, many members of this group went on to found or lead some of the most well-known companies in Silicon Valley and beyond. The term was popularized because many of these individuals have remained intertwined in various business ventures, often collaborating or investing in each other's companies.\n",
      "\n",
      "Prominent members of the PayPal Mafia include:\n",
      "\n",
      "1. **Elon Musk\n",
      "The \"PayPal Mafia\" is a term that refers to a group of former PayPal employees and founders who have become highly successful entrepreneurs and investors in the tech industry. After their time at PayPal, many members of this group went on to found or lead some of the most well-known companies in Silicon Valley and beyond. The term was popularized because many of these individuals have remained intertwined in various business ventures, often collaborating or investing in each other's companies.\n",
      "\n",
      "Prominent members of the PayPal Mafia include:\n",
      "\n",
      "1. **Elon Musk** - Co-founder of PayPal who later founded SpaceX, Tesla\n",
      "The \"PayPal Mafia\" is a term that refers to a group of former PayPal employees and founders who have become highly successful entrepreneurs and investors in the tech industry. After their time at PayPal, many members of this group went on to found or lead some of the most well-known companies in Silicon Valley and beyond. The term was popularized because many of these individuals have remained intertwined in various business ventures, often collaborating or investing in each other's companies.\n",
      "\n",
      "Prominent members of the PayPal Mafia include:\n",
      "\n",
      "1. **Elon Musk** - Co-founder of PayPal who later founded SpaceX, Tesla, Neuralink, and The Boring\n",
      "The \"PayPal Mafia\" is a term that refers to a group of former PayPal employees and founders who have become highly successful entrepreneurs and investors in the tech industry. After their time at PayPal, many members of this group went on to found or lead some of the most well-known companies in Silicon Valley and beyond. The term was popularized because many of these individuals have remained intertwined in various business ventures, often collaborating or investing in each other's companies.\n",
      "\n",
      "Prominent members of the PayPal Mafia include:\n",
      "\n",
      "1. **Elon Musk** - Co-founder of PayPal who later founded SpaceX, Tesla, Neuralink, and The Boring Company.\n",
      "\n",
      "The \"PayPal Mafia\" is a term that refers to a group of former PayPal employees and founders who have become highly successful entrepreneurs and investors in the tech industry. After their time at PayPal, many members of this group went on to found or lead some of the most well-known companies in Silicon Valley and beyond. The term was popularized because many of these individuals have remained intertwined in various business ventures, often collaborating or investing in each other's companies.\n",
      "\n",
      "Prominent members of the PayPal Mafia include:\n",
      "\n",
      "1. **Elon Musk** - Co-founder of PayPal who later founded SpaceX, Tesla, Neuralink, and The Boring Company.\n",
      "2. **Peter Thiel** - Co-founder of PayPal and Palantir Technologies, and an early investor in Facebook.\n",
      "3. **Reid Hoffman\n",
      "The \"PayPal Mafia\" is a term that refers to a group of former PayPal employees and founders who have become highly successful entrepreneurs and investors in the tech industry. After their time at PayPal, many members of this group went on to found or lead some of the most well-known companies in Silicon Valley and beyond. The term was popularized because many of these individuals have remained intertwined in various business ventures, often collaborating or investing in each other's companies.\n",
      "\n",
      "Prominent members of the PayPal Mafia include:\n",
      "\n",
      "1. **Elon Musk** - Co-founder of PayPal who later founded SpaceX, Tesla, Neuralink, and The Boring Company.\n",
      "2. **Peter Thiel** - Co-founder of PayPal and Palantir Technologies, and an early investor in Facebook.\n",
      "3. **Reid Hoffman** - Early PayPal executive who went on to co-found LinkedIn.\n",
      "4. **Max Levchin** - Co-founder of PayPal who later founded Affirm.\n",
      "5. **Yishan Wong** - Formerly worked at PayPal and later became the CEO of Reddit.\n",
      "6.\n",
      "The \"PayPal Mafia\" is a term that refers to a group of former PayPal employees and founders who have become highly successful entrepreneurs and investors in the tech industry. After their time at PayPal, many members of this group went on to found or lead some of the most well-known companies in Silicon Valley and beyond. The term was popularized because many of these individuals have remained intertwined in various business ventures, often collaborating or investing in each other's companies.\n",
      "\n",
      "Prominent members of the PayPal Mafia include:\n",
      "\n",
      "1. **Elon Musk** - Co-founder of PayPal who later founded SpaceX, Tesla, Neuralink, and The Boring Company.\n",
      "2. **Peter Thiel** - Co-founder of PayPal and Palantir Technologies, and an early investor in Facebook.\n",
      "3. **Reid Hoffman** - Early PayPal executive who went on to co-found LinkedIn.\n",
      "4. **Max Levchin** - Co-founder of PayPal who later founded Affirm.\n",
      "5. **Yishan Wong** - Formerly worked at PayPal and later became the CEO of Reddit.\n",
      "6. **David Sacks** - Former COO of PayPal who later founded Yammer and Craft Ventures.\n",
      "7. **Jeremy Stoppelman** - Former VP of Engineering at PayPal and co-founder of Yelp.\n",
      "\n",
      "The \"mafia\n",
      "The \"PayPal Mafia\" is a term that refers to a group of former PayPal employees and founders who have become highly successful entrepreneurs and investors in the tech industry. After their time at PayPal, many members of this group went on to found or lead some of the most well-known companies in Silicon Valley and beyond. The term was popularized because many of these individuals have remained intertwined in various business ventures, often collaborating or investing in each other's companies.\n",
      "\n",
      "Prominent members of the PayPal Mafia include:\n",
      "\n",
      "1. **Elon Musk** - Co-founder of PayPal who later founded SpaceX, Tesla, Neuralink, and The Boring Company.\n",
      "2. **Peter Thiel** - Co-founder of PayPal and Palantir Technologies, and an early investor in Facebook.\n",
      "3. **Reid Hoffman** - Early PayPal executive who went on to co-found LinkedIn.\n",
      "4. **Max Levchin** - Co-founder of PayPal who later founded Affirm.\n",
      "5. **Yishan Wong** - Formerly worked at PayPal and later became the CEO of Reddit.\n",
      "6. **David Sacks** - Former COO of PayPal who later founded Yammer and Craft Ventures.\n",
      "7. **Jeremy Stoppelman** - Former VP of Engineering at PayPal and co-founder of Yelp.\n",
      "\n",
      "The \"mafia\" nickname highlights both the close-knit nature of the group and their significant influence in the tech world. They are known for supporting one another in various startups and venture capital endeavors, contributing to each other's successes in a business landscape that thrives on networking\n",
      "The \"PayPal Mafia\" is a term that refers to a group of former PayPal employees and founders who have become highly successful entrepreneurs and investors in the tech industry. After their time at PayPal, many members of this group went on to found or lead some of the most well-known companies in Silicon Valley and beyond. The term was popularized because many of these individuals have remained intertwined in various business ventures, often collaborating or investing in each other's companies.\n",
      "\n",
      "Prominent members of the PayPal Mafia include:\n",
      "\n",
      "1. **Elon Musk** - Co-founder of PayPal who later founded SpaceX, Tesla, Neuralink, and The Boring Company.\n",
      "2. **Peter Thiel** - Co-founder of PayPal and Palantir Technologies, and an early investor in Facebook.\n",
      "3. **Reid Hoffman** - Early PayPal executive who went on to co-found LinkedIn.\n",
      "4. **Max Levchin** - Co-founder of PayPal who later founded Affirm.\n",
      "5. **Yishan Wong** - Formerly worked at PayPal and later became the CEO of Reddit.\n",
      "6. **David Sacks** - Former COO of PayPal who later founded Yammer and Craft Ventures.\n",
      "7. **Jeremy Stoppelman** - Former VP of Engineering at PayPal and co-founder of Yelp.\n",
      "\n",
      "The \"mafia\" nickname highlights both the close-knit nature of the group and their significant influence in the tech world. They are known for supporting one another in various startups and venture capital endeavors, contributing to each other's successes in a business landscape that thrives on networking and relationships.\n"
     ]
    }
   ],
   "source": [
    "await main_()"
   ]
  },
  {
   "cell_type": "markdown",
   "metadata": {},
   "source": []
  },
  {
   "cell_type": "markdown",
   "metadata": {},
   "source": [
    "## Tools\n",
    "- There are a number of ways to register tools with an agent:\n",
    "\n",
    "   - via the @agent.tool decorator — for tools that need access to the agent context\n",
    "   - via the @agent.tool_plain decorator — for tools that do not need access to the agent context\n",
    "   - via the tools keyword argument to Agent which can take either plain functions, or instances of Tool"
   ]
  },
  {
   "cell_type": "code",
   "execution_count": 35,
   "metadata": {},
   "outputs": [
    {
     "name": "stdout",
     "output_type": "stream",
     "text": [
      "Hello Anne! The die was rolled, and the result is 3. You guessed 4, which is close, but not the exact number. Would you like to try again?\n"
     ]
    }
   ],
   "source": [
    "# code from pydantic-ai\n",
    "import random\n",
    "\n",
    "from pydantic_ai import Agent, RunContext, Tool\n",
    "\n",
    "\n",
    "def roll_die() -> str:\n",
    "    \"\"\"Roll a six-sided die and return the result.\"\"\"\n",
    "    return str(random.randint(1, 6))\n",
    "\n",
    "\n",
    "def get_player_name(ctx: RunContext[str]) -> str:\n",
    "    \"\"\"Get the player's name.\"\"\"\n",
    "    return ctx.deps\n",
    "\n",
    "\n",
    "agent_a = Agent(\n",
    "    'openai:gpt-4o',\n",
    "    deps_type=str,\n",
    "    tools=[roll_die, get_player_name],  \n",
    ")\n",
    "agent_b = Agent(\n",
    "    'openai:gpt-4o',\n",
    "    deps_type=str,\n",
    "    tools=[  \n",
    "        Tool(roll_die, takes_ctx=False),\n",
    "        Tool(get_player_name, takes_ctx=True),\n",
    "    ],\n",
    ")\n",
    "dice_result = agent_b.run_sync('My guess is 4', deps='Anne')\n",
    "print(dice_result.data)"
   ]
  },
  {
   "cell_type": "code",
   "execution_count": null,
   "metadata": {},
   "outputs": [],
   "source": []
  },
  {
   "cell_type": "markdown",
   "metadata": {},
   "source": []
  },
  {
   "cell_type": "markdown",
   "metadata": {},
   "source": []
  }
 ],
 "metadata": {
  "kernelspec": {
   "display_name": "Python 3",
   "language": "python",
   "name": "python3"
  },
  "language_info": {
   "codemirror_mode": {
    "name": "ipython",
    "version": 3
   },
   "file_extension": ".py",
   "mimetype": "text/x-python",
   "name": "python",
   "nbconvert_exporter": "python",
   "pygments_lexer": "ipython3",
   "version": "3.10.0"
  }
 },
 "nbformat": 4,
 "nbformat_minor": 2
}
