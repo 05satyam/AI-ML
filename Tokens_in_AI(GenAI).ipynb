{
  "nbformat": 4,
  "nbformat_minor": 0,
  "metadata": {
    "colab": {
      "provenance": [],
      "authorship_tag": "ABX9TyNvlZ1xXt5Spz4CK8yCref7",
      "include_colab_link": true
    },
    "kernelspec": {
      "name": "python3",
      "display_name": "Python 3"
    },
    "language_info": {
      "name": "python"
    }
  },
  "cells": [
    {
      "cell_type": "markdown",
      "metadata": {
        "id": "view-in-github",
        "colab_type": "text"
      },
      "source": [
        "<a href=\"https://colab.research.google.com/github/05satyam/AI-ML/blob/main/Tokens_in_AI(GenAI).ipynb\" target=\"_parent\"><img src=\"https://colab.research.google.com/assets/colab-badge.svg\" alt=\"Open In Colab\"/></a>"
      ]
    },
    {
      "cell_type": "markdown",
      "source": [
        "# 📝 What is a token??"
      ],
      "metadata": {
        "id": "TijXaDQMyNey"
      }
    },
    {
      "cell_type": "markdown",
      "source": [
        "- Tokens are the  fundamental unit of text data that models use to understand and process language.\n",
        "\n",
        "- Tokens are typically words, characters, or subwords, depending on how the model’s tokenizer splits the input text.\n",
        "\n",
        "- Example: For the sentence \"Hello, world!\" tokenization might produce [\"Hello\", \",\", \"world\", \"!\"],  \n",
        "\n",
        "- Each token represents a unit of meaning\n",
        "\n",
        "### In case of LLMs:\n",
        "\n",
        "- When you send a request to a LLM and getting a resposne back then this exchant is dong via **token**, hence **tokens** are the currency of LLMs\n",
        "\n",
        "\n",
        "- Try out: [OpenAI tokennizer online](https://platform.openai.com/tokenizer)\n",
        "\n",
        "\n",
        "- Roughly : 100 token can be almost equal to 75 words as per above link.\n",
        "\n",
        "- More tokens mean larger input sizes, which affects both model speed and cost.\n",
        "\n",
        "- ## Context window:\n",
        " - Max number of token you can send in a request\n",
        " - Token count decide the cost of each and every request\n",
        " - Since many GenAI models operate on a per-token pricing model, reducing token count can help optimize performance costs.\n",
        "\n",
        "- **Note:** Every LLMs have different size of token count/token pricing and Context Window"
      ],
      "metadata": {
        "id": "5jmO9I9cwSAZ"
      }
    },
    {
      "cell_type": "markdown",
      "source": [
        "### To calculate the number of tokens in a request for an OpenAI model, you can use the tiktoken library"
      ],
      "metadata": {
        "id": "_I6HhTEDzgYS"
      }
    },
    {
      "cell_type": "code",
      "source": [
        "!pip install tiktoken"
      ],
      "metadata": {
        "id": "q9sYFgAWzfhu"
      },
      "execution_count": 2,
      "outputs": []
    },
    {
      "cell_type": "code",
      "execution_count": 8,
      "metadata": {
        "id": "mbVIh9NmwRje"
      },
      "outputs": [],
      "source": [
        "import tiktoken\n",
        "\n",
        "def count_tokens_by_model(text, models=[\"gpt-3.5-turbo\", \"gpt-4\", \"text-davinci-003\"]):\n",
        "    token_counts = {}\n",
        "    for model in models:\n",
        "        encoding = tiktoken.encoding_for_model(model)\n",
        "        num_tokens = len(encoding.encode(text))\n",
        "        token_counts[model] = num_tokens\n",
        "    return token_counts\n"
      ]
    },
    {
      "cell_type": "code",
      "source": [
        "text_input = \"Satyam, this is a test to see how many tokens are in this sentence across different models.\"\n",
        "models_to_compare = [\"gpt-3.5-turbo\", \"gpt-4\", \"text-davinci-003\"] #Change this to \"gpt-4\" or any other model as needed\n",
        "tokens_per_model = count_tokens_by_model(text_input, models_to_compare)\n",
        "\n",
        "for model, token_count in tokens_per_model.items():\n",
        "    print(f\"{model} token count: {token_count}\")"
      ],
      "metadata": {
        "colab": {
          "base_uri": "https://localhost:8080/"
        },
        "id": "NluiRLv40PS1",
        "outputId": "d79054d5-73bc-4282-98a9-d90988a01454"
      },
      "execution_count": 9,
      "outputs": [
        {
          "output_type": "stream",
          "name": "stdout",
          "text": [
            "gpt-3.5-turbo token count: 21\n",
            "gpt-4 token count: 21\n",
            "text-davinci-003 token count: 21\n"
          ]
        }
      ]
    },
    {
      "cell_type": "markdown",
      "source": [
        "Similar implementations can be done for other LLMs like cluade, cohere etc... based on the documentations of the models."
      ],
      "metadata": {
        "id": "t9RyaDQP1ADd"
      }
    }
  ]
}