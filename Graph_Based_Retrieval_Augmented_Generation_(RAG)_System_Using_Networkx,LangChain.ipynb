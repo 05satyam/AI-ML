{
  "nbformat": 4,
  "nbformat_minor": 0,
  "metadata": {
    "colab": {
      "provenance": [],
      "authorship_tag": "ABX9TyPQ0P/YKZpCsTRtfAbebckn",
      "include_colab_link": true
    },
    "kernelspec": {
      "name": "python3",
      "display_name": "Python 3"
    },
    "language_info": {
      "name": "python"
    },
    "widgets": {
      "application/vnd.jupyter.widget-state+json": {
        "40181fd77ec64d20ba621c070a121179": {
          "model_module": "@jupyter-widgets/controls",
          "model_name": "HBoxModel",
          "model_module_version": "1.5.0",
          "state": {
            "_dom_classes": [],
            "_model_module": "@jupyter-widgets/controls",
            "_model_module_version": "1.5.0",
            "_model_name": "HBoxModel",
            "_view_count": null,
            "_view_module": "@jupyter-widgets/controls",
            "_view_module_version": "1.5.0",
            "_view_name": "HBoxView",
            "box_style": "",
            "children": [
              "IPY_MODEL_7e67487830444ca986e8eb0c2b7d5744",
              "IPY_MODEL_533c169914554155bc2eb75d53959686",
              "IPY_MODEL_d751cefa5bb748e3944fd8ebefe78011"
            ],
            "layout": "IPY_MODEL_7dac85884282414b8d1979666d05dade"
          }
        },
        "7e67487830444ca986e8eb0c2b7d5744": {
          "model_module": "@jupyter-widgets/controls",
          "model_name": "HTMLModel",
          "model_module_version": "1.5.0",
          "state": {
            "_dom_classes": [],
            "_model_module": "@jupyter-widgets/controls",
            "_model_module_version": "1.5.0",
            "_model_name": "HTMLModel",
            "_view_count": null,
            "_view_module": "@jupyter-widgets/controls",
            "_view_module_version": "1.5.0",
            "_view_name": "HTMLView",
            "description": "",
            "description_tooltip": null,
            "layout": "IPY_MODEL_ad10e112053647dda0ccfce06dccc558",
            "placeholder": "​",
            "style": "IPY_MODEL_eb33ac52a57b43b4985aca9184221dc1",
            "value": "Computing transition probabilities: 100%"
          }
        },
        "533c169914554155bc2eb75d53959686": {
          "model_module": "@jupyter-widgets/controls",
          "model_name": "FloatProgressModel",
          "model_module_version": "1.5.0",
          "state": {
            "_dom_classes": [],
            "_model_module": "@jupyter-widgets/controls",
            "_model_module_version": "1.5.0",
            "_model_name": "FloatProgressModel",
            "_view_count": null,
            "_view_module": "@jupyter-widgets/controls",
            "_view_module_version": "1.5.0",
            "_view_name": "ProgressView",
            "bar_style": "success",
            "description": "",
            "description_tooltip": null,
            "layout": "IPY_MODEL_eb392ca68912455ca92edcbe73eb15ae",
            "max": 4,
            "min": 0,
            "orientation": "horizontal",
            "style": "IPY_MODEL_031df3e39d1c463785bb577a047dbc48",
            "value": 4
          }
        },
        "d751cefa5bb748e3944fd8ebefe78011": {
          "model_module": "@jupyter-widgets/controls",
          "model_name": "HTMLModel",
          "model_module_version": "1.5.0",
          "state": {
            "_dom_classes": [],
            "_model_module": "@jupyter-widgets/controls",
            "_model_module_version": "1.5.0",
            "_model_name": "HTMLModel",
            "_view_count": null,
            "_view_module": "@jupyter-widgets/controls",
            "_view_module_version": "1.5.0",
            "_view_name": "HTMLView",
            "description": "",
            "description_tooltip": null,
            "layout": "IPY_MODEL_a39b0a3234904615b1bd625d91f27b59",
            "placeholder": "​",
            "style": "IPY_MODEL_9ecc625fd0dc4ee1ac0c9d302c0d18f3",
            "value": " 4/4 [00:00&lt;00:00, 200.44it/s]"
          }
        },
        "7dac85884282414b8d1979666d05dade": {
          "model_module": "@jupyter-widgets/base",
          "model_name": "LayoutModel",
          "model_module_version": "1.2.0",
          "state": {
            "_model_module": "@jupyter-widgets/base",
            "_model_module_version": "1.2.0",
            "_model_name": "LayoutModel",
            "_view_count": null,
            "_view_module": "@jupyter-widgets/base",
            "_view_module_version": "1.2.0",
            "_view_name": "LayoutView",
            "align_content": null,
            "align_items": null,
            "align_self": null,
            "border": null,
            "bottom": null,
            "display": null,
            "flex": null,
            "flex_flow": null,
            "grid_area": null,
            "grid_auto_columns": null,
            "grid_auto_flow": null,
            "grid_auto_rows": null,
            "grid_column": null,
            "grid_gap": null,
            "grid_row": null,
            "grid_template_areas": null,
            "grid_template_columns": null,
            "grid_template_rows": null,
            "height": null,
            "justify_content": null,
            "justify_items": null,
            "left": null,
            "margin": null,
            "max_height": null,
            "max_width": null,
            "min_height": null,
            "min_width": null,
            "object_fit": null,
            "object_position": null,
            "order": null,
            "overflow": null,
            "overflow_x": null,
            "overflow_y": null,
            "padding": null,
            "right": null,
            "top": null,
            "visibility": null,
            "width": null
          }
        },
        "ad10e112053647dda0ccfce06dccc558": {
          "model_module": "@jupyter-widgets/base",
          "model_name": "LayoutModel",
          "model_module_version": "1.2.0",
          "state": {
            "_model_module": "@jupyter-widgets/base",
            "_model_module_version": "1.2.0",
            "_model_name": "LayoutModel",
            "_view_count": null,
            "_view_module": "@jupyter-widgets/base",
            "_view_module_version": "1.2.0",
            "_view_name": "LayoutView",
            "align_content": null,
            "align_items": null,
            "align_self": null,
            "border": null,
            "bottom": null,
            "display": null,
            "flex": null,
            "flex_flow": null,
            "grid_area": null,
            "grid_auto_columns": null,
            "grid_auto_flow": null,
            "grid_auto_rows": null,
            "grid_column": null,
            "grid_gap": null,
            "grid_row": null,
            "grid_template_areas": null,
            "grid_template_columns": null,
            "grid_template_rows": null,
            "height": null,
            "justify_content": null,
            "justify_items": null,
            "left": null,
            "margin": null,
            "max_height": null,
            "max_width": null,
            "min_height": null,
            "min_width": null,
            "object_fit": null,
            "object_position": null,
            "order": null,
            "overflow": null,
            "overflow_x": null,
            "overflow_y": null,
            "padding": null,
            "right": null,
            "top": null,
            "visibility": null,
            "width": null
          }
        },
        "eb33ac52a57b43b4985aca9184221dc1": {
          "model_module": "@jupyter-widgets/controls",
          "model_name": "DescriptionStyleModel",
          "model_module_version": "1.5.0",
          "state": {
            "_model_module": "@jupyter-widgets/controls",
            "_model_module_version": "1.5.0",
            "_model_name": "DescriptionStyleModel",
            "_view_count": null,
            "_view_module": "@jupyter-widgets/base",
            "_view_module_version": "1.2.0",
            "_view_name": "StyleView",
            "description_width": ""
          }
        },
        "eb392ca68912455ca92edcbe73eb15ae": {
          "model_module": "@jupyter-widgets/base",
          "model_name": "LayoutModel",
          "model_module_version": "1.2.0",
          "state": {
            "_model_module": "@jupyter-widgets/base",
            "_model_module_version": "1.2.0",
            "_model_name": "LayoutModel",
            "_view_count": null,
            "_view_module": "@jupyter-widgets/base",
            "_view_module_version": "1.2.0",
            "_view_name": "LayoutView",
            "align_content": null,
            "align_items": null,
            "align_self": null,
            "border": null,
            "bottom": null,
            "display": null,
            "flex": null,
            "flex_flow": null,
            "grid_area": null,
            "grid_auto_columns": null,
            "grid_auto_flow": null,
            "grid_auto_rows": null,
            "grid_column": null,
            "grid_gap": null,
            "grid_row": null,
            "grid_template_areas": null,
            "grid_template_columns": null,
            "grid_template_rows": null,
            "height": null,
            "justify_content": null,
            "justify_items": null,
            "left": null,
            "margin": null,
            "max_height": null,
            "max_width": null,
            "min_height": null,
            "min_width": null,
            "object_fit": null,
            "object_position": null,
            "order": null,
            "overflow": null,
            "overflow_x": null,
            "overflow_y": null,
            "padding": null,
            "right": null,
            "top": null,
            "visibility": null,
            "width": null
          }
        },
        "031df3e39d1c463785bb577a047dbc48": {
          "model_module": "@jupyter-widgets/controls",
          "model_name": "ProgressStyleModel",
          "model_module_version": "1.5.0",
          "state": {
            "_model_module": "@jupyter-widgets/controls",
            "_model_module_version": "1.5.0",
            "_model_name": "ProgressStyleModel",
            "_view_count": null,
            "_view_module": "@jupyter-widgets/base",
            "_view_module_version": "1.2.0",
            "_view_name": "StyleView",
            "bar_color": null,
            "description_width": ""
          }
        },
        "a39b0a3234904615b1bd625d91f27b59": {
          "model_module": "@jupyter-widgets/base",
          "model_name": "LayoutModel",
          "model_module_version": "1.2.0",
          "state": {
            "_model_module": "@jupyter-widgets/base",
            "_model_module_version": "1.2.0",
            "_model_name": "LayoutModel",
            "_view_count": null,
            "_view_module": "@jupyter-widgets/base",
            "_view_module_version": "1.2.0",
            "_view_name": "LayoutView",
            "align_content": null,
            "align_items": null,
            "align_self": null,
            "border": null,
            "bottom": null,
            "display": null,
            "flex": null,
            "flex_flow": null,
            "grid_area": null,
            "grid_auto_columns": null,
            "grid_auto_flow": null,
            "grid_auto_rows": null,
            "grid_column": null,
            "grid_gap": null,
            "grid_row": null,
            "grid_template_areas": null,
            "grid_template_columns": null,
            "grid_template_rows": null,
            "height": null,
            "justify_content": null,
            "justify_items": null,
            "left": null,
            "margin": null,
            "max_height": null,
            "max_width": null,
            "min_height": null,
            "min_width": null,
            "object_fit": null,
            "object_position": null,
            "order": null,
            "overflow": null,
            "overflow_x": null,
            "overflow_y": null,
            "padding": null,
            "right": null,
            "top": null,
            "visibility": null,
            "width": null
          }
        },
        "9ecc625fd0dc4ee1ac0c9d302c0d18f3": {
          "model_module": "@jupyter-widgets/controls",
          "model_name": "DescriptionStyleModel",
          "model_module_version": "1.5.0",
          "state": {
            "_model_module": "@jupyter-widgets/controls",
            "_model_module_version": "1.5.0",
            "_model_name": "DescriptionStyleModel",
            "_view_count": null,
            "_view_module": "@jupyter-widgets/base",
            "_view_module_version": "1.2.0",
            "_view_name": "StyleView",
            "description_width": ""
          }
        }
      }
    }
  },
  "cells": [
    {
      "cell_type": "markdown",
      "metadata": {
        "id": "view-in-github",
        "colab_type": "text"
      },
      "source": [
        "<a href=\"https://colab.research.google.com/github/05satyam/AI-ML/blob/main/Graph_Based_Retrieval_Augmented_Generation_(RAG)_System_Using_Networkx%2CLangChain.ipynb\" target=\"_parent\"><img src=\"https://colab.research.google.com/assets/colab-badge.svg\" alt=\"Open In Colab\"/></a>"
      ]
    },
    {
      "cell_type": "markdown",
      "source": [
        "In this notebook, I've implemented a graph-based Retrieval-Augmented Generation (RAG) system using LangChain. By building a knowledge graph from our documents and creating a custom retriever that leverages graph embeddings, we've enhanced the retrieval process. The retrieved context is then used by the language model to generate accurate and contextually relevant answers.\n",
        "\n"
      ],
      "metadata": {
        "id": "4jOTxXG3IRf1"
      }
    },
    {
      "cell_type": "markdown",
      "source": [
        "# INTRODUCTION"
      ],
      "metadata": {
        "id": "QdxRdR5FIgXi"
      }
    },
    {
      "cell_type": "markdown",
      "source": [
        "**Retrieval-Augmented Generation (RAG)**\n",
        " - RAG is a powerful framework that enhances the capabilities of generative models by incorporating external knowledge retrieved from a dataset. By integrating graph-based methods, you can capture complex relationships within your data, leading to more accurate and contextually relevant outputs.\n",
        "\n",
        "- This guide will help you build a graph-based RAG system from scratch, combining retrieval techniques with advanced graph representations.\n",
        "\n",
        "\n",
        "---\n",
        "\n",
        "**RAG Framework Overview**\n",
        "\n",
        "Retrieval Component: Searches a knowledge base to find relevant documents or data pieces related to an input query.\n",
        "Generation Component: Uses a generative model (like GPT or T5) to produce responses conditioned on the retrieved information.\n",
        "Benefits of RAG\n",
        "\n",
        "Improved Accuracy: Incorporates up-to-date and specific information.\n",
        "Contextual Responses: Generates answers that are more relevant to the query context.\n",
        "\n",
        "\n",
        "---\n",
        "\n",
        "**Advantages of Graph-Based Retrieval**\n",
        "\n",
        "Capturing Relationships: Graphs represent entities and their relationships, enabling the model to understand context better.\n",
        "Semantic Understanding: Graph structures can encode semantic similarities and hierarchies.\n",
        "Efficient Traversal: Graph algorithms can efficiently find relevant subgraphs or paths related to a query.\n",
        "\n",
        "---\n",
        "\n",
        "**Building the Graph**\n",
        " - a. Define Graph Components\n",
        "\n",
        "    - Nodes: Represent entities, concepts, or documents.\n",
        "    - Edges: Represent relationships between nodes (e.g., \"author of,\" \"related to\").\n",
        "\n",
        " - b. Construct the Graph from scratch\n",
        "Use NetworkX or DGL to build the graph structure.\n",
        "\n",
        "\n",
        "---\n",
        "\n",
        "### Technical Requirements\n",
        " - Programming Language: Python 3.7 or higher.\n",
        " - Libraries and Tools:\n",
        "    - langchain\n",
        "    - networkx for graph operations.\n",
        "    - Build graph using networkx or use neo4j or graphdb for graph databases (optional).\n",
        "    - transformers for language models.\n",
        "    - faiss or annoy for similarity search (optional).\n",
        " - Accounts:\n",
        "   - OpenAI API key or access to another LLM provider supported by LangChain.\n"
      ],
      "metadata": {
        "id": "GJnMKzurIjJS"
      }
    },
    {
      "cell_type": "code",
      "execution_count": null,
      "metadata": {
        "id": "pb7h0pvLycIX"
      },
      "outputs": [],
      "source": [
        "%pip install langchain==0.0.200\n",
        "\n",
        "%pip install networkx #for graph operations\n",
        "%pip install faiss-cpu\n",
        "%pip install node2vec\n"
      ]
    },
    {
      "cell_type": "code",
      "source": [
        "!pip install spacy\n",
        "!python -m spacy download en_core_web_sm"
      ],
      "metadata": {
        "id": "HtYy63ipyfXq"
      },
      "execution_count": null,
      "outputs": []
    },
    {
      "cell_type": "code",
      "source": [
        "import os\n",
        "import spacy\n",
        "import faiss\n",
        "import numpy as np\n",
        "import networkx as nx\n",
        "from typing import List\n",
        "from langchain.llms import OpenAI\n",
        "from langchain.chains import RetrievalQA\n",
        "from langchain.prompts import PromptTemplate\n",
        "from langchain.embeddings.openai import OpenAIEmbeddings\n",
        "from langchain.schema import BaseRetriever\n"
      ],
      "metadata": {
        "id": "g_S8JwzczALl"
      },
      "execution_count": 3,
      "outputs": []
    },
    {
      "cell_type": "code",
      "source": [
        "documents = [\n",
        "    \"Transformers are a type of neural network architecture that have been used for NLP tasks.\",\n",
        "    \"Graph Neural Networks can capture dependencies in graph-structured data.\",\n",
        "    \"The GPT models are developed by OpenAI and are used for text generation.\",\n",
        "    \"Machine learning involves training models on data.\",\n",
        "    \"Deep learning is a subset of machine learning that uses neural networks.\"\n",
        "]\n",
        "nlp = spacy.load('en_core_web_sm')\n",
        "\n",
        "# Preprocess documents and extract entities\n",
        "processed_docs = []\n"
      ],
      "metadata": {
        "id": "7zjXOYxKzGFz"
      },
      "execution_count": 4,
      "outputs": []
    },
    {
      "cell_type": "code",
      "source": [
        "for doc in documents:\n",
        "  spacy_doc=nlp(doc)\n",
        "  entities = [(ent.text, ent.label_) for ent in spacy_doc.ents]\n",
        "  print(entities)\n",
        "  processed_docs.append({'text': doc, 'entities': entities})"
      ],
      "metadata": {
        "colab": {
          "base_uri": "https://localhost:8080/"
        },
        "id": "f_7YsL7kzLqv",
        "outputId": "4b1b81cb-4b04-4b69-b429-338c2bf0c2cb"
      },
      "execution_count": 5,
      "outputs": [
        {
          "output_type": "stream",
          "name": "stdout",
          "text": [
            "[('NLP', 'ORG')]\n",
            "[('Graph Neural Networks', 'ORG')]\n",
            "[('GPT', 'ORG'), ('OpenAI', 'GPE')]\n",
            "[]\n",
            "[]\n"
          ]
        }
      ]
    },
    {
      "cell_type": "markdown",
      "source": [
        " # Building the Knowledge Graph"
      ],
      "metadata": {
        "id": "kIo61IGlzgat"
      }
    },
    {
      "cell_type": "code",
      "source": [
        "G=nx.Graph()"
      ],
      "metadata": {
        "id": "R8I9Mf6yzjSj"
      },
      "execution_count": 6,
      "outputs": []
    },
    {
      "cell_type": "markdown",
      "source": [
        "## Add Nodes and Edges"
      ],
      "metadata": {
        "id": "OIS-5YUmzoTK"
      }
    },
    {
      "cell_type": "code",
      "source": [
        "for doc in processed_docs:\n",
        "  entities=doc['entities']\n",
        "  print(entities)\n",
        "  # Add nodes\n",
        "  for entity in entities:\n",
        "    G.add_node(entity[0], label=entity[1])\n",
        "\n",
        "  # Add edges\n",
        "  for i in range(len(entities)):\n",
        "    for j in range(i+1, len(entities)):\n",
        "      G.add_edge(entities[i][0], entities[j][0])"
      ],
      "metadata": {
        "colab": {
          "base_uri": "https://localhost:8080/"
        },
        "id": "1xeWFd0NzpIY",
        "outputId": "8a1d6bbc-7712-4f27-f490-7a5a91cd66c9"
      },
      "execution_count": 7,
      "outputs": [
        {
          "output_type": "stream",
          "name": "stdout",
          "text": [
            "[('NLP', 'ORG')]\n",
            "[('Graph Neural Networks', 'ORG')]\n",
            "[('GPT', 'ORG'), ('OpenAI', 'GPE')]\n",
            "[]\n",
            "[]\n"
          ]
        }
      ]
    },
    {
      "cell_type": "markdown",
      "source": [
        "## Visualize the Graph (Optional)"
      ],
      "metadata": {
        "id": "Aa2i1Wtf0P-F"
      }
    },
    {
      "cell_type": "code",
      "source": [
        "import matplotlib.pyplot as plt\n",
        "plt.figure(figsize=(3,3))\n",
        "pos=nx.spring_layout(G)\n",
        "nx.draw(G, pos, with_labels=True)\n",
        "plt.show()"
      ],
      "metadata": {
        "colab": {
          "base_uri": "https://localhost:8080/",
          "height": 337
        },
        "id": "lJ6e-eWZ0Q6U",
        "outputId": "13d47d01-982e-4c9d-bf9b-35b95c5ff28e"
      },
      "execution_count": 8,
      "outputs": [
        {
          "output_type": "display_data",
          "data": {
            "text/plain": [
              "<Figure size 300x300 with 1 Axes>"
            ],
            "image/png": "[encoded data removed]"
          },
          "metadata": {}
        }
      ]
    },
    {
      "cell_type": "markdown",
      "source": [
        "# Implementing the Graph-Based Retriever"
      ],
      "metadata": {
        "id": "QHaznAK90lbU"
      }
    },
    {
      "cell_type": "markdown",
      "source": [
        " - Use Node2Vec to generate embeddings for each node in the graph.\n",
        " - Create an embedding matrix and a mapping from node names to indices.\n",
        " - Build the Faiss Index\n",
        " - Implement the Custom Retriever"
      ],
      "metadata": {
        "id": "8FySBxBK0ptd"
      }
    },
    {
      "cell_type": "markdown",
      "source": [
        "### Details about the parameters selected for node2vec\n",
        "\n",
        "### Understanding Node2Vec Parameters\n",
        "\n",
        "**Node2Vec** is an algorithm designed to learn continuous feature representations for nodes in a graph by simulating biased random walks and then applying the Skip-Gram model from **word2vec**. The main idea is to capture the network's topology and structure in the embeddings.\n",
        "\n",
        "#### Parameters in `Node2Vec` Constructor\n",
        "\n",
        "##### `dimensions=64`\n",
        "\n",
        "- **What it is**: Specifies the size of the embedding vectors (i.e., the number of features in the embedding space).\n",
        "- **Why 64**: A dimension of 64 is a common default that balances embedding quality and computational efficiency.\n",
        "- **Other possible values**: Typical values are 32, 64, 128, or 256.\n",
        "- **Criteria for choosing**:\n",
        "  - **Graph Complexity**: More complex graphs may benefit from higher-dimensional embeddings to capture intricate relationships.\n",
        "  - **Computational Resources**: Higher dimensions increase memory usage and computation time.\n",
        "  - **Downstream Tasks**: If your application (e.g., node classification, link prediction) requires capturing subtle differences between nodes, higher dimensions may be beneficial.\n",
        "\n",
        "##### `walk_length=20`\n",
        "\n",
        "- **What it is**: The number of nodes visited during each random walk.\n",
        "- **Why 20**: A walk length of 20 allows the random walk to capture both local and some global structures in the graph.\n",
        "- **Other possible values**: Values can range from 10 to 80 or more.\n",
        "- **Criteria for choosing**:\n",
        "  - **Graph Diameter**: If the graph has a large diameter (nodes are far apart), longer walks can capture more global information.\n",
        "  - **Local vs. Global Structure**: Shorter walks focus on local neighborhoods; longer walks include more distant nodes.\n",
        "  - **Performance**: Longer walks increase computation time and memory usage.\n",
        "\n",
        "##### `num_walks=100`\n",
        "\n",
        "- **What it is**: The number of walks to start from each node.\n",
        "- **Why 100**: Starting 100 walks from each node ensures a good coverage of the graph's structure.\n",
        "- **Other possible values**: Commonly range from 10 to several hundred.\n",
        "- **Criteria for choosing**:\n",
        "  - **Graph Size**: Larger graphs may require more walks to adequately sample the space.\n",
        "  - **Variance Reduction**: More walks can reduce variance in the embeddings.\n",
        "  - **Computation Time**: Increasing the number of walks increases computation time proportionally.\n",
        "\n",
        "##### `workers=4`\n",
        "\n",
        "- **What it is**: The number of parallel threads used for computation.\n",
        "- **Why 4**: Likely corresponds to the number of CPU cores available, allowing efficient parallel processing.\n",
        "- **Other possible values**: Any positive integer up to the number of CPU cores.\n",
        "- **Criteria for choosing**:\n",
        "  - **Hardware Availability**: Use the number of cores available to maximize performance.\n",
        "  - **System Load**: Be mindful of other processes; over-allocating can lead to system slowdowns.\n",
        "\n",
        "---\n",
        "\n",
        "#### Parameters in `model.fit` Method\n",
        "\n",
        "The `fit` method applies the Skip-Gram model to the generated random walks to learn embeddings.\n",
        "\n",
        "##### `window=10`\n",
        "\n",
        "- **What it is**: The maximum distance between the current node and predicted nodes within a random walk.\n",
        "- **Why 10**: A larger window size captures broader context from each random walk.\n",
        "- **Other possible values**: Typically between 2 and 10, but can be larger.\n",
        "- **Criteria for choosing**:\n",
        "  - **Contextual Information**: Larger windows consider more nodes as context, potentially capturing more structural information.\n",
        "  - **Computational Cost**: Larger windows increase the number of training examples, impacting training time.\n",
        "\n",
        "##### `min_count=1`\n",
        "\n",
        "- **What it is**: Ignores all nodes with total frequency lower than this threshold during training.\n",
        "- **Why 1**: Setting it to 1 ensures that all nodes are included in the training, even those that appear infrequently.\n",
        "- **Other possible values**: Values greater than 1 can exclude rare nodes.\n",
        "- **Criteria for choosing**:\n",
        "  - **Data Sparsity**: If some nodes are extremely rare and potentially noisy, increasing `min_count` can improve embedding quality.\n",
        "  - **Graph Coverage**: Setting `min_count` too high may exclude important nodes.\n",
        "\n",
        "##### `batch_words=4`\n",
        "\n",
        "- **What it is**: The target size (in words) for batches of examples passed to worker threads.\n",
        "- **Why 4**: A small batch size can be suitable for systems with limited memory or for smaller datasets.\n",
        "- **Other possible values**: Commonly set to 10,000 or larger.\n",
        "- **Criteria for choosing**:\n",
        "  - **Memory Constraints**: Larger batch sizes require more memory.\n",
        "  - **Training Efficiency**: Larger batches can improve computational efficiency due to vectorization.\n",
        "  - **Convergence Stability**: Smaller batches can provide more stable updates but may take longer to converge.\n",
        "\n",
        "---\n",
        "\n",
        "#### Practical Tips\n",
        "\n",
        "- **Start with Default Values**: If you're unsure, begin with commonly used defaults and adjust from there.\n",
        "- **Monitor Training**: Keep an eye on training time and resource usage; adjust parameters if training takes too long or uses too much memory.\n",
        "- **Visualize Embeddings**: Use dimensionality reduction techniques (e.g., t-SNE, UMAP) to visualize embeddings and assess their quality.\n",
        "- **Validate on Downstream Tasks**: Evaluate how well the embeddings perform on tasks like node classification to guide parameter selection.\n"
      ],
      "metadata": {
        "id": "a5ZBJ_kD3vYt"
      }
    },
    {
      "cell_type": "code",
      "source": [
        "from node2vec import Node2Vec\n",
        "node2vec=Node2Vec(G, dimensions=64, walk_length=20, num_walks=100, workers=4)\n",
        "n2v_model=node2vec.fit(window=10, min_count=1, batch_words=4)"
      ],
      "metadata": {
        "colab": {
          "base_uri": "https://localhost:8080/",
          "height": 49,
          "referenced_widgets": [
            "40181fd77ec64d20ba621c070a121179",
            "7e67487830444ca986e8eb0c2b7d5744",
            "533c169914554155bc2eb75d53959686",
            "d751cefa5bb748e3944fd8ebefe78011",
            "7dac85884282414b8d1979666d05dade",
            "ad10e112053647dda0ccfce06dccc558",
            "eb33ac52a57b43b4985aca9184221dc1",
            "eb392ca68912455ca92edcbe73eb15ae",
            "031df3e39d1c463785bb577a047dbc48",
            "a39b0a3234904615b1bd625d91f27b59",
            "9ecc625fd0dc4ee1ac0c9d302c0d18f3"
          ]
        },
        "id": "fhaIfScg05sh",
        "outputId": "a636ff0e-c722-4d7a-beea-54627d88b3a5"
      },
      "execution_count": 9,
      "outputs": [
        {
          "output_type": "display_data",
          "data": {
            "text/plain": [
              "Computing transition probabilities:   0%|          | 0/4 [00:00<?, ?it/s]"
            ],
            "application/vnd.jupyter.widget-view+json": {
              "version_major": 2,
              "version_minor": 0,
              "model_id": "40181fd77ec64d20ba621c070a121179"
            }
          },
          "metadata": {}
        }
      ]
    },
    {
      "cell_type": "code",
      "source": [
        "node2idx={node:idx for idx, node in enumerate(G.nodes())}\n",
        "idx2node={idx:node for node, idx in node2idx.items()}\n",
        "\n",
        "#create embeddings\n",
        "embeddings_dim=n2v_model.vector_size\n",
        "embedding_matrix=np.zeros((len(G.nodes()), embeddings_dim))\n",
        "for idx, node in idx2node.items():\n",
        "  embedding_matrix[idx]=n2v_model.wv[node]"
      ],
      "metadata": {
        "id": "wTELyNao0zcs"
      },
      "execution_count": 11,
      "outputs": []
    },
    {
      "cell_type": "markdown",
      "source": [
        "\n",
        "- **IndexFlatL2** is a type of index in Faiss that stores all vectors in their raw form and performs exact nearest neighbor searches. One can also use IndexHNSW\n",
        "\n",
        "---\n",
        "\n",
        "- **Flat** means the index does not use any compression or approximation; it computes exact distances, which can be computationally intensive for large datasets.\n"
      ],
      "metadata": {
        "id": "P83pNBLj5bf9"
      }
    },
    {
      "cell_type": "code",
      "source": [
        "\n",
        "\n",
        "#build faiss index\n",
        "index=faiss.IndexFlatL2(embeddings_dim)\n",
        "index.add(embedding_matrix)\n"
      ],
      "metadata": {
        "id": "6mSx19mQ0mIH"
      },
      "execution_count": 12,
      "outputs": []
    },
    {
      "cell_type": "markdown",
      "source": [
        "### Implement the Custom Retriever that uses the graph embeddings."
      ],
      "metadata": {
        "id": "sOM8b33451Iz"
      }
    },
    {
      "cell_type": "code",
      "source": [
        "from langchain.schema import Document\n",
        "class GraphRetriever(BaseRetriever):\n",
        "  def __init__(self, nlp, index, n2v_model, node2index, processed_docs):\n",
        "        self.nlp = nlp\n",
        "        self.index = index\n",
        "        self.n2v_model = n2v_model\n",
        "        self.node2index = node2index\n",
        "        self.processed_docs = processed_docs\n",
        "  def aget_relevant_documents(self): pass\n",
        "  def get_relevant_documents(self, query)->List[str]:\n",
        "    query_doc=self.nlp(query)\n",
        "    query_entities = [ent.text for ent in query_doc.ents if ent.text in self.n2v_model.wv]\n",
        "    if not query_entities:\n",
        "            return []\n",
        "    query_embeddings=np.array([self.n2v_model.wv[ent] for ent in query_entities]).astype('float32')\n",
        "    avg_query_embedding = np.mean(query_embeddings, axis=0).reshape(1, -1)\n",
        "    # Search in the index\n",
        "    k = 5  # Number of nearest neighbors\n",
        "    distances, indices = self.index.search(avg_query_embedding, k)\n",
        "    retrieved_nodes = [idx2node[idx] for idx in indices[0] if idx != -1]\n",
        "\n",
        "    # Retrieve documents containing these nodes\n",
        "    relevent_docs=[]\n",
        "    # print(f\"in retriever class : {retrieved_nodes}\")\n",
        "    for node in retrieved_nodes:\n",
        "      for doc in self.processed_docs:\n",
        "        # print(f\"doc: {doc}. , node={node}\" )\n",
        "        if node in [ent[0] for ent in doc['entities']]:\n",
        "            document = Document(\n",
        "                        page_content=doc['text'],\n",
        "                        metadata={'source_node': node}\n",
        "                    )\n",
        "            relevent_docs.append(document)\n",
        "    # Remove duplicates\n",
        "    # print(f\"in retriver class relevent_docs:{relevent_docs}\")\n",
        "    unique_docs = {doc.page_content: doc for doc in relevent_docs}\n",
        "\n",
        "    return list(unique_docs.values())\n",
        "\n"
      ],
      "metadata": {
        "id": "a1YyF7OF54Yd"
      },
      "execution_count": 13,
      "outputs": []
    },
    {
      "cell_type": "markdown",
      "source": [
        "# Integrating with the Language Model"
      ],
      "metadata": {
        "id": "0_1V61MP7-4z"
      }
    },
    {
      "cell_type": "code",
      "source": [
        "## Initialize the Language Model\n",
        "## Create the RetrievalQA Chain\n",
        "## Customize the Prompt Template (Optional)"
      ],
      "metadata": {
        "id": "rcPZmCGA7_pi"
      },
      "execution_count": null,
      "outputs": []
    },
    {
      "cell_type": "code",
      "source": [
        "import openai\n",
        "from langchain.llms import OpenAI\n",
        "retriever = GraphRetriever(\n",
        "    nlp=nlp,\n",
        "    index=index,\n",
        "    n2v_model=n2v_model,\n",
        "    node2index=node2idx,\n",
        "    processed_docs=processed_docs\n",
        ")\n",
        "# qa_chain = RetrievalQA(llm=llm, retriever=retriever)"
      ],
      "metadata": {
        "id": "c-cH3z_W8Fug"
      },
      "execution_count": 14,
      "outputs": []
    },
    {
      "cell_type": "code",
      "source": [
        "from langchain.chains import RetrievalQA\n",
        "os.environ[\"OPENAI_API_KEY\"]=\"YOUR OPENAI KEY\"\n",
        "llm = OpenAI(temperature=0.7, model_name=\"gpt-3.5-turbo\")\n",
        "\n",
        "qa_chain = RetrievalQA.from_chain_type(llm=llm, chain_type=\"stuff\",retriever=retriever)"
      ],
      "metadata": {
        "colab": {
          "base_uri": "https://localhost:8080/"
        },
        "id": "VNk_M8fR9Aep",
        "outputId": "f8233390-1053-43f3-8a3c-a5d9c3c48cbc"
      },
      "execution_count": 18,
      "outputs": [
        {
          "output_type": "stream",
          "name": "stderr",
          "text": [
            "/usr/local/lib/python3.10/dist-packages/langchain/llms/openai.py:179: UserWarning: You are trying to use a chat model. This way of initializing it is no longer supported. Instead, please use: `from langchain.chat_models import ChatOpenAI`\n",
            "  warnings.warn(\n",
            "/usr/local/lib/python3.10/dist-packages/langchain/llms/openai.py:751: UserWarning: You are trying to use a chat model. This way of initializing it is no longer supported. Instead, please use: `from langchain.chat_models import ChatOpenAI`\n",
            "  warnings.warn(\n"
          ]
        }
      ]
    },
    {
      "cell_type": "code",
      "source": [
        "# Define a custom prompt template\n",
        "prompt_template = PromptTemplate(\n",
        "    input_variables=[\"context\", \"question\"],\n",
        "    template=\"\"\"\n",
        "    Use the following context to answer the question.\n",
        "\n",
        "    Context:\n",
        "    {context}\n",
        "\n",
        "    Question:\n",
        "    {question}\n",
        "\n",
        "    Answer:\"\"\"\n",
        ")\n",
        "\n",
        "qa_chain.combine_documents_chain.llm_chain.prompt = prompt_template\n"
      ],
      "metadata": {
        "id": "ilOFgzvX9H2M"
      },
      "execution_count": 19,
      "outputs": []
    },
    {
      "cell_type": "markdown",
      "source": [
        "# Testing the System"
      ],
      "metadata": {
        "id": "H8iTp4i19KNc"
      }
    },
    {
      "cell_type": "code",
      "source": [
        "query = \"How are transformers used in NLP?\"\n",
        "answer = qa_chain.run(query)\n",
        "print(\"Question:\", query)\n",
        "print(\"\\nAnswer:\", answer)\n"
      ],
      "metadata": {
        "colab": {
          "base_uri": "https://localhost:8080/"
        },
        "id": "gPRu_9Wu9LFh",
        "outputId": "53e60ea8-48b4-4000-ec06-8db7083503dd"
      },
      "execution_count": 20,
      "outputs": [
        {
          "output_type": "stream",
          "name": "stdout",
          "text": [
            "Question: How are transformers used in NLP?\n",
            "\n",
            "Answer: Transformers are used in NLP tasks to analyze and process textual data by capturing long-range dependencies and relationships between words in a sentence. Transformers have been successful in various NLP applications such as language translation, text summarization, and sentiment analysis.\n"
          ]
        }
      ]
    },
    {
      "cell_type": "code",
      "source": [
        "query = \"How are transformers used in NLP?\"\n",
        "retrieved_docs = retriever.get_relevant_documents(query)\n",
        "print(\"\\nRetrieved Documents:\" , retrieved_docs)\n",
        "for idx, doc in enumerate(retrieved_docs):\n",
        "    print(f\"\\nDocument {idx+1}:\\n{doc}\")\n"
      ],
      "metadata": {
        "colab": {
          "base_uri": "https://localhost:8080/"
        },
        "id": "QnppUL_OAsEU",
        "outputId": "e5b2658c-8ee3-46a7-9946-50f022021349"
      },
      "execution_count": 21,
      "outputs": [
        {
          "output_type": "stream",
          "name": "stdout",
          "text": [
            "\n",
            "Retrieved Documents: [Document(page_content='Transformers are a type of neural network architecture that have been used for NLP tasks.', metadata={'source_node': 'NLP'}), Document(page_content='Graph Neural Networks can capture dependencies in graph-structured data.', metadata={'source_node': 'Graph Neural Networks'}), Document(page_content='The GPT models are developed by OpenAI and are used for text generation.', metadata={'source_node': 'OpenAI'})]\n",
            "\n",
            "Document 1:\n",
            "page_content='Transformers are a type of neural network architecture that have been used for NLP tasks.' metadata={'source_node': 'NLP'}\n",
            "\n",
            "Document 2:\n",
            "page_content='Graph Neural Networks can capture dependencies in graph-structured data.' metadata={'source_node': 'Graph Neural Networks'}\n",
            "\n",
            "Document 3:\n",
            "page_content='The GPT models are developed by OpenAI and are used for text generation.' metadata={'source_node': 'OpenAI'}\n"
          ]
        }
      ]
    }
  ]
}