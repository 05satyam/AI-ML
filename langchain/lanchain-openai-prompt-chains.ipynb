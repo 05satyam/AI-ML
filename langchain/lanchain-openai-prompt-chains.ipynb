{
 "cells": [
  {
   "cell_type": "code",
   "execution_count": 2,
   "metadata": {},
   "outputs": [],
   "source": [
    "from langchain.llms import OpenAI"
   ]
  },
  {
   "cell_type": "code",
   "execution_count": 3,
   "metadata": {},
   "outputs": [],
   "source": [
    "import os\n",
    "os.environ[\"OPENAI_API_KEY\"]=\"\""
   ]
  },
  {
   "cell_type": "code",
   "execution_count": 7,
   "metadata": {},
   "outputs": [
    {
     "name": "stderr",
     "output_type": "stream",
     "text": [
      "/Library/Frameworks/Python.framework/Versions/3.10/lib/python3.10/site-packages/langchain_core/_api/deprecation.py:117: LangChainDeprecationWarning: The class `langchain_community.llms.openai.OpenAI` was deprecated in langchain-community 0.0.10 and will be removed in 0.2.0. An updated version of the class exists in the langchain-openai package and should be used instead. To use it run `pip install -U langchain-openai` and import as `from langchain_openai import OpenAI`.\n",
      "  warn_deprecated(\n"
     ]
    }
   ],
   "source": [
    "llm=OpenAI(openai_api_key=os.environ[\"OPENAI_API_KEY\"],temperature=0.5)\n"
   ]
  },
  {
   "cell_type": "code",
   "execution_count": 8,
   "metadata": {},
   "outputs": [
    {
     "name": "stderr",
     "output_type": "stream",
     "text": [
      "/Library/Frameworks/Python.framework/Versions/3.10/lib/python3.10/site-packages/langchain_core/_api/deprecation.py:117: LangChainDeprecationWarning: The function `predict` was deprecated in LangChain 0.1.7 and will be removed in 0.2.0. Use invoke instead.\n",
      "  warn_deprecated(\n"
     ]
    },
    {
     "name": "stdout",
     "output_type": "stream",
     "text": [
      "\n",
      "\n",
      "Satyam does not have a capital as it is not a country or a state. It is a company that was founded in Hyderabad, India. The capital of India is New Delhi.\n"
     ]
    }
   ],
   "source": [
    "text=\"What is the capital of Satyam\"\n",
    "\n",
    "print(llm.predict(text))"
   ]
  },
  {
   "cell_type": "markdown",
   "metadata": {},
   "source": [
    "# Start = Prompt template and chains "
   ]
  },
  {
   "cell_type": "code",
   "execution_count": 11,
   "metadata": {},
   "outputs": [],
   "source": [
    "from langchain.prompts import PromptTemplate\n",
    "from langchain.chains import LLMChain"
   ]
  },
  {
   "cell_type": "markdown",
   "metadata": {},
   "source": [
    "## Prompt"
   ]
  },
  {
   "cell_type": "code",
   "execution_count": 16,
   "metadata": {},
   "outputs": [
    {
     "data": {
      "text/plain": [
       "'Describe as a college professor about the topic in 1 line : AI '"
      ]
     },
     "execution_count": 16,
     "metadata": {},
     "output_type": "execute_result"
    }
   ],
   "source": [
    "prompt=PromptTemplate(input_variables=[\"topic\"], template=\"Describe as a college professor about the topic in 1 line : {topic} \")\n",
    "prompt.format(topic=\"AI\")"
   ]
  },
  {
   "cell_type": "markdown",
   "metadata": {},
   "source": [
    "## One chain"
   ]
  },
  {
   "cell_type": "code",
   "execution_count": 17,
   "metadata": {},
   "outputs": [
    {
     "name": "stdout",
     "output_type": "stream",
     "text": [
      "\n",
      "\n",
      "\"Artificial intelligence is a rapidly evolving field that has the potential to revolutionize the way we live, work, and interact with technology.\"\n"
     ]
    }
   ],
   "source": [
    "chain=LLMChain(llm=llm, prompt=prompt)\n",
    "print(chain.run(\"AI\"))"
   ]
  },
  {
   "cell_type": "markdown",
   "metadata": {},
   "source": [
    "## Multiple chains\n",
    "\n",
    "### 1. Sequential chain: chain1 op--> chain2 inp---> final output, extend this as per needed good suit for chat applications\n",
    "\n"
   ]
  },
  {
   "cell_type": "code",
   "execution_count": 30,
   "metadata": {},
   "outputs": [],
   "source": [
    "chain1_explore_prompt=PromptTemplate(input_variables=[\"topic\"], template=\"As a college professor gather data about the topic in 2 line : {topic}\")\n",
    "chain2_explain_prompt=PromptTemplate(input_variables=[\"gathered_data\",\"audience_type\"], template=\"Now explain the {gathered_data} gathered data to the audience type as: {audience_type}\")\n"
   ]
  },
  {
   "cell_type": "code",
   "execution_count": 31,
   "metadata": {},
   "outputs": [],
   "source": [
    "chain1_explore=LLMChain(llm=llm,prompt=chain1_explore_prompt, output_key=\"gathered_data\")\n",
    "chain2_explain=LLMChain(llm=llm,prompt=chain2_explain_prompt, output_key=\"explanation\")"
   ]
  },
  {
   "cell_type": "code",
   "execution_count": 32,
   "metadata": {},
   "outputs": [],
   "source": [
    "from langchain.chains import SequentialChain\n",
    "sequential_chain = SequentialChain(\n",
    "    chains=[chain1_explore, chain2_explain],\n",
    "    input_variables=[\"topic\", \"audience_type\"],\n",
    "    output_variables=[\"explanation\"]\n",
    ")"
   ]
  },
  {
   "cell_type": "code",
   "execution_count": 33,
   "metadata": {},
   "outputs": [
    {
     "name": "stderr",
     "output_type": "stream",
     "text": [
      "/Library/Frameworks/Python.framework/Versions/3.10/lib/python3.10/site-packages/langchain_core/_api/deprecation.py:117: LangChainDeprecationWarning: The function `__call__` was deprecated in LangChain 0.1.0 and will be removed in 0.2.0. Use invoke instead.\n",
      "  warn_deprecated(\n"
     ]
    },
    {
     "name": "stdout",
     "output_type": "stream",
     "text": [
      "{'topic': 'AI', 'audience_type': 'BS students', 'explanation': ' in computer science, engineering, and data analysis.\\n\\n\\n3) This audience is likely already familiar with the basics of computer systems and programming, making them well-suited to understand the complexities of AI. Additionally, their academic background in these fields makes them well-equipped to handle the technical aspects of AI development.\\n\\n4) As AI continues to advance and become more integrated into our daily lives, these students will have the opportunity to work on cutting-edge projects and shape the future of this rapidly growing field. This can lead to exciting and lucrative career opportunities in industries such as healthcare, finance, and technology.\\n\\n5) However, it is important for these students to also have a strong understanding of ethical considerations surrounding AI, as well as the potential impact it may have on society. As AI becomes more prevalent, it will be crucial for professionals in this field to consider the potential consequences and ensure that AI is developed and used responsibly.\\n\\n6) By studying AI, these students will gain valuable skills and knowledge that will make them highly valuable and in-demand in the job market. They will also have the opportunity to make a significant impact on the world and shape the future of technology. '}\n"
     ]
    }
   ],
   "source": [
    "inp={\n",
    "    \"topic\":\"AI\",\n",
    "    \"audience_type\":\"BS students\"\n",
    "}\n",
    "\n",
    "op=sequential_chain(inp)\n",
    "print(op)"
   ]
  },
  {
   "cell_type": "code",
   "execution_count": 34,
   "metadata": {},
   "outputs": [
    {
     "name": "stdout",
     "output_type": "stream",
     "text": [
      " in computer science, engineering, and data analysis.\n",
      "\n",
      "\n",
      "3) This audience is likely already familiar with the basics of computer systems and programming, making them well-suited to understand the complexities of AI. Additionally, their academic background in these fields makes them well-equipped to handle the technical aspects of AI development.\n",
      "\n",
      "4) As AI continues to advance and become more integrated into our daily lives, these students will have the opportunity to work on cutting-edge projects and shape the future of this rapidly growing field. This can lead to exciting and lucrative career opportunities in industries such as healthcare, finance, and technology.\n",
      "\n",
      "5) However, it is important for these students to also have a strong understanding of ethical considerations surrounding AI, as well as the potential impact it may have on society. As AI becomes more prevalent, it will be crucial for professionals in this field to consider the potential consequences and ensure that AI is developed and used responsibly.\n",
      "\n",
      "6) By studying AI, these students will gain valuable skills and knowledge that will make them highly valuable and in-demand in the job market. They will also have the opportunity to make a significant impact on the world and shape the future of technology. \n"
     ]
    }
   ],
   "source": [
    "print(op[\"explanation\"])"
   ]
  },
  {
   "cell_type": "markdown",
   "metadata": {},
   "source": [
    "## Chatmodels With ChatOpenAI"
   ]
  },
  {
   "cell_type": "code",
   "execution_count": 35,
   "metadata": {},
   "outputs": [],
   "source": [
    "from langchain.chat_models import ChatOpenAI\n",
    "from langchain.schema import SystemMessage, HumanMessage, AIMessage\n"
   ]
  },
  {
   "cell_type": "code",
   "execution_count": 37,
   "metadata": {},
   "outputs": [
    {
     "name": "stderr",
     "output_type": "stream",
     "text": [
      "/Library/Frameworks/Python.framework/Versions/3.10/lib/python3.10/site-packages/langchain_core/_api/deprecation.py:117: LangChainDeprecationWarning: The class `langchain_community.chat_models.openai.ChatOpenAI` was deprecated in langchain-community 0.0.10 and will be removed in 0.2.0. An updated version of the class exists in the langchain-openai package and should be used instead. To use it run `pip install -U langchain-openai` and import as `from langchain_openai import ChatOpenAI`.\n",
      "  warn_deprecated(\n"
     ]
    }
   ],
   "source": [
    "chat_opneai=ChatOpenAI(openai_api_key=os.environ[\"OPENAI_API_KEY\"],temperature=0.6,model='gpt-3.5-turbo')"
   ]
  },
  {
   "cell_type": "code",
   "execution_count": 39,
   "metadata": {},
   "outputs": [
    {
     "name": "stderr",
     "output_type": "stream",
     "text": [
      "/Library/Frameworks/Python.framework/Versions/3.10/lib/python3.10/site-packages/langchain_core/_api/deprecation.py:117: LangChainDeprecationWarning: The function `__call__` was deprecated in LangChain 0.1.7 and will be removed in 0.2.0. Use invoke instead.\n",
      "  warn_deprecated(\n"
     ]
    },
    {
     "data": {
      "text/plain": [
       "AIMessage(content='1. \"I asked my AI assistant for a joke, and it replied: \\'Why did the robot go to the beach? Because it needed some \\'byte\\' and \\'sand\\' time!\\'\"\\n2. \"My AI assistant thinks it\\'s a comedian, but its jokes are so artificial, they\\'re practically made of silicon!\"\\n3. \"I told my AI assistant to make me laugh, and it said, \\'Why did the computer go to the doctor? It had a virus!\\' Looks like it needs a software update on its sense of humor!\"\\n4. \"My AI assistant tried stand-up comedy, but all its jokes fell flat. I guess it\\'s more suited for sitting down comedy!\"\\n5. \"I asked my AI assistant if it could tell me a joke about artificial intelligence. It replied, \\'Sure, but I\\'ll need to process that request first...\\'\"', response_metadata={'token_usage': {'completion_tokens': 176, 'prompt_tokens': 27, 'total_tokens': 203}, 'model_name': 'gpt-3.5-turbo', 'system_fingerprint': None, 'finish_reason': 'stop', 'logprobs': None}, id='run-4fa78129-7435-4adc-a21e-79f37302cd33-0')"
      ]
     },
     "execution_count": 39,
     "metadata": {},
     "output_type": "execute_result"
    }
   ],
   "source": [
    "chat_opneai([\n",
    "SystemMessage(content=\"Yor are a comedian AI assitant\"),\n",
    "HumanMessage(content=\"Please provide some comedy punchlines on AI\")\n",
    "])"
   ]
  }
 ],
 "metadata": {
  "kernelspec": {
   "display_name": "Python 3",
   "language": "python",
   "name": "python3"
  },
  "language_info": {
   "codemirror_mode": {
    "name": "ipython",
    "version": 3
   },
   "file_extension": ".py",
   "mimetype": "text/x-python",
   "name": "python",
   "nbconvert_exporter": "python",
   "pygments_lexer": "ipython3",
   "version": "3.10.0"
  }
 },
 "nbformat": 4,
 "nbformat_minor": 2
}
