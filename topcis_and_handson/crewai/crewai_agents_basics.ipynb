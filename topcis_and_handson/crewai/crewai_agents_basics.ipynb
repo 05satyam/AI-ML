{
 "cells": [
  {
   "cell_type": "markdown",
   "metadata": {},
   "source": [
    "# CrewAI - Multi-Agent Assistant Demo\n",
    "\n",
    "This notebook demonstrates how to use [CrewAI](https://docs.crewai.com/) to build a collaborative multi-agent system. Our agents will work together to search the web, summarize content, and generate a final report on **Generative AI trends**."
   ]
  },
  {
   "cell_type": "markdown",
   "id": "8d67a4be",
   "metadata": {},
   "source": [
    "## Breif introduction to crew ai\n",
    "\n",
    "- It is a lightweight Python library for building **agent-based systems** where multiple agents collaborate on a task. Inspired by real-world team dynamics, it allows developers to build AI systems with **modular, task-driven, and role-based architecture**.\n",
    "\n",
    "### Core Concepts\n",
    "\n",
    "| Concept    | Description |\n",
    "|------------|-------------|\n",
    "| **Agent**  | An LLM-powered unit with a `role`, `goal`, and `backstory`. Handles one or more tasks. |\n",
    "| **Task**   | A unit of work to be handled by a specific agent. Has a `description` and `expected_output`. |\n",
    "| **Crew**   | A team of agents organized in a logical sequence to complete a workflow. |\n",
    "| **Tools**  | External actions the agent can use — e.g., web search, file reader, code executor. |\n",
    "| **Memory** | Agent can retain conversation or task-specific state across steps (coming soon). |\n"
   ]
  },
  {
   "cell_type": "markdown",
   "metadata": {},
   "source": [
    "## Step 1: Install Dependencies"
   ]
  },
  {
   "cell_type": "code",
   "execution_count": null,
   "metadata": {},
   "outputs": [],
   "source": [
    "!pip install crewai langchain openai duckduckgo-search"
   ]
  },
  {
   "cell_type": "markdown",
   "metadata": {},
   "source": [
    "## Step 2: Define Agents"
   ]
  },
  {
   "cell_type": "code",
   "execution_count": null,
   "metadata": {},
   "outputs": [],
   "source": [
    "from crewai import Agent\n",
    "from langchain.chat_models import ChatOpenAI\n",
    "\n",
    "llm = ChatOpenAI(model=\"gpt-4\", temperature=0.3)\n",
    "\n",
    "researcher = Agent(\n",
    "    role=\"Research Analyst\",\n",
    "    goal=\"Search the web and find the latest on Generative AI trends\",\n",
    "    backstory=\"Expert in sourcing AI news and research papers.\",\n",
    "    verbose=True,\n",
    "    llm=llm\n",
    ")\n",
    "\n",
    "summarizer = Agent(\n",
    "    role=\"Summarizer\",\n",
    "    goal=\"Summarize the research findings in simple, actionable insights\",\n",
    "    backstory=\"Specialist in distilling complex content.\",\n",
    "    verbose=True,\n",
    "    llm=llm\n",
    ")\n",
    "\n",
    "writer = Agent(\n",
    "    role=\"Writer\",\n",
    "    goal=\"Create a readable report from the summarized notes\",\n",
    "    backstory=\"Professional technical writer with a focus on clarity.\",\n",
    "    verbose=True,\n",
    "    llm=llm\n",
    ")"
   ]
  },
  {
   "cell_type": "markdown",
   "metadata": {},
   "source": [
    "## Step 3: Define Tasks"
   ]
  },
  {
   "cell_type": "code",
   "execution_count": null,
   "metadata": {},
   "outputs": [],
   "source": [
    "from crewai import Task\n",
    "\n",
    "task1 = Task(\n",
    "    description=\"Search for the latest developments in Generative AI in 2025.\",\n",
    "    expected_output=\"A list of top 5 developments with source links.\",\n",
    "    agent=researcher\n",
    ")\n",
    "\n",
    "task2 = Task(\n",
    "    description=\"Summarize the research output into bullet points.\",\n",
    "    expected_output=\"Concise, non-technical summary with examples.\",\n",
    "    agent=summarizer\n",
    ")\n",
    "\n",
    "task3 = Task(\n",
    "    description=\"Draft a 1-page report from the summary.\",\n",
    "    expected_output=\"Markdown-formatted report suitable for newsletter/blog.\",\n",
    "    agent=writer\n",
    ")"
   ]
  },
  {
   "cell_type": "markdown",
   "metadata": {},
   "source": [
    "## Step 4: Assemble the Crew & Run"
   ]
  },
  {
   "cell_type": "code",
   "execution_count": null,
   "metadata": {},
   "outputs": [],
   "source": [
    "from crewai import Crew\n",
    "\n",
    "crew = Crew(\n",
    "    agents=[researcher, summarizer, writer],\n",
    "    tasks=[task1, task2, task3],\n",
    "    verbose=True\n",
    ")\n",
    "\n",
    "result = crew.kickoff()\n",
    "print(result)"
   ]
  },
  {
   "cell_type": "markdown",
   "metadata": {},
   "source": [
    "## Add your OpenAI Key\n",
    "Make sure your API key is set in environment:\n",
    "\n",
    "```bash\n",
    "export OPENAI_API_KEY=your_key_here\n",
    "```"
   ]
  }
 ],
 "metadata": {
  "kernelspec": {
   "display_name": "Python 3",
   "language": "python",
   "name": "python3"
  },
  "language_info": {
   "name": "python"
  }
 },
 "nbformat": 4,
 "nbformat_minor": 5
}
